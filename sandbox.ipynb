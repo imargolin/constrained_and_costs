{
 "cells": [
  {
   "cell_type": "code",
   "execution_count": null,
   "metadata": {},
   "outputs": [],
   "source": [
    "from ada"
   ]
  },
  {
   "cell_type": "code",
   "execution_count": null,
   "metadata": {},
   "outputs": [],
   "source": [
    "y_test = pd.Series([1, 1, 1, 1, 1, 1, 1, 1, 1, 1])\n",
    "\n",
    "y_pred = pd.Series([0.1, 0.2, 0.3, 0.4, 0.5, 0.6,0.7,0.8,0.9,1])\n",
    "provider_id = pd.Series([\"a\", \"a\", \"a\", \"b\", \"b\", \"b\", \"c\", \"c\", \"c\", \"c\"])\n",
    "\n",
    "constraints = {\n",
    "    \"global_constraint\": 0.2, # The maximum ratio of \"1\" allowed in the prediction\n",
    "    \"local_constraints\": { \n",
    "        \"a\": 0.6, # The maximum ratio of \"1\" allowed in the prediction from all rows with this provider\n",
    "        \"b\": 1.0, # it means this provider is not constrained\n",
    "        \"c\": 0.0 # it means we are not allowed to predict \"1\" for this provider\n",
    "    }\n",
    "}\n",
    "\n",
    "constraint = RelativeConstraint(constraints[\"global_constraint\"], constraints[\"local_constraints\"])\n",
    "loose_constraint = AbsoluteConstraint(100, {\"a\": 100, \"b\": 100, \"c\": 100})\n",
    "impossible_constraint = RelativeConstraint(0.3, {\"a\": 1.0, \"b\": 1.0, \"c\": 1.0})\n",
    "only_global_constraint = RelativeConstraint(0.3, {\"c\": 0.50})\n",
    "some_abs_constraint = AbsoluteConstraint(1, {\"c\": 2, \"b\":1})\n",
    "\n",
    "benchmark_algorithm(y_pred, provider_id, some_abs_constraint)"
   ]
  }
 ],
 "metadata": {
  "kernelspec": {
   "display_name": "ucp",
   "language": "python",
   "name": "python3"
  },
  "language_info": {
   "name": "python",
   "version": "3.11.5"
  }
 },
 "nbformat": 4,
 "nbformat_minor": 2
}
