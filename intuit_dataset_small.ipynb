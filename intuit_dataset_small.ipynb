{
 "cells": [
  {
   "cell_type": "code",
   "execution_count": 1,
   "id": "initial_id",
   "metadata": {
    "collapsed": true,
    "ExecuteTime": {
     "end_time": "2023-11-14T12:57:25.978237600Z",
     "start_time": "2023-11-14T12:57:10.776630300Z"
    }
   },
   "outputs": [
    {
     "name": "stderr",
     "output_type": "stream",
     "text": [
      "<frozen importlib._bootstrap>:219: RuntimeWarning: scipy._lib.messagestream.MessageStream size changed, may indicate binary incompatibility. Expected 56 from C header, got 64 from PyObject\n"
     ]
    },
    {
     "name": "stdout",
     "output_type": "stream",
     "text": [
      "loaded ada_csl_wrc.utils\n"
     ]
    }
   ],
   "source": [
    "from ada_csl_wrc.evaluation import evaluate\n",
    "import numpy as np\n",
    "import pandas as pd\n",
    "from sklearn.model_selection import GridSearchCV\n",
    "from sklearn.model_selection import StratifiedKFold\n",
    "\n",
    "from sklearn.model_selection import train_test_split\n",
    "\n",
    "from ada_csl_wrc.models import CostSensitiveDecisionTreeClassifier\n",
    "\n",
    "import matplotlib.pyplot as plt\n",
    "\n",
    "from sklearn.metrics import confusion_matrix\n",
    "from sklearn.tree import DecisionTreeClassifier\n",
    "from sklearn.feature_selection import mutual_info_classif\n",
    "from ada_csl_wrc.models import ConstrainedCSDecisionTree\n",
    "from ada_csl_wrc.models import Constrained\n",
    "from sklearn.model_selection import train_test_split\n",
    "from ada_csl_wrc.utils import prediction_up_to_constraint\n",
    "import pandas as pd\n",
    "from ada_csl_wrc.utils import prepare_for_cost_cle\n",
    "from ada_csl_wrc.utils import filter_only_worst_features\n",
    "from ada_csl_wrc.utils import find_effective_threshold\n",
    "import json\n",
    "import pickle\n",
    "from copy import deepcopy\n"
   ]
  },
  {
   "cell_type": "markdown",
   "source": [
    "### Hyperparameters of the experiment\n"
   ],
   "metadata": {
    "collapsed": false
   },
   "id": "d67cc41bd42d4c20"
  },
  {
   "cell_type": "code",
   "execution_count": 2,
   "outputs": [],
   "source": [
    "COST_FALSE_NEGATIVE = 10\n",
    "COST_FALSE_POSITIVE = 1\n",
    "t = COST_FALSE_POSITIVE/(COST_FALSE_POSITIVE+COST_FALSE_NEGATIVE)\n",
    "COST_MATRIX = np.array([[0, COST_FALSE_POSITIVE], [COST_FALSE_NEGATIVE, 0]])\n",
    "FEATURES_RATIO = 1.0"
   ],
   "metadata": {
    "collapsed": false,
    "ExecuteTime": {
     "end_time": "2023-11-14T12:57:26.088326100Z",
     "start_time": "2023-11-14T12:57:25.984757600Z"
    }
   },
   "id": "1112841da349cfbb"
  },
  {
   "cell_type": "code",
   "execution_count": 3,
   "outputs": [
    {
     "data": {
      "text/plain": "array([[ 0,  1],\n       [10,  0]])"
     },
     "execution_count": 3,
     "metadata": {},
     "output_type": "execute_result"
    }
   ],
   "source": [
    "COST_MATRIX"
   ],
   "metadata": {
    "collapsed": false,
    "ExecuteTime": {
     "end_time": "2023-11-14T12:57:26.295203100Z",
     "start_time": "2023-11-14T12:57:26.056523200Z"
    }
   },
   "id": "38e43de8fce54ea"
  },
  {
   "cell_type": "markdown",
   "source": [
    "### Data-specific code\n",
    "\n",
    "This part includes some data-specific code. It is not included in the final model. <br>\n",
    "The X and the y are the dataframes that are used for training and testing.\n"
   ],
   "metadata": {
    "collapsed": false
   },
   "id": "3dba877bf98aa824"
  },
  {
   "cell_type": "code",
   "execution_count": 5,
   "outputs": [],
   "source": [
    "df = pd.read_csv('./data/feature_dataset.csv')#, index_col='credentialset_id')\n"
   ],
   "metadata": {
    "collapsed": false,
    "ExecuteTime": {
     "end_time": "2023-11-14T12:58:12.533211600Z",
     "start_time": "2023-11-14T12:58:12.248606400Z"
    }
   },
   "id": "2907059672a6b149"
  },
  {
   "cell_type": "code",
   "execution_count": 6,
   "outputs": [
    {
     "data": {
      "text/plain": "                       credentialset_id prediction_date  n_updates_30d  \\\n0  0000349e-0a0f-3373-a4f1-05bce8b528b3      2023-06-02       0.260870   \n1  0000349e-0a0f-3373-a4f1-05bce8b528b3      2023-06-03       0.217391   \n2  0000349e-0a0f-3373-a4f1-05bce8b528b3      2023-06-04       0.217391   \n3  0000349e-0a0f-3373-a4f1-05bce8b528b3      2023-06-05       0.173913   \n4  0000349e-0a0f-3373-a4f1-05bce8b528b3      2023-06-06       0.173913   \n\n   mean_time_30d  max_time_30d  min_time_30d  n_updates_60d  mean_time_60d  \\\n0       4.200000             8             2       0.301887            3.0   \n1       4.750000             8             3       0.301887            3.0   \n2       4.750000             8             3       0.301887            3.0   \n3       5.333333             8             3       0.301887            3.0   \n4       5.333333             8             3       0.301887            3.0   \n\n   max_time_60d  min_time_60d  ...  max_time_120d  min_time_120d  \\\n0             8             1  ...             14              1   \n1             8             1  ...             14              1   \n2             8             1  ...             14              1   \n3             8             1  ...             14              1   \n4             8             1  ...             14              1   \n\n   provider_n_updates  provider_n_updates_weekday  n_updates_weekday  \\\n0            0.349653                    0.459135           0.730769   \n1            0.349653                    0.000000           0.000000   \n2            0.349653                    0.314904           0.115385   \n3            0.349653                    0.375000           0.576923   \n4            0.349653                    0.472500           0.560000   \n\n   n_successful_crawls  n_unsuccessful_crawls  is_last_crawl_succed  \\\n0                  3.0                    3.0                   0.0   \n1                  3.0                    4.0                   0.0   \n2                  2.0                    5.0                   0.0   \n3                  2.0                    5.0                   0.0   \n4                  2.0                    5.0                   0.0   \n\n   n_days_since_last_crawl  target  \n0                      1.0     0.0  \n1                      1.0     0.0  \n2                      1.0     0.0  \n3                      1.0     0.0  \n4                      1.0     0.0  \n\n[5 rows x 26 columns]",
      "text/html": "<div>\n<style scoped>\n    .dataframe tbody tr th:only-of-type {\n        vertical-align: middle;\n    }\n\n    .dataframe tbody tr th {\n        vertical-align: top;\n    }\n\n    .dataframe thead th {\n        text-align: right;\n    }\n</style>\n<table border=\"1\" class=\"dataframe\">\n  <thead>\n    <tr style=\"text-align: right;\">\n      <th></th>\n      <th>credentialset_id</th>\n      <th>prediction_date</th>\n      <th>n_updates_30d</th>\n      <th>mean_time_30d</th>\n      <th>max_time_30d</th>\n      <th>min_time_30d</th>\n      <th>n_updates_60d</th>\n      <th>mean_time_60d</th>\n      <th>max_time_60d</th>\n      <th>min_time_60d</th>\n      <th>...</th>\n      <th>max_time_120d</th>\n      <th>min_time_120d</th>\n      <th>provider_n_updates</th>\n      <th>provider_n_updates_weekday</th>\n      <th>n_updates_weekday</th>\n      <th>n_successful_crawls</th>\n      <th>n_unsuccessful_crawls</th>\n      <th>is_last_crawl_succed</th>\n      <th>n_days_since_last_crawl</th>\n      <th>target</th>\n    </tr>\n  </thead>\n  <tbody>\n    <tr>\n      <th>0</th>\n      <td>0000349e-0a0f-3373-a4f1-05bce8b528b3</td>\n      <td>2023-06-02</td>\n      <td>0.260870</td>\n      <td>4.200000</td>\n      <td>8</td>\n      <td>2</td>\n      <td>0.301887</td>\n      <td>3.0</td>\n      <td>8</td>\n      <td>1</td>\n      <td>...</td>\n      <td>14</td>\n      <td>1</td>\n      <td>0.349653</td>\n      <td>0.459135</td>\n      <td>0.730769</td>\n      <td>3.0</td>\n      <td>3.0</td>\n      <td>0.0</td>\n      <td>1.0</td>\n      <td>0.0</td>\n    </tr>\n    <tr>\n      <th>1</th>\n      <td>0000349e-0a0f-3373-a4f1-05bce8b528b3</td>\n      <td>2023-06-03</td>\n      <td>0.217391</td>\n      <td>4.750000</td>\n      <td>8</td>\n      <td>3</td>\n      <td>0.301887</td>\n      <td>3.0</td>\n      <td>8</td>\n      <td>1</td>\n      <td>...</td>\n      <td>14</td>\n      <td>1</td>\n      <td>0.349653</td>\n      <td>0.000000</td>\n      <td>0.000000</td>\n      <td>3.0</td>\n      <td>4.0</td>\n      <td>0.0</td>\n      <td>1.0</td>\n      <td>0.0</td>\n    </tr>\n    <tr>\n      <th>2</th>\n      <td>0000349e-0a0f-3373-a4f1-05bce8b528b3</td>\n      <td>2023-06-04</td>\n      <td>0.217391</td>\n      <td>4.750000</td>\n      <td>8</td>\n      <td>3</td>\n      <td>0.301887</td>\n      <td>3.0</td>\n      <td>8</td>\n      <td>1</td>\n      <td>...</td>\n      <td>14</td>\n      <td>1</td>\n      <td>0.349653</td>\n      <td>0.314904</td>\n      <td>0.115385</td>\n      <td>2.0</td>\n      <td>5.0</td>\n      <td>0.0</td>\n      <td>1.0</td>\n      <td>0.0</td>\n    </tr>\n    <tr>\n      <th>3</th>\n      <td>0000349e-0a0f-3373-a4f1-05bce8b528b3</td>\n      <td>2023-06-05</td>\n      <td>0.173913</td>\n      <td>5.333333</td>\n      <td>8</td>\n      <td>3</td>\n      <td>0.301887</td>\n      <td>3.0</td>\n      <td>8</td>\n      <td>1</td>\n      <td>...</td>\n      <td>14</td>\n      <td>1</td>\n      <td>0.349653</td>\n      <td>0.375000</td>\n      <td>0.576923</td>\n      <td>2.0</td>\n      <td>5.0</td>\n      <td>0.0</td>\n      <td>1.0</td>\n      <td>0.0</td>\n    </tr>\n    <tr>\n      <th>4</th>\n      <td>0000349e-0a0f-3373-a4f1-05bce8b528b3</td>\n      <td>2023-06-06</td>\n      <td>0.173913</td>\n      <td>5.333333</td>\n      <td>8</td>\n      <td>3</td>\n      <td>0.301887</td>\n      <td>3.0</td>\n      <td>8</td>\n      <td>1</td>\n      <td>...</td>\n      <td>14</td>\n      <td>1</td>\n      <td>0.349653</td>\n      <td>0.472500</td>\n      <td>0.560000</td>\n      <td>2.0</td>\n      <td>5.0</td>\n      <td>0.0</td>\n      <td>1.0</td>\n      <td>0.0</td>\n    </tr>\n  </tbody>\n</table>\n<p>5 rows × 26 columns</p>\n</div>"
     },
     "execution_count": 6,
     "metadata": {},
     "output_type": "execute_result"
    }
   ],
   "source": [
    "df.head()"
   ],
   "metadata": {
    "collapsed": false,
    "ExecuteTime": {
     "end_time": "2023-11-14T12:58:14.424225900Z",
     "start_time": "2023-11-14T12:58:14.154037200Z"
    }
   },
   "id": "65ecff313af2be46"
  },
  {
   "cell_type": "code",
   "execution_count": 9,
   "outputs": [],
   "source": [
    "provider_ids = pickle.load(open(\"data\\provider_ids.pickle\", \"rb\"))"
   ],
   "metadata": {
    "collapsed": false,
    "ExecuteTime": {
     "end_time": "2023-11-14T12:58:46.405253800Z",
     "start_time": "2023-11-14T12:58:45.441686Z"
    }
   },
   "id": "83675f6420470dd0"
  },
  {
   "cell_type": "code",
   "execution_count": 10,
   "outputs": [
    {
     "data": {
      "text/plain": "                       credentialset_id prediction_date  n_updates_30d  \\\n0  0000349e-0a0f-3373-a4f1-05bce8b528b3      2023-06-02       0.260870   \n1  0000349e-0a0f-3373-a4f1-05bce8b528b3      2023-06-03       0.217391   \n2  0000349e-0a0f-3373-a4f1-05bce8b528b3      2023-06-04       0.217391   \n3  0000349e-0a0f-3373-a4f1-05bce8b528b3      2023-06-05       0.173913   \n4  0000349e-0a0f-3373-a4f1-05bce8b528b3      2023-06-06       0.173913   \n\n   mean_time_30d  max_time_30d  min_time_30d  n_updates_60d  mean_time_60d  \\\n0       4.200000             8             2       0.301887            3.0   \n1       4.750000             8             3       0.301887            3.0   \n2       4.750000             8             3       0.301887            3.0   \n3       5.333333             8             3       0.301887            3.0   \n4       5.333333             8             3       0.301887            3.0   \n\n   max_time_60d  min_time_60d  ...  min_time_120d  provider_n_updates  \\\n0             8             1  ...              1            0.349653   \n1             8             1  ...              1            0.349653   \n2             8             1  ...              1            0.349653   \n3             8             1  ...              1            0.349653   \n4             8             1  ...              1            0.349653   \n\n   provider_n_updates_weekday  n_updates_weekday  n_successful_crawls  \\\n0                    0.459135           0.730769                  3.0   \n1                    0.000000           0.000000                  3.0   \n2                    0.314904           0.115385                  2.0   \n3                    0.375000           0.576923                  2.0   \n4                    0.472500           0.560000                  2.0   \n\n   n_unsuccessful_crawls  is_last_crawl_succed  n_days_since_last_crawl  \\\n0                    3.0                   0.0                      1.0   \n1                    4.0                   0.0                      1.0   \n2                    5.0                   0.0                      1.0   \n3                    5.0                   0.0                      1.0   \n4                    5.0                   0.0                      1.0   \n\n   target                           provider_id  \n0     0.0  867c4a38-0d75-46ff-a4c2-f44cb63be2c9  \n1     0.0  867c4a38-0d75-46ff-a4c2-f44cb63be2c9  \n2     0.0  867c4a38-0d75-46ff-a4c2-f44cb63be2c9  \n3     0.0  867c4a38-0d75-46ff-a4c2-f44cb63be2c9  \n4     0.0  867c4a38-0d75-46ff-a4c2-f44cb63be2c9  \n\n[5 rows x 27 columns]",
      "text/html": "<div>\n<style scoped>\n    .dataframe tbody tr th:only-of-type {\n        vertical-align: middle;\n    }\n\n    .dataframe tbody tr th {\n        vertical-align: top;\n    }\n\n    .dataframe thead th {\n        text-align: right;\n    }\n</style>\n<table border=\"1\" class=\"dataframe\">\n  <thead>\n    <tr style=\"text-align: right;\">\n      <th></th>\n      <th>credentialset_id</th>\n      <th>prediction_date</th>\n      <th>n_updates_30d</th>\n      <th>mean_time_30d</th>\n      <th>max_time_30d</th>\n      <th>min_time_30d</th>\n      <th>n_updates_60d</th>\n      <th>mean_time_60d</th>\n      <th>max_time_60d</th>\n      <th>min_time_60d</th>\n      <th>...</th>\n      <th>min_time_120d</th>\n      <th>provider_n_updates</th>\n      <th>provider_n_updates_weekday</th>\n      <th>n_updates_weekday</th>\n      <th>n_successful_crawls</th>\n      <th>n_unsuccessful_crawls</th>\n      <th>is_last_crawl_succed</th>\n      <th>n_days_since_last_crawl</th>\n      <th>target</th>\n      <th>provider_id</th>\n    </tr>\n  </thead>\n  <tbody>\n    <tr>\n      <th>0</th>\n      <td>0000349e-0a0f-3373-a4f1-05bce8b528b3</td>\n      <td>2023-06-02</td>\n      <td>0.260870</td>\n      <td>4.200000</td>\n      <td>8</td>\n      <td>2</td>\n      <td>0.301887</td>\n      <td>3.0</td>\n      <td>8</td>\n      <td>1</td>\n      <td>...</td>\n      <td>1</td>\n      <td>0.349653</td>\n      <td>0.459135</td>\n      <td>0.730769</td>\n      <td>3.0</td>\n      <td>3.0</td>\n      <td>0.0</td>\n      <td>1.0</td>\n      <td>0.0</td>\n      <td>867c4a38-0d75-46ff-a4c2-f44cb63be2c9</td>\n    </tr>\n    <tr>\n      <th>1</th>\n      <td>0000349e-0a0f-3373-a4f1-05bce8b528b3</td>\n      <td>2023-06-03</td>\n      <td>0.217391</td>\n      <td>4.750000</td>\n      <td>8</td>\n      <td>3</td>\n      <td>0.301887</td>\n      <td>3.0</td>\n      <td>8</td>\n      <td>1</td>\n      <td>...</td>\n      <td>1</td>\n      <td>0.349653</td>\n      <td>0.000000</td>\n      <td>0.000000</td>\n      <td>3.0</td>\n      <td>4.0</td>\n      <td>0.0</td>\n      <td>1.0</td>\n      <td>0.0</td>\n      <td>867c4a38-0d75-46ff-a4c2-f44cb63be2c9</td>\n    </tr>\n    <tr>\n      <th>2</th>\n      <td>0000349e-0a0f-3373-a4f1-05bce8b528b3</td>\n      <td>2023-06-04</td>\n      <td>0.217391</td>\n      <td>4.750000</td>\n      <td>8</td>\n      <td>3</td>\n      <td>0.301887</td>\n      <td>3.0</td>\n      <td>8</td>\n      <td>1</td>\n      <td>...</td>\n      <td>1</td>\n      <td>0.349653</td>\n      <td>0.314904</td>\n      <td>0.115385</td>\n      <td>2.0</td>\n      <td>5.0</td>\n      <td>0.0</td>\n      <td>1.0</td>\n      <td>0.0</td>\n      <td>867c4a38-0d75-46ff-a4c2-f44cb63be2c9</td>\n    </tr>\n    <tr>\n      <th>3</th>\n      <td>0000349e-0a0f-3373-a4f1-05bce8b528b3</td>\n      <td>2023-06-05</td>\n      <td>0.173913</td>\n      <td>5.333333</td>\n      <td>8</td>\n      <td>3</td>\n      <td>0.301887</td>\n      <td>3.0</td>\n      <td>8</td>\n      <td>1</td>\n      <td>...</td>\n      <td>1</td>\n      <td>0.349653</td>\n      <td>0.375000</td>\n      <td>0.576923</td>\n      <td>2.0</td>\n      <td>5.0</td>\n      <td>0.0</td>\n      <td>1.0</td>\n      <td>0.0</td>\n      <td>867c4a38-0d75-46ff-a4c2-f44cb63be2c9</td>\n    </tr>\n    <tr>\n      <th>4</th>\n      <td>0000349e-0a0f-3373-a4f1-05bce8b528b3</td>\n      <td>2023-06-06</td>\n      <td>0.173913</td>\n      <td>5.333333</td>\n      <td>8</td>\n      <td>3</td>\n      <td>0.301887</td>\n      <td>3.0</td>\n      <td>8</td>\n      <td>1</td>\n      <td>...</td>\n      <td>1</td>\n      <td>0.349653</td>\n      <td>0.472500</td>\n      <td>0.560000</td>\n      <td>2.0</td>\n      <td>5.0</td>\n      <td>0.0</td>\n      <td>1.0</td>\n      <td>0.0</td>\n      <td>867c4a38-0d75-46ff-a4c2-f44cb63be2c9</td>\n    </tr>\n  </tbody>\n</table>\n<p>5 rows × 27 columns</p>\n</div>"
     },
     "execution_count": 10,
     "metadata": {},
     "output_type": "execute_result"
    }
   ],
   "source": [
    "df_with_provider = df.join(provider_ids, on='credentialset_id')\n",
    "df_with_provider.head()"
   ],
   "metadata": {
    "collapsed": false,
    "ExecuteTime": {
     "end_time": "2023-11-14T12:58:47.826743500Z",
     "start_time": "2023-11-14T12:58:47.130325800Z"
    }
   },
   "id": "69be4c966352152f"
  },
  {
   "cell_type": "code",
   "execution_count": 11,
   "outputs": [
    {
     "data": {
      "text/plain": "867c4a38-0d75-46ff-a4c2-f44cb63be2c9    960\na12f6956-9aca-4550-8caa-2e2f9532674c    540\nb954c933-d771-4dc0-8f4f-89db56cf7266    180\nddcca177-076a-4389-b357-bc03fa194438    120\n50b5a2d8-06d1-4d8d-b8b3-2b945e7c35d6    120\n9b9f5ceb-dea2-49db-8476-4530c1b0c92d    120\n22f309a8-1746-49a7-bf6c-678729834573    120\n856f211d-c66e-4db7-b910-7419900a70e1    120\n451e185d-5ad1-469f-8c33-164884140ffc    120\n6f8bd649-7125-40a7-818b-4cc67a4863d2     60\n02531004-4599-4177-9d7d-00bc85a200c6     60\n3c705cbf-e196-40cf-a4fa-f49e5edf4255     60\n614de8cc-42e2-4afc-8490-da3c7fe5ba91     60\n324ebb81-07ca-4fa2-9235-6f023e806cdd     60\n58b25639-e6ba-4ff0-aed1-5ca66c8debb0     60\n402b1bde-d71d-4932-a514-95a2334eb586     60\n148d76c1-3e78-4581-b909-e4abd3496e12     60\nb8c85476-b870-4de4-ade1-fc8804e8b4bc     60\n63a50dc0-315c-485a-b497-c8efb89eff3f     60\n9638be39-8160-4fa6-8093-1434234885cb     60\ndc4abe91-b03f-4dd2-9987-102db5767235     60\n75f8d952-be81-4e22-951e-41b291d211f2     60\n444b0293-8056-47e0-a3c8-cd7bca4997d3     60\n172d3f92-3da0-4ad9-b8e8-12d95102b35f     60\n14c26c06-ed17-4246-bf2c-2a220d5e35dd     60\neda10dfe-931e-450d-ae43-b53618dc437d     60\ndaa22321-c750-4a84-960e-bdb6c1eae877     60\n97c690cd-1b22-426f-9fee-9987e4c6e14f     60\n2f02d16f-ace7-4604-a037-8ec0a1e2f14a     60\n3928f202-2a5b-4b60-9f41-f1b91be6a39e     60\nc5448ab4-44f3-48d8-9984-d42d66410b72     60\n862ccdd4-5e8e-4238-be44-f1e84e12b017     60\n89e6e230-1333-448b-9800-dc2d09a85e99     60\n63260486-7618-4660-9445-7e4885e99042     60\n50761787-31da-4b17-8048-c6063b614b80     60\nf10c1b75-2c77-499f-953a-d98eb5302f3d     60\nc8fa65fe-4bf6-4846-aaaa-62f8937e31bf     60\n1ed367c5-b512-48ba-ad50-85aff1582464     60\ndd3b490a-35c2-4efc-b46a-7a259f90f8d9     60\nadf08798-2d38-48c6-9e5e-87dabc450506     60\ne17e5272-baea-4a1a-a52e-5ce51ab7b627     60\n667253fe-c95e-462d-943d-7b958a9f7fc0     60\ne29158d7-2e05-424f-8e59-f153621b53af     60\n636ce067-42d0-4069-a0e5-6770da8bdb6a     60\n69618d15-8d7b-403b-9367-c40eb87d14c3     60\na0dc02cc-c56b-4931-ad79-8ed0d3bd2ffc     60\ne3326805-e1e2-4919-bd69-66b1df7090c6     60\n440252c1-df52-4462-adf4-9279effc14b7     60\nb4122aa1-50ce-4d2d-aeaf-baf2de92b45e     60\n280a19b6-a767-4e7f-b6b4-e422d6876897     60\ne4ce7ad1-e6a4-4841-8861-18baabe30c8b     60\n88355d10-e310-465b-a173-953dacf0b96d     60\nName: provider_id, dtype: int64"
     },
     "execution_count": 11,
     "metadata": {},
     "output_type": "execute_result"
    }
   ],
   "source": [
    "df_with_provider['provider_id'].value_counts()"
   ],
   "metadata": {
    "collapsed": false,
    "ExecuteTime": {
     "end_time": "2023-11-14T12:58:51.051156Z",
     "start_time": "2023-11-14T12:58:50.567933100Z"
    }
   },
   "id": "5ebeab362dba5e09"
  },
  {
   "cell_type": "code",
   "execution_count": 12,
   "outputs": [],
   "source": [
    "provider_test_mask = df_with_provider['provider_id'] == '867c4a38-0d75-46ff-a4c2-f44cb63be2c9'\n",
    "df_train = df.drop(df[provider_test_mask].index)\n",
    "df_test = df[provider_test_mask]"
   ],
   "metadata": {
    "collapsed": false,
    "ExecuteTime": {
     "end_time": "2023-11-14T12:59:03.233479100Z",
     "start_time": "2023-11-14T12:59:03.104534900Z"
    }
   },
   "id": "c7bf8c59f7978b50"
  },
  {
   "cell_type": "code",
   "execution_count": 13,
   "outputs": [
    {
     "data": {
      "text/plain": "(5040, 26)"
     },
     "execution_count": 13,
     "metadata": {},
     "output_type": "execute_result"
    }
   ],
   "source": [
    "df_train.shape"
   ],
   "metadata": {
    "collapsed": false,
    "ExecuteTime": {
     "end_time": "2023-11-14T12:59:03.817360800Z",
     "start_time": "2023-11-14T12:59:03.574152900Z"
    }
   },
   "id": "e6282269332e8022"
  },
  {
   "cell_type": "code",
   "execution_count": 14,
   "outputs": [
    {
     "data": {
      "text/plain": "(960, 26)"
     },
     "execution_count": 14,
     "metadata": {},
     "output_type": "execute_result"
    }
   ],
   "source": [
    "df_test.shape"
   ],
   "metadata": {
    "collapsed": false,
    "ExecuteTime": {
     "end_time": "2023-11-14T12:59:04.532939100Z",
     "start_time": "2023-11-14T12:59:04.203395400Z"
    }
   },
   "id": "bd207a93d6716ec7"
  },
  {
   "cell_type": "code",
   "execution_count": 15,
   "outputs": [],
   "source": [
    "X_train = df_train.drop(labels=['credentialset_id', 'prediction_date', 'target'], axis=1)\n",
    "X_test =  df_test.drop(labels='target', axis=1)\n",
    "y_train = df_train['target']\n",
    "y_test = df_test['target']"
   ],
   "metadata": {
    "collapsed": false,
    "ExecuteTime": {
     "end_time": "2023-11-14T12:59:05.743039200Z",
     "start_time": "2023-11-14T12:59:05.317623500Z"
    }
   },
   "id": "7c513a9914b17e1"
  },
  {
   "cell_type": "code",
   "execution_count": 85,
   "outputs": [
    {
     "data": {
      "text/plain": "array(['0000349e-0a0f-3373-a4f1-05bce8b528b3',\n       '00027fee-20d8-4880-8696-db72f085ac7e',\n       '00045e0c-868e-4638-8948-85894a84c03c',\n       '000565b1-8659-4b4a-b4e1-0cbd08c83935',\n       '00057f30-bff5-34e3-ad8b-e68167183af3',\n       '000c3181-ed8b-3c02-b3ce-e8009572c153',\n       '000c39c2-7861-310c-a38d-7158e7277a09',\n       '000cde40-f744-4b03-b100-242a56ad96e6',\n       '000d815f-826d-4e3f-bda7-c356e785e314',\n       '000f377d-62c9-4f82-9431-4d8366119328',\n       '000fce3f-f5ca-32b6-8ac8-7a618132b753',\n       '00104acd-78c9-338a-8e1f-3a5c7d046f35',\n       '00116a5c-3002-33ea-89ba-1f88983b311e',\n       '001497da-7162-4a28-a393-d7c28f00b129',\n       '00168874-3190-3989-bd67-021966445bf3',\n       '00172767-57f8-4a46-9fb4-0772ba34dc81'], dtype=object)"
     },
     "execution_count": 85,
     "metadata": {},
     "output_type": "execute_result"
    }
   ],
   "source": [
    "X_test['credentialset_id'].unique()"
   ],
   "metadata": {
    "collapsed": false,
    "ExecuteTime": {
     "end_time": "2023-11-13T09:05:17.135649700Z",
     "start_time": "2023-11-13T09:05:17.031388400Z"
    }
   },
   "id": "b8adf7827dec2d0"
  },
  {
   "cell_type": "code",
   "execution_count": 64,
   "outputs": [
    {
     "data": {
      "text/plain": "array(['2023-06-02', '2023-06-03', '2023-06-04', '2023-06-05',\n       '2023-06-06', '2023-06-07', '2023-06-08', '2023-06-09',\n       '2023-06-10', '2023-06-11', '2023-06-12', '2023-06-13',\n       '2023-06-14', '2023-06-15', '2023-06-16', '2023-06-17',\n       '2023-06-18', '2023-06-19', '2023-06-20', '2023-06-21',\n       '2023-06-22', '2023-06-23', '2023-06-24', '2023-06-25',\n       '2023-06-26', '2023-06-27', '2023-06-28', '2023-06-29',\n       '2023-06-30', '2023-07-01', '2023-07-02', '2023-07-03',\n       '2023-07-04', '2023-07-05', '2023-07-06', '2023-07-07',\n       '2023-07-08', '2023-07-09', '2023-07-10', '2023-07-11',\n       '2023-07-12', '2023-07-13', '2023-07-14', '2023-07-15',\n       '2023-07-16', '2023-07-17', '2023-07-18', '2023-07-19',\n       '2023-07-20', '2023-07-21', '2023-07-22', '2023-07-23',\n       '2023-07-24', '2023-07-25', '2023-07-26', '2023-07-27',\n       '2023-07-28', '2023-07-29', '2023-07-30', '2023-07-31'],\n      dtype=object)"
     },
     "execution_count": 64,
     "metadata": {},
     "output_type": "execute_result"
    }
   ],
   "source": [
    "X_test['prediction_date'].unique()"
   ],
   "metadata": {
    "collapsed": false,
    "ExecuteTime": {
     "end_time": "2023-11-13T08:34:06.508985100Z",
     "start_time": "2023-11-13T08:34:06.375721400Z"
    }
   },
   "id": "b819d5c6cd059e95"
  },
  {
   "cell_type": "code",
   "execution_count": 86,
   "outputs": [
    {
     "data": {
      "text/plain": "      n_updates_30d  mean_time_30d  max_time_30d  min_time_30d  n_updates_60d  \\\n59         0.173913       3.333333             8             1       0.150943   \n479        0.173913       6.666667             9             4       0.283019   \n839        0.565217       1.500000             4             1       0.641509   \n1199       0.000000       0.000000             0             0       0.000000   \n1259       0.652174       1.500000             4             1       0.377358   \n2939       0.434783       2.222222             6             1       0.471698   \n2999       0.173913       4.333333             8             1       0.188679   \n3059       0.608696       1.615385             3             1       0.641509   \n3179       0.130435       6.500000            10             3       0.207547   \n3479       0.391304       2.000000             5             1       0.566038   \n3719       0.173913       5.333333            11             1       0.188679   \n3959       0.000000       0.000000             0             0       0.056604   \n4259       0.086957      12.000000            12            12       0.113208   \n4859       0.782609       1.235294             2             1       0.641509   \n5219       0.739130       1.312500             2             1       0.716981   \n5279       0.521739       1.454545             3             1       0.603774   \n\n      mean_time_60d  max_time_60d  min_time_60d  n_updates_90d  mean_time_90d  \\\n59         6.285714            11             1       0.204819       5.000000   \n479        3.714286             9             1       0.216867       4.294118   \n839        1.484848             4             1       0.650602       1.490566   \n1199       0.000000             0             0       0.012048       0.000000   \n1259       2.684211            11             1       0.265060       3.095238   \n2939       2.125000             6             1       0.457831       2.216216   \n2999       5.333333            14             1       0.168675       5.923077   \n3059       1.575758             4             1       0.662651       1.518519   \n3179       4.500000            11             1       0.240964       4.000000   \n3479       1.724138             5             1       0.602410       1.632653   \n3719       5.555556            19             1       0.168675       5.615385   \n3959       8.500000            11             6       0.048193       9.333333   \n4259       8.800000            13             2       0.180723       5.500000   \n4859       1.424242             5             1       0.469880       1.921053   \n5219       1.405405             5             1       0.734940       1.366667   \n5279       1.516129             3             1       0.590361       1.604167   \n\n      ...  mean_time_120d  max_time_120d  min_time_120d  provider_n_updates  \\\n59    ...        4.120000             11              1            0.349653   \n479   ...        5.100000             14              1            0.349653   \n839   ...        1.611940              4              1            0.349653   \n1199  ...        4.200000              7              1            0.349653   \n1259  ...        4.625000             22              1            0.349653   \n2939  ...        2.055556              6              1            0.349653   \n2999  ...        5.722222             16              1            0.349653   \n3059  ...        1.473684              4              1            0.349653   \n3179  ...        3.714286             11              1            0.349653   \n3479  ...        1.594203              5              1            0.349653   \n3719  ...        5.722222             19              1            0.349653   \n3959  ...       12.833333             32              6            0.349653   \n4259  ...        5.647059             14              1            0.349653   \n4859  ...        2.400000             20              1            0.349653   \n5219  ...        1.333333              5              1            0.349653   \n5279  ...        1.514286              5              1            0.349653   \n\n      provider_n_updates_weekday  n_updates_weekday  n_successful_crawls  \\\n59                         0.375           0.576923                  1.0   \n479                        0.375           0.576923                  2.0   \n839                        0.375           0.576923                  1.0   \n1199                       0.375           0.576923                  0.0   \n1259                       0.375           0.576923                  2.0   \n2939                       0.375           0.576923                  3.0   \n2999                       0.375           0.576923                  2.0   \n3059                       0.375           0.576923                  2.0   \n3179                       0.375           0.576923                  3.0   \n3479                       0.375           0.576923                  2.0   \n3719                       0.375           0.576923                  2.0   \n3959                       0.375           0.576923                  1.0   \n4259                       0.375           0.576923                  1.0   \n4859                       0.375           0.576923                  5.0   \n5219                       0.375           0.576923                  1.0   \n5279                       0.375           0.576923                  3.0   \n\n      n_unsuccessful_crawls  is_last_crawl_succed  n_days_since_last_crawl  \n59                      0.0                   1.0                      3.0  \n479                     3.0                   0.0                      1.0  \n839                     4.0                   0.0                      1.0  \n1199                    4.0                   0.0                      1.0  \n1259                    3.0                   0.0                      1.0  \n2939                    2.0                   0.0                      1.0  \n2999                    3.0                   0.0                      2.0  \n3059                    0.0                   1.0                      3.0  \n3179                    2.0                   1.0                      1.0  \n3479                    2.0                   1.0                      1.0  \n3719                    0.0                   1.0                      1.0  \n3959                    2.0                   1.0                      3.0  \n4259                    2.0                   0.0                      1.0  \n4859                    0.0                   1.0                      1.0  \n5219                    3.0                   0.0                      1.0  \n5279                    0.0                   1.0                      2.0  \n\n[16 rows x 23 columns]",
      "text/html": "<div>\n<style scoped>\n    .dataframe tbody tr th:only-of-type {\n        vertical-align: middle;\n    }\n\n    .dataframe tbody tr th {\n        vertical-align: top;\n    }\n\n    .dataframe thead th {\n        text-align: right;\n    }\n</style>\n<table border=\"1\" class=\"dataframe\">\n  <thead>\n    <tr style=\"text-align: right;\">\n      <th></th>\n      <th>n_updates_30d</th>\n      <th>mean_time_30d</th>\n      <th>max_time_30d</th>\n      <th>min_time_30d</th>\n      <th>n_updates_60d</th>\n      <th>mean_time_60d</th>\n      <th>max_time_60d</th>\n      <th>min_time_60d</th>\n      <th>n_updates_90d</th>\n      <th>mean_time_90d</th>\n      <th>...</th>\n      <th>mean_time_120d</th>\n      <th>max_time_120d</th>\n      <th>min_time_120d</th>\n      <th>provider_n_updates</th>\n      <th>provider_n_updates_weekday</th>\n      <th>n_updates_weekday</th>\n      <th>n_successful_crawls</th>\n      <th>n_unsuccessful_crawls</th>\n      <th>is_last_crawl_succed</th>\n      <th>n_days_since_last_crawl</th>\n    </tr>\n  </thead>\n  <tbody>\n    <tr>\n      <th>59</th>\n      <td>0.173913</td>\n      <td>3.333333</td>\n      <td>8</td>\n      <td>1</td>\n      <td>0.150943</td>\n      <td>6.285714</td>\n      <td>11</td>\n      <td>1</td>\n      <td>0.204819</td>\n      <td>5.000000</td>\n      <td>...</td>\n      <td>4.120000</td>\n      <td>11</td>\n      <td>1</td>\n      <td>0.349653</td>\n      <td>0.375</td>\n      <td>0.576923</td>\n      <td>1.0</td>\n      <td>0.0</td>\n      <td>1.0</td>\n      <td>3.0</td>\n    </tr>\n    <tr>\n      <th>479</th>\n      <td>0.173913</td>\n      <td>6.666667</td>\n      <td>9</td>\n      <td>4</td>\n      <td>0.283019</td>\n      <td>3.714286</td>\n      <td>9</td>\n      <td>1</td>\n      <td>0.216867</td>\n      <td>4.294118</td>\n      <td>...</td>\n      <td>5.100000</td>\n      <td>14</td>\n      <td>1</td>\n      <td>0.349653</td>\n      <td>0.375</td>\n      <td>0.576923</td>\n      <td>2.0</td>\n      <td>3.0</td>\n      <td>0.0</td>\n      <td>1.0</td>\n    </tr>\n    <tr>\n      <th>839</th>\n      <td>0.565217</td>\n      <td>1.500000</td>\n      <td>4</td>\n      <td>1</td>\n      <td>0.641509</td>\n      <td>1.484848</td>\n      <td>4</td>\n      <td>1</td>\n      <td>0.650602</td>\n      <td>1.490566</td>\n      <td>...</td>\n      <td>1.611940</td>\n      <td>4</td>\n      <td>1</td>\n      <td>0.349653</td>\n      <td>0.375</td>\n      <td>0.576923</td>\n      <td>1.0</td>\n      <td>4.0</td>\n      <td>0.0</td>\n      <td>1.0</td>\n    </tr>\n    <tr>\n      <th>1199</th>\n      <td>0.000000</td>\n      <td>0.000000</td>\n      <td>0</td>\n      <td>0</td>\n      <td>0.000000</td>\n      <td>0.000000</td>\n      <td>0</td>\n      <td>0</td>\n      <td>0.012048</td>\n      <td>0.000000</td>\n      <td>...</td>\n      <td>4.200000</td>\n      <td>7</td>\n      <td>1</td>\n      <td>0.349653</td>\n      <td>0.375</td>\n      <td>0.576923</td>\n      <td>0.0</td>\n      <td>4.0</td>\n      <td>0.0</td>\n      <td>1.0</td>\n    </tr>\n    <tr>\n      <th>1259</th>\n      <td>0.652174</td>\n      <td>1.500000</td>\n      <td>4</td>\n      <td>1</td>\n      <td>0.377358</td>\n      <td>2.684211</td>\n      <td>11</td>\n      <td>1</td>\n      <td>0.265060</td>\n      <td>3.095238</td>\n      <td>...</td>\n      <td>4.625000</td>\n      <td>22</td>\n      <td>1</td>\n      <td>0.349653</td>\n      <td>0.375</td>\n      <td>0.576923</td>\n      <td>2.0</td>\n      <td>3.0</td>\n      <td>0.0</td>\n      <td>1.0</td>\n    </tr>\n    <tr>\n      <th>2939</th>\n      <td>0.434783</td>\n      <td>2.222222</td>\n      <td>6</td>\n      <td>1</td>\n      <td>0.471698</td>\n      <td>2.125000</td>\n      <td>6</td>\n      <td>1</td>\n      <td>0.457831</td>\n      <td>2.216216</td>\n      <td>...</td>\n      <td>2.055556</td>\n      <td>6</td>\n      <td>1</td>\n      <td>0.349653</td>\n      <td>0.375</td>\n      <td>0.576923</td>\n      <td>3.0</td>\n      <td>2.0</td>\n      <td>0.0</td>\n      <td>1.0</td>\n    </tr>\n    <tr>\n      <th>2999</th>\n      <td>0.173913</td>\n      <td>4.333333</td>\n      <td>8</td>\n      <td>1</td>\n      <td>0.188679</td>\n      <td>5.333333</td>\n      <td>14</td>\n      <td>1</td>\n      <td>0.168675</td>\n      <td>5.923077</td>\n      <td>...</td>\n      <td>5.722222</td>\n      <td>16</td>\n      <td>1</td>\n      <td>0.349653</td>\n      <td>0.375</td>\n      <td>0.576923</td>\n      <td>2.0</td>\n      <td>3.0</td>\n      <td>0.0</td>\n      <td>2.0</td>\n    </tr>\n    <tr>\n      <th>3059</th>\n      <td>0.608696</td>\n      <td>1.615385</td>\n      <td>3</td>\n      <td>1</td>\n      <td>0.641509</td>\n      <td>1.575758</td>\n      <td>4</td>\n      <td>1</td>\n      <td>0.662651</td>\n      <td>1.518519</td>\n      <td>...</td>\n      <td>1.473684</td>\n      <td>4</td>\n      <td>1</td>\n      <td>0.349653</td>\n      <td>0.375</td>\n      <td>0.576923</td>\n      <td>2.0</td>\n      <td>0.0</td>\n      <td>1.0</td>\n      <td>3.0</td>\n    </tr>\n    <tr>\n      <th>3179</th>\n      <td>0.130435</td>\n      <td>6.500000</td>\n      <td>10</td>\n      <td>3</td>\n      <td>0.207547</td>\n      <td>4.500000</td>\n      <td>11</td>\n      <td>1</td>\n      <td>0.240964</td>\n      <td>4.000000</td>\n      <td>...</td>\n      <td>3.714286</td>\n      <td>11</td>\n      <td>1</td>\n      <td>0.349653</td>\n      <td>0.375</td>\n      <td>0.576923</td>\n      <td>3.0</td>\n      <td>2.0</td>\n      <td>1.0</td>\n      <td>1.0</td>\n    </tr>\n    <tr>\n      <th>3479</th>\n      <td>0.391304</td>\n      <td>2.000000</td>\n      <td>5</td>\n      <td>1</td>\n      <td>0.566038</td>\n      <td>1.724138</td>\n      <td>5</td>\n      <td>1</td>\n      <td>0.602410</td>\n      <td>1.632653</td>\n      <td>...</td>\n      <td>1.594203</td>\n      <td>5</td>\n      <td>1</td>\n      <td>0.349653</td>\n      <td>0.375</td>\n      <td>0.576923</td>\n      <td>2.0</td>\n      <td>2.0</td>\n      <td>1.0</td>\n      <td>1.0</td>\n    </tr>\n    <tr>\n      <th>3719</th>\n      <td>0.173913</td>\n      <td>5.333333</td>\n      <td>11</td>\n      <td>1</td>\n      <td>0.188679</td>\n      <td>5.555556</td>\n      <td>19</td>\n      <td>1</td>\n      <td>0.168675</td>\n      <td>5.615385</td>\n      <td>...</td>\n      <td>5.722222</td>\n      <td>19</td>\n      <td>1</td>\n      <td>0.349653</td>\n      <td>0.375</td>\n      <td>0.576923</td>\n      <td>2.0</td>\n      <td>0.0</td>\n      <td>1.0</td>\n      <td>1.0</td>\n    </tr>\n    <tr>\n      <th>3959</th>\n      <td>0.000000</td>\n      <td>0.000000</td>\n      <td>0</td>\n      <td>0</td>\n      <td>0.056604</td>\n      <td>8.500000</td>\n      <td>11</td>\n      <td>6</td>\n      <td>0.048193</td>\n      <td>9.333333</td>\n      <td>...</td>\n      <td>12.833333</td>\n      <td>32</td>\n      <td>6</td>\n      <td>0.349653</td>\n      <td>0.375</td>\n      <td>0.576923</td>\n      <td>1.0</td>\n      <td>2.0</td>\n      <td>1.0</td>\n      <td>3.0</td>\n    </tr>\n    <tr>\n      <th>4259</th>\n      <td>0.086957</td>\n      <td>12.000000</td>\n      <td>12</td>\n      <td>12</td>\n      <td>0.113208</td>\n      <td>8.800000</td>\n      <td>13</td>\n      <td>2</td>\n      <td>0.180723</td>\n      <td>5.500000</td>\n      <td>...</td>\n      <td>5.647059</td>\n      <td>14</td>\n      <td>1</td>\n      <td>0.349653</td>\n      <td>0.375</td>\n      <td>0.576923</td>\n      <td>1.0</td>\n      <td>2.0</td>\n      <td>0.0</td>\n      <td>1.0</td>\n    </tr>\n    <tr>\n      <th>4859</th>\n      <td>0.782609</td>\n      <td>1.235294</td>\n      <td>2</td>\n      <td>1</td>\n      <td>0.641509</td>\n      <td>1.424242</td>\n      <td>5</td>\n      <td>1</td>\n      <td>0.469880</td>\n      <td>1.921053</td>\n      <td>...</td>\n      <td>2.400000</td>\n      <td>20</td>\n      <td>1</td>\n      <td>0.349653</td>\n      <td>0.375</td>\n      <td>0.576923</td>\n      <td>5.0</td>\n      <td>0.0</td>\n      <td>1.0</td>\n      <td>1.0</td>\n    </tr>\n    <tr>\n      <th>5219</th>\n      <td>0.739130</td>\n      <td>1.312500</td>\n      <td>2</td>\n      <td>1</td>\n      <td>0.716981</td>\n      <td>1.405405</td>\n      <td>5</td>\n      <td>1</td>\n      <td>0.734940</td>\n      <td>1.366667</td>\n      <td>...</td>\n      <td>1.333333</td>\n      <td>5</td>\n      <td>1</td>\n      <td>0.349653</td>\n      <td>0.375</td>\n      <td>0.576923</td>\n      <td>1.0</td>\n      <td>3.0</td>\n      <td>0.0</td>\n      <td>1.0</td>\n    </tr>\n    <tr>\n      <th>5279</th>\n      <td>0.521739</td>\n      <td>1.454545</td>\n      <td>3</td>\n      <td>1</td>\n      <td>0.603774</td>\n      <td>1.516129</td>\n      <td>3</td>\n      <td>1</td>\n      <td>0.590361</td>\n      <td>1.604167</td>\n      <td>...</td>\n      <td>1.514286</td>\n      <td>5</td>\n      <td>1</td>\n      <td>0.349653</td>\n      <td>0.375</td>\n      <td>0.576923</td>\n      <td>3.0</td>\n      <td>0.0</td>\n      <td>1.0</td>\n      <td>2.0</td>\n    </tr>\n  </tbody>\n</table>\n<p>16 rows × 23 columns</p>\n</div>"
     },
     "execution_count": 86,
     "metadata": {},
     "output_type": "execute_result"
    }
   ],
   "source": [
    "X_test_to_pred = X_test[X_test['prediction_date'] == '2023-07-31'].drop(['credentialset_id', 'prediction_date'], axis=1)\n",
    "X_test_to_pred"
   ],
   "metadata": {
    "collapsed": false,
    "ExecuteTime": {
     "end_time": "2023-11-13T09:05:24.087245600Z",
     "start_time": "2023-11-13T09:05:23.990868300Z"
    }
   },
   "id": "360fc5095102dd4e"
  },
  {
   "cell_type": "code",
   "execution_count": 141,
   "outputs": [],
   "source": [
    "constraint = y_test[X_test_to_pred.index].sum()/len(y_test[X_test_to_pred.index])*0.5"
   ],
   "metadata": {
    "collapsed": false,
    "ExecuteTime": {
     "end_time": "2023-11-13T10:26:21.526162800Z",
     "start_time": "2023-11-13T10:26:21.394103500Z"
    }
   },
   "id": "94d81541702dd1cc"
  },
  {
   "cell_type": "code",
   "execution_count": 103,
   "outputs": [],
   "source": [
    "constraint = 0.5"
   ],
   "metadata": {
    "collapsed": false,
    "ExecuteTime": {
     "end_time": "2023-11-13T10:01:25.255006Z",
     "start_time": "2023-11-13T10:01:25.197377900Z"
    }
   },
   "id": "1a5dbabfde0e03a2"
  },
  {
   "cell_type": "code",
   "execution_count": 89,
   "outputs": [],
   "source": [
    "constrained_model = ConstrainedCSDecisionTree(constraint = 0.5, **cs_best_params)"
   ],
   "metadata": {
    "collapsed": false,
    "ExecuteTime": {
     "end_time": "2023-11-13T09:06:15.023853700Z",
     "start_time": "2023-11-13T09:06:14.913930500Z"
    }
   },
   "id": "fbca56f5cd4e4487"
  },
  {
   "cell_type": "code",
   "execution_count": 91,
   "outputs": [],
   "source": [
    "cost_matrix = prepare_for_cost_cle(len(X_train), COST_MATRIX)"
   ],
   "metadata": {
    "collapsed": false,
    "ExecuteTime": {
     "end_time": "2023-11-13T09:07:19.432310400Z",
     "start_time": "2023-11-13T09:07:19.335530100Z"
    }
   },
   "id": "4b34a25bbe679255"
  },
  {
   "cell_type": "code",
   "execution_count": 94,
   "outputs": [
    {
     "name": "stdout",
     "output_type": "stream",
     "text": [
      "Threshold: 0.27 Effective Threshold: 0.35 Cost False Positive: 3.78 Lower Bound: 3.66 Upper Bound: 3.91\r\n",
      "DONE\n",
      "Threshold: 0.27\n",
      "Effective threshold: 0.27\n",
      "Current cfp:  3.72314453125\n",
      "Lower bound:  3.662109375\n",
      "Upper bound:  3.7841796875\n"
     ]
    },
    {
     "data": {
      "text/plain": "ConstrainedCSDecisionTree(constraint=0.5)",
      "text/html": "<style>#sk-container-id-1 {color: black;}#sk-container-id-1 pre{padding: 0;}#sk-container-id-1 div.sk-toggleable {background-color: white;}#sk-container-id-1 label.sk-toggleable__label {cursor: pointer;display: block;width: 100%;margin-bottom: 0;padding: 0.3em;box-sizing: border-box;text-align: center;}#sk-container-id-1 label.sk-toggleable__label-arrow:before {content: \"▸\";float: left;margin-right: 0.25em;color: #696969;}#sk-container-id-1 label.sk-toggleable__label-arrow:hover:before {color: black;}#sk-container-id-1 div.sk-estimator:hover label.sk-toggleable__label-arrow:before {color: black;}#sk-container-id-1 div.sk-toggleable__content {max-height: 0;max-width: 0;overflow: hidden;text-align: left;background-color: #f0f8ff;}#sk-container-id-1 div.sk-toggleable__content pre {margin: 0.2em;color: black;border-radius: 0.25em;background-color: #f0f8ff;}#sk-container-id-1 input.sk-toggleable__control:checked~div.sk-toggleable__content {max-height: 200px;max-width: 100%;overflow: auto;}#sk-container-id-1 input.sk-toggleable__control:checked~label.sk-toggleable__label-arrow:before {content: \"▾\";}#sk-container-id-1 div.sk-estimator input.sk-toggleable__control:checked~label.sk-toggleable__label {background-color: #d4ebff;}#sk-container-id-1 div.sk-label input.sk-toggleable__control:checked~label.sk-toggleable__label {background-color: #d4ebff;}#sk-container-id-1 input.sk-hidden--visually {border: 0;clip: rect(1px 1px 1px 1px);clip: rect(1px, 1px, 1px, 1px);height: 1px;margin: -1px;overflow: hidden;padding: 0;position: absolute;width: 1px;}#sk-container-id-1 div.sk-estimator {font-family: monospace;background-color: #f0f8ff;border: 1px dotted black;border-radius: 0.25em;box-sizing: border-box;margin-bottom: 0.5em;}#sk-container-id-1 div.sk-estimator:hover {background-color: #d4ebff;}#sk-container-id-1 div.sk-parallel-item::after {content: \"\";width: 100%;border-bottom: 1px solid gray;flex-grow: 1;}#sk-container-id-1 div.sk-label:hover label.sk-toggleable__label {background-color: #d4ebff;}#sk-container-id-1 div.sk-serial::before {content: \"\";position: absolute;border-left: 1px solid gray;box-sizing: border-box;top: 0;bottom: 0;left: 50%;z-index: 0;}#sk-container-id-1 div.sk-serial {display: flex;flex-direction: column;align-items: center;background-color: white;padding-right: 0.2em;padding-left: 0.2em;position: relative;}#sk-container-id-1 div.sk-item {position: relative;z-index: 1;}#sk-container-id-1 div.sk-parallel {display: flex;align-items: stretch;justify-content: center;background-color: white;position: relative;}#sk-container-id-1 div.sk-item::before, #sk-container-id-1 div.sk-parallel-item::before {content: \"\";position: absolute;border-left: 1px solid gray;box-sizing: border-box;top: 0;bottom: 0;left: 50%;z-index: -1;}#sk-container-id-1 div.sk-parallel-item {display: flex;flex-direction: column;z-index: 1;position: relative;background-color: white;}#sk-container-id-1 div.sk-parallel-item:first-child::after {align-self: flex-end;width: 50%;}#sk-container-id-1 div.sk-parallel-item:last-child::after {align-self: flex-start;width: 50%;}#sk-container-id-1 div.sk-parallel-item:only-child::after {width: 0;}#sk-container-id-1 div.sk-dashed-wrapped {border: 1px dashed gray;margin: 0 0.4em 0.5em 0.4em;box-sizing: border-box;padding-bottom: 0.4em;background-color: white;}#sk-container-id-1 div.sk-label label {font-family: monospace;font-weight: bold;display: inline-block;line-height: 1.2em;}#sk-container-id-1 div.sk-label-container {text-align: center;}#sk-container-id-1 div.sk-container {/* jupyter's `normalize.less` sets `[hidden] { display: none; }` but bootstrap.min.css set `[hidden] { display: none !important; }` so we also need the `!important` here to be able to override the default hidden behavior on the sphinx rendered scikit-learn.org. See: https://github.com/scikit-learn/scikit-learn/issues/21755 */display: inline-block !important;position: relative;}#sk-container-id-1 div.sk-text-repr-fallback {display: none;}</style><div id=\"sk-container-id-1\" class=\"sk-top-container\"><div class=\"sk-text-repr-fallback\"><pre>ConstrainedCSDecisionTree(constraint=0.5)</pre><b>In a Jupyter environment, please rerun this cell to show the HTML representation or trust the notebook. <br />On GitHub, the HTML representation is unable to render, please try loading this page with nbviewer.org.</b></div><div class=\"sk-container\" hidden><div class=\"sk-item\"><div class=\"sk-estimator sk-toggleable\"><input class=\"sk-toggleable__control sk-hidden--visually\" id=\"sk-estimator-id-1\" type=\"checkbox\" checked><label for=\"sk-estimator-id-1\" class=\"sk-toggleable__label sk-toggleable__label-arrow\">ConstrainedCSDecisionTree</label><div class=\"sk-toggleable__content\"><pre>ConstrainedCSDecisionTree(constraint=0.5)</pre></div></div></div></div></div>"
     },
     "execution_count": 94,
     "metadata": {},
     "output_type": "execute_result"
    }
   ],
   "source": [
    "constrained_model.fit(X_train.to_numpy(), y_train.to_numpy(), 10)"
   ],
   "metadata": {
    "collapsed": false,
    "ExecuteTime": {
     "end_time": "2023-11-13T09:11:04.618409400Z",
     "start_time": "2023-11-13T09:09:41.708321900Z"
    }
   },
   "id": "c01c949af6755917"
  },
  {
   "cell_type": "code",
   "execution_count": 97,
   "outputs": [],
   "source": [
    "y_pred = constrained_model.predict(X_test_to_pred.to_numpy())"
   ],
   "metadata": {
    "collapsed": false,
    "ExecuteTime": {
     "end_time": "2023-11-13T09:25:29.950951300Z",
     "start_time": "2023-11-13T09:25:29.836931400Z"
    }
   },
   "id": "21b01d721423da61"
  },
  {
   "cell_type": "code",
   "execution_count": 99,
   "outputs": [
    {
     "data": {
      "text/plain": "{'cost': 42,\n 'accuracy': 0.625,\n 'precision': 0.75,\n 'recall': 0.6,\n 'f1': 0.6666666666666665}"
     },
     "execution_count": 99,
     "metadata": {},
     "output_type": "execute_result"
    }
   ],
   "source": [
    "evaluate(y_test[X_test_to_pred.index], y_pred, COST_MATRIX)"
   ],
   "metadata": {
    "collapsed": false,
    "ExecuteTime": {
     "end_time": "2023-11-13T09:27:31.731497400Z",
     "start_time": "2023-11-13T09:27:31.616166400Z"
    }
   },
   "id": "a54ae6fbf88fe250"
  },
  {
   "cell_type": "code",
   "execution_count": 100,
   "outputs": [
    {
     "data": {
      "text/plain": "array([[4, 2],\n       [4, 6]], dtype=int64)"
     },
     "execution_count": 100,
     "metadata": {},
     "output_type": "execute_result"
    }
   ],
   "source": [
    "confusion_matrix(y_test[X_test_to_pred.index], y_pred)"
   ],
   "metadata": {
    "collapsed": false,
    "ExecuteTime": {
     "end_time": "2023-11-13T09:28:08.170068100Z",
     "start_time": "2023-11-13T09:28:07.983457100Z"
    }
   },
   "id": "236241241fd08f6"
  },
  {
   "cell_type": "code",
   "execution_count": null,
   "outputs": [],
   "source": [
    "constrained_model."
   ],
   "metadata": {
    "collapsed": false
   },
   "id": "f565e8421aeaffdb"
  },
  {
   "cell_type": "code",
   "execution_count": 142,
   "outputs": [
    {
     "name": "stdout",
     "output_type": "stream",
     "text": [
      "Threshold: 0.74 Effective Threshold: 0.87 Cost False Positive: 28.81 Lower Bound: 28.32 Upper Bound: 29.30\r\n",
      "DONE\n",
      "Threshold: 0.74\n",
      "Effective threshold: 0.74\n",
      "Current cfp:  28.564453125\n",
      "Lower bound:  28.3203125\n",
      "Upper bound:  28.80859375\n"
     ]
    }
   ],
   "source": [
    "\n",
    "\n",
    "#initialize the threshold\n",
    "threshold = 0.0\n",
    "effective_threshold = 1.0\n",
    "lower_bound = 0.0\n",
    "upper_bound = 1000.0 #Should be a big number, I don't know what is big enough\n",
    "cfp = 0\n",
    "cfn = 10\n",
    "results = {}\n",
    "cm_dict = {}\n",
    "i = 0\n",
    "\n",
    "#High CFP increase the threshold and vice versa\n",
    "while (effective_threshold > threshold) or (abs(upper_bound - lower_bound) > 1.0):\n",
    "\n",
    "    print(\n",
    "        f\"Threshold: {threshold:.2f}\", \n",
    "        f\"Effective Threshold: {effective_threshold:.2f}\", \n",
    "        f\"Cost False Positive: {cfp:.2f}\", \n",
    "        f\"Lower Bound: {lower_bound:.2f}\",\n",
    "        f\"Upper Bound: {upper_bound:.2f}\",\n",
    "        sep = \" \", end=\"\\r\", flush=True)\n",
    "    \n",
    "    threshold = cfp/(cfp+cfn)\n",
    "    cost_matrix = np.array([[0, cfp], \n",
    "                            [cfn, 0]])\n",
    "    model_i = CostSensitiveDecisionTreeClassifier() #The base object, we will train it.\n",
    "    model_i.set_params(**cs_best_params)\n",
    "    model_i.fit(X_train.to_numpy(), y_train.to_numpy(), cost_mat = prepare_for_cost_cle(len(X_train), cost_matrix)) \n",
    "    y_pred_proba_test = model_i.predict_proba(X_test_to_pred.to_numpy())[:, 1]\n",
    "    effective_threshold = find_effective_threshold(y_pred_proba_test, constraint, threshold) \n",
    "    y_pred_test = prediction_up_to_constraint(y_pred_proba_test, constraint)\n",
    "    results[i] =  evaluate(y_test[X_test_to_pred.index], y_pred_test, COST_MATRIX)\n",
    "    cm_dict[i] = confusion_matrix(y_test[X_test_to_pred.index], y_pred_test)\n",
    "    i+=1\n",
    "    #The binary search, if we overshot, we need to decrease cfp\n",
    "    if effective_threshold <= threshold: #It means we have found a good cfp, but might not be the best\n",
    "        upper_bound = cfp\n",
    "        cfp = (cfp+lower_bound)/2\n",
    "              \n",
    "    else: #We undershot, we need to increase cfp\n",
    "        lower_bound = cfp\n",
    "        cfp = (cfp+upper_bound)/2\n",
    "    \n",
    "best_model_ = deepcopy(model_i) #This one is already trained.\n",
    "cfp_ = cfp\n",
    "threshold_ = threshold\n",
    "\n",
    "print(\"\\nDONE\")\n",
    "print(f\"Threshold: {threshold:.2f}\")\n",
    "print(f\"Effective threshold: {effective_threshold:.2f}\")\n",
    "print(\"Current cfp: \", cfp)\n",
    "print(\"Lower bound: \", lower_bound)\n",
    "print(\"Upper bound: \", upper_bound)"
   ],
   "metadata": {
    "collapsed": false,
    "ExecuteTime": {
     "end_time": "2023-11-13T10:27:12.479451800Z",
     "start_time": "2023-11-13T10:26:26.665101600Z"
    }
   },
   "id": "90953494c61673e"
  },
  {
   "cell_type": "code",
   "execution_count": 149,
   "outputs": [
    {
     "data": {
      "text/plain": "array([0., 0., 0., 0., 0., 0., 0., 1., 0., 0., 0., 0., 0., 0., 1., 0.])"
     },
     "execution_count": 149,
     "metadata": {},
     "output_type": "execute_result"
    }
   ],
   "source": [
    "best_model_.predict(X_test_to_pred.to_numpy())"
   ],
   "metadata": {
    "collapsed": false,
    "ExecuteTime": {
     "end_time": "2023-11-13T10:29:22.792191700Z",
     "start_time": "2023-11-13T10:29:22.540313600Z"
    }
   },
   "id": "b690cf7face1a327"
  },
  {
   "cell_type": "code",
   "execution_count": 143,
   "outputs": [
    {
     "data": {
      "text/plain": "{0: {'cost': 94,\n  'accuracy': 0.1875,\n  'precision': 0.2,\n  'recall': 0.1,\n  'f1': 0.13333333333333333},\n 1: {'cost': 94,\n  'accuracy': 0.1875,\n  'precision': 0.2,\n  'recall': 0.1,\n  'f1': 0.13333333333333333},\n 2: {'cost': 94,\n  'accuracy': 0.1875,\n  'precision': 0.2,\n  'recall': 0.1,\n  'f1': 0.13333333333333333},\n 3: {'cost': 94,\n  'accuracy': 0.1875,\n  'precision': 0.2,\n  'recall': 0.1,\n  'f1': 0.13333333333333333},\n 4: {'cost': 94,\n  'accuracy': 0.1875,\n  'precision': 0.2,\n  'recall': 0.1,\n  'f1': 0.13333333333333333},\n 5: {'cost': 72,\n  'accuracy': 0.4375,\n  'precision': 0.6,\n  'recall': 0.3,\n  'f1': 0.4},\n 6: {'cost': 72,\n  'accuracy': 0.4375,\n  'precision': 0.6,\n  'recall': 0.3,\n  'f1': 0.4},\n 7: {'cost': 61,\n  'accuracy': 0.5625,\n  'precision': 0.8,\n  'recall': 0.4,\n  'f1': 0.5333333333333333},\n 8: {'cost': 61,\n  'accuracy': 0.5625,\n  'precision': 0.8,\n  'recall': 0.4,\n  'f1': 0.5333333333333333},\n 9: {'cost': 72,\n  'accuracy': 0.4375,\n  'precision': 0.6,\n  'recall': 0.3,\n  'f1': 0.4},\n 10: {'cost': 61,\n  'accuracy': 0.5625,\n  'precision': 0.8,\n  'recall': 0.4,\n  'f1': 0.5333333333333333},\n 11: {'cost': 72,\n  'accuracy': 0.4375,\n  'precision': 0.6,\n  'recall': 0.3,\n  'f1': 0.4}}"
     },
     "execution_count": 143,
     "metadata": {},
     "output_type": "execute_result"
    }
   ],
   "source": [
    "results"
   ],
   "metadata": {
    "collapsed": false,
    "ExecuteTime": {
     "end_time": "2023-11-13T10:27:12.570083Z",
     "start_time": "2023-11-13T10:27:12.473338400Z"
    }
   },
   "id": "c1cd354364a21546"
  },
  {
   "cell_type": "code",
   "execution_count": 144,
   "outputs": [
    {
     "data": {
      "text/plain": "{0: array([[2, 4],\n        [9, 1]], dtype=int64),\n 1: array([[2, 4],\n        [9, 1]], dtype=int64),\n 2: array([[2, 4],\n        [9, 1]], dtype=int64),\n 3: array([[2, 4],\n        [9, 1]], dtype=int64),\n 4: array([[2, 4],\n        [9, 1]], dtype=int64),\n 5: array([[4, 2],\n        [7, 3]], dtype=int64),\n 6: array([[4, 2],\n        [7, 3]], dtype=int64),\n 7: array([[5, 1],\n        [6, 4]], dtype=int64),\n 8: array([[5, 1],\n        [6, 4]], dtype=int64),\n 9: array([[4, 2],\n        [7, 3]], dtype=int64),\n 10: array([[5, 1],\n        [6, 4]], dtype=int64),\n 11: array([[4, 2],\n        [7, 3]], dtype=int64)}"
     },
     "execution_count": 144,
     "metadata": {},
     "output_type": "execute_result"
    }
   ],
   "source": [
    "cm_dict"
   ],
   "metadata": {
    "collapsed": false,
    "ExecuteTime": {
     "end_time": "2023-11-13T10:27:12.590962700Z",
     "start_time": "2023-11-13T10:27:12.490406200Z"
    }
   },
   "id": "3f65d59d3d70ae71"
  },
  {
   "cell_type": "code",
   "execution_count": 145,
   "outputs": [
    {
     "data": {
      "text/plain": "[0.1875,\n 0.1875,\n 0.1875,\n 0.1875,\n 0.1875,\n 0.4375,\n 0.4375,\n 0.5625,\n 0.5625,\n 0.4375,\n 0.5625,\n 0.4375]"
     },
     "execution_count": 145,
     "metadata": {},
     "output_type": "execute_result"
    }
   ],
   "source": [
    "accuracy = [results[k]['accuracy'] for k in results.keys()]\n",
    "accuracy"
   ],
   "metadata": {
    "collapsed": false,
    "ExecuteTime": {
     "end_time": "2023-11-13T10:27:43.126976700Z",
     "start_time": "2023-11-13T10:27:43.030693500Z"
    }
   },
   "id": "f0427f7abad5a6e7"
  },
  {
   "cell_type": "code",
   "execution_count": 117,
   "outputs": [
    {
     "data": {
      "text/plain": "[0.375, 0.375, 0.375, 0.375, 0.375, 0.375, 0.25, 0.5, 0.625, 0.5, 0.5]"
     },
     "execution_count": 117,
     "metadata": {},
     "output_type": "execute_result"
    }
   ],
   "source": [
    "accuracy"
   ],
   "metadata": {
    "collapsed": false,
    "ExecuteTime": {
     "end_time": "2023-11-13T10:07:22.446773400Z",
     "start_time": "2023-11-13T10:07:22.374112200Z"
    }
   },
   "id": "7eaed68279956497"
  },
  {
   "cell_type": "code",
   "execution_count": 146,
   "outputs": [
    {
     "data": {
      "text/plain": "[94, 94, 94, 94, 94, 72, 72, 61, 61, 72, 61, 72]"
     },
     "execution_count": 146,
     "metadata": {},
     "output_type": "execute_result"
    }
   ],
   "source": [
    "cost = [results[k]['cost'] for k in results.keys()]\n",
    "cost"
   ],
   "metadata": {
    "collapsed": false,
    "ExecuteTime": {
     "end_time": "2023-11-13T10:27:48.309611500Z",
     "start_time": "2023-11-13T10:27:48.224800700Z"
    }
   },
   "id": "d26b6a9d00e33eba"
  },
  {
   "cell_type": "code",
   "execution_count": 147,
   "outputs": [
    {
     "data": {
      "text/plain": "[0.2, 0.2, 0.2, 0.2, 0.2, 0.6, 0.6, 0.8, 0.8, 0.6, 0.8, 0.6]"
     },
     "execution_count": 147,
     "metadata": {},
     "output_type": "execute_result"
    }
   ],
   "source": [
    "precision = [results[k]['precision'] for k in results.keys()]\n",
    "precision"
   ],
   "metadata": {
    "collapsed": false,
    "ExecuteTime": {
     "end_time": "2023-11-13T10:27:50.709659900Z",
     "start_time": "2023-11-13T10:27:50.641590800Z"
    }
   },
   "id": "ab2267b2d19f0308"
  },
  {
   "cell_type": "code",
   "execution_count": 10,
   "outputs": [],
   "source": [
    "X = df.drop(labels = 'target', axis=1)\n",
    "y = df['target']"
   ],
   "metadata": {
    "collapsed": false,
    "ExecuteTime": {
     "end_time": "2023-11-12T12:54:21.514362600Z",
     "start_time": "2023-11-12T12:54:21.434084600Z"
    }
   },
   "id": "734427d8507bc858"
  },
  {
   "cell_type": "code",
   "execution_count": 11,
   "outputs": [],
   "source": [
    "def find_best_params(param_grid, X, y):\n",
    "    # Used for this dataset specifically, to find the best parameters for the decision tree\n",
    "    # Let's think about more general way to do so.\n",
    "    grid = GridSearchCV(DecisionTreeClassifier(), param_grid, cv=10, n_jobs=-1, scoring='f1', verbose=3)\n",
    "    grid.fit(X, y)\n",
    "    return grid.best_params_"
   ],
   "metadata": {
    "collapsed": false,
    "ExecuteTime": {
     "end_time": "2023-11-12T12:55:48.024720400Z",
     "start_time": "2023-11-12T12:55:47.937858100Z"
    }
   },
   "id": "60d4ed530831a407"
  },
  {
   "cell_type": "code",
   "execution_count": 12,
   "outputs": [],
   "source": [
    "dt_param_grid = {\n",
    "    \"max_depth\": [3, 5, 10, 15],\n",
    "    \"criterion\": [\"gini\", \"entropy\"],\n",
    "    \"min_samples_leaf\": [10, 15, 20, 30]\n",
    "}\n",
    "\n",
    "cs_best_params = json.load(open(\"./config/cost_sensitive_best_params.json\", \"r\")) #hard-coded in a json file\n",
    "#dt_best_params = find_best_params(dt_param_grid, X, y) #find it using grid search\n",
    "dt_best_params = {'criterion': 'gini', 'max_depth': 3, 'min_samples_leaf': 20}"
   ],
   "metadata": {
    "collapsed": false,
    "ExecuteTime": {
     "end_time": "2023-11-12T12:55:50.086245400Z",
     "start_time": "2023-11-12T12:55:49.855782500Z"
    }
   },
   "id": "7439d408e6305dbd"
  },
  {
   "cell_type": "markdown",
   "source": [
    "## Starting the experiment\n"
   ],
   "metadata": {
    "collapsed": false
   },
   "id": "de1561e7d19ab0f6"
  },
  {
   "cell_type": "code",
   "execution_count": 18,
   "outputs": [
    {
     "data": {
      "text/plain": "credentialset_id\n0000349e-0a0f-3373-a4f1-05bce8b528b3    0.0\n0000349e-0a0f-3373-a4f1-05bce8b528b3    0.0\n0000349e-0a0f-3373-a4f1-05bce8b528b3    0.0\n0000349e-0a0f-3373-a4f1-05bce8b528b3    0.0\n0000349e-0a0f-3373-a4f1-05bce8b528b3    0.0\n                                       ... \n0018df90-340f-4926-ba6c-ff3b0d3fe325    1.0\n0018df90-340f-4926-ba6c-ff3b0d3fe325    0.0\n0018df90-340f-4926-ba6c-ff3b0d3fe325    0.0\n0018df90-340f-4926-ba6c-ff3b0d3fe325    0.0\n0018df90-340f-4926-ba6c-ff3b0d3fe325    1.0\nName: target, Length: 6000, dtype: float64"
     },
     "execution_count": 18,
     "metadata": {},
     "output_type": "execute_result"
    }
   ],
   "source": [
    "y"
   ],
   "metadata": {
    "collapsed": false,
    "ExecuteTime": {
     "end_time": "2023-11-12T13:11:57.814006100Z",
     "start_time": "2023-11-12T13:11:57.721671500Z"
    }
   },
   "id": "704750e5cd731988"
  },
  {
   "cell_type": "code",
   "execution_count": 13,
   "outputs": [],
   "source": [
    "real_positive_ratio = y.mean()\n"
   ],
   "metadata": {
    "collapsed": false,
    "ExecuteTime": {
     "end_time": "2023-11-12T12:56:15.791986500Z",
     "start_time": "2023-11-12T12:56:15.737983900Z"
    }
   },
   "id": "353b4f8fed0dece"
  },
  {
   "cell_type": "code",
   "execution_count": 14,
   "outputs": [],
   "source": [
    "constraints_range = np.array([0.25, 0.75]) * real_positive_ratio\n",
    "constraints = #np.linspace(*constraints_range, 50)"
   ],
   "metadata": {
    "collapsed": false,
    "ExecuteTime": {
     "end_time": "2023-11-12T12:56:56.713289600Z",
     "start_time": "2023-11-12T12:56:56.659492500Z"
    }
   },
   "id": "2421b6e998b5dac9"
  },
  {
   "cell_type": "code",
   "execution_count": null,
   "outputs": [],
   "source": [],
   "metadata": {
    "collapsed": false
   },
   "id": "4f40b6f7f22864c4"
  },
  {
   "cell_type": "markdown",
   "source": [
    "### Decision Tree\n",
    "With best params from the grid search, applying on various of constraints"
   ],
   "metadata": {
    "collapsed": false
   },
   "id": "8c52f0faf5540704"
  },
  {
   "cell_type": "code",
   "execution_count": 15,
   "outputs": [],
   "source": [
    "from tqdm import tqdm\n"
   ],
   "metadata": {
    "collapsed": false,
    "ExecuteTime": {
     "end_time": "2023-11-12T12:57:28.120606900Z",
     "start_time": "2023-11-12T12:57:27.981260400Z"
    }
   },
   "id": "9378adb51ea9430f"
  },
  {
   "cell_type": "code",
   "execution_count": 17,
   "outputs": [],
   "source": [
    "def run_constrained_experiment(constrained_model:Constrained, \n",
    "                               X, \n",
    "                               y, \n",
    "                               cost_matrix, \n",
    "                               constraint, \n",
    "                               random_state=42, \n",
    "                               n_splits=3):\n",
    "\n",
    "    fit_params = {}\n",
    "    out = {}\n",
    "    kf = StratifiedKFold(n_splits=n_splits, shuffle=True, random_state=random_state)\n",
    "    \n",
    "    for (fold, (train_index, test_index)) in enumerate(kf.split(X, y)):\n",
    "        #The ordinary Kfold, but with the constraint\n",
    "        X_train, X_test = X[train_index], X[test_index]\n",
    "        y_train, y_test = y[train_index], y[test_index]\n",
    "        \n",
    "        if isinstance(constrained_model.model, CostSensitiveDecisionTreeClassifier):\n",
    "            #The Cost Sensitive Decision Tree also needs the cost matrix as a fit parameter\n",
    "            fit_params['cost_mat'] = prepare_for_cost_cle(len(X_train), cost_matrix)\n",
    "\n",
    "        constrained_model.fit(X_train, y_train, **fit_params) #Fitting the model\n",
    "\n",
    "        #The constraint is a float between 0 and 1\n",
    "        y_pred = constrained_model.predict_constrained(X_test, constraint=constraint)\n",
    "        \n",
    "        out[fold] = evaluate(y_test, y_pred, cost_matrix)\n",
    "    \n",
    "\n",
    "    return pd.DataFrame(out).T.mean(axis=0).to_dict() #Returning the mean of the metrics\n",
    "\n"
   ],
   "metadata": {
    "collapsed": false,
    "ExecuteTime": {
     "end_time": "2023-11-12T12:59:06.372059800Z",
     "start_time": "2023-11-12T12:59:06.312292500Z"
    }
   },
   "id": "fdeb5111aa4e3bb2"
  },
  {
   "cell_type": "code",
   "execution_count": null,
   "outputs": [],
   "source": [
    "results = {}\n",
    "for random_state in tqdm(range(10)):\n",
    "    for constraint in tqdm(constraints):\n",
    "        partial_results = run_constrained_experiment(Constrained(DecisionTreeClassifier(**dt_best_params)),\n",
    "                                    X.values,\n",
    "                                    y.values,\n",
    "                                    COST_MATRIX,\n",
    "                                    constraint=constraint, \n",
    "                                    random_state=random_state)\n",
    "        results[(random_state, constraint)] = partial_results\n",
    "results = pd.DataFrame(results).T"
   ],
   "metadata": {
    "collapsed": false
   },
   "id": "b7205144e7419684"
  }
 ],
 "metadata": {
  "kernelspec": {
   "display_name": "Python 3",
   "language": "python",
   "name": "python3"
  },
  "language_info": {
   "codemirror_mode": {
    "name": "ipython",
    "version": 2
   },
   "file_extension": ".py",
   "mimetype": "text/x-python",
   "name": "python",
   "nbconvert_exporter": "python",
   "pygments_lexer": "ipython2",
   "version": "2.7.6"
  }
 },
 "nbformat": 4,
 "nbformat_minor": 5
}
