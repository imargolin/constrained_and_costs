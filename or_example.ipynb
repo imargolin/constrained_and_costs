{
 "cells": [
  {
   "cell_type": "code",
   "execution_count": 1,
   "id": "f7988cf3",
   "metadata": {
    "ExecuteTime": {
     "end_time": "2024-02-18T09:01:48.184417500Z",
     "start_time": "2024-02-18T09:01:38.287777500Z"
    }
   },
   "outputs": [],
   "source": [
    "import numpy as np\n",
    "import pandas as pd\n",
    "from ortools.linear_solver import pywraplp\n",
    "from sklearn.metrics import confusion_matrix\n",
    "from matplotlib import pyplot as plt"
   ]
  },
  {
   "cell_type": "code",
   "execution_count": 24,
   "outputs": [],
   "source": [
    "def sum_on_samples(R, samples, n_classes):\n",
    "    G = []\n",
    "    for j in range(n_classes):\n",
    "        class_sum = 0\n",
    "        for i in samples:\n",
    "            class_sum += R[(i, j)]\n",
    "        G.append(class_sum)\n",
    "    return G\n",
    "\n",
    "\n",
    "def sum_on_classes(R, samples, n_classes):\n",
    "    S = []\n",
    "    for i in samples:\n",
    "        sample_sum = 0\n",
    "        for j in range(n_classes):\n",
    "            sample_sum += R[(i, j)]\n",
    "        S.append(sample_sum)\n",
    "    return S\n",
    "\n",
    "\n",
    "def get_constraint_for_classes(global_constraint, n_samples):\n",
    "    n = np.ones(len(global_constraint))\n",
    "    for j, const_num in enumerate(global_constraint):\n",
    "        if const_num == -1:\n",
    "            n[j] = 1.0\n",
    "        else:\n",
    "            n[j] = const_num / n_samples  # percentage for each constraint\n",
    "    return n\n"
   ],
   "metadata": {
    "collapsed": false,
    "ExecuteTime": {
     "end_time": "2024-02-18T09:19:33.202289100Z",
     "start_time": "2024-02-18T09:19:33.124401500Z"
    }
   },
   "id": "50000a2bc567fa9f"
  },
  {
   "cell_type": "code",
   "execution_count": 25,
   "id": "02e9a67f",
   "metadata": {
    "ExecuteTime": {
     "end_time": "2024-02-18T09:19:35.096759400Z",
     "start_time": "2024-02-18T09:19:35.018556500Z"
    }
   },
   "outputs": [],
   "source": [
    "def operation_research_func(samples, cost_matrix, global_constarint, subgroup_info, random_state =42):\n",
    "    np.random.seed(random_state)\n",
    "    R = {}\n",
    "    objective_function = 0\n",
    "    n_samples = samples.shape[0]\n",
    "    predict_labels_proba = samples.drop('subgroup', axis=1)\n",
    "    samples_idx = samples.index\n",
    "    n_classes = predict_labels_proba.shape[1] \n",
    "    predict_hard = np.zeros(n_samples).astype(int)\n",
    "    \n",
    "    solver = pywraplp.Solver.CreateSolver('GLOP')\n",
    "\n",
    "    if len(cost_matrix.shape)<=2:\n",
    "        cost_dot_proba = np.dot(cost_matrix, predict_labels_proba.transpose())\n",
    "    else:\n",
    "        cost_dot_proba  = []\n",
    "        for i in range(cost_matrix.shape[0]):\n",
    "            cost_dot_proba.append(np.dot(cost_matrix[i], predict_labels_proba.loc[i]))\n",
    "        cost_dot_proba = np.array(cost_dot_proba).transpose()\n",
    "\n",
    "\n",
    "    # create variables \n",
    "    for i in range(n_samples):\n",
    "        for j in range(n_classes):\n",
    "            R[(i, j)] = solver.NumVar(0, solver.infinity(), 'R{}{}'.format(i, j))\n",
    "            objective_function += R[(i, j)] * cost_dot_proba[j, i] \n",
    "    \n",
    "    # Objective function\n",
    "    solver.Minimize(objective_function)\n",
    "    \n",
    "    print(\"Number of variables =\", solver.NumVariables())\n",
    "\n",
    "    # Constraints\n",
    "    \n",
    "    #global constraint\n",
    "    n = get_constraint_for_classes(global_constarint, n_samples) # constraint for each class\n",
    "    G = sum_on_samples(R, samples_idx, n_classes) \n",
    "    for i in range(n_classes):\n",
    "        solver.Add(G[i] <= np.ceil(n_samples * n[i])) \n",
    "    \n",
    "    #single class\n",
    "    S = sum_on_classes(R, samples_idx, n_classes) \n",
    "    for j in range(n_samples):\n",
    "        solver.Add(S[j] >= 1)\n",
    "        \n",
    "    #local constraint\n",
    "    for k, value in subgroup_info.items():\n",
    "        samples_subgroup = samples[samples['subgroup'] == k]\n",
    "        n = get_constraint_for_classes(value, samples_subgroup.shape[0])\n",
    "        L = sum_on_samples(R, samples_subgroup.index, n_classes)\n",
    "        for i in range(n_classes):\n",
    "            solver.Add(L[i] <= np.ceil(samples_subgroup.shape[0] * n[i])) \n",
    "\n",
    "    print('Number of constraints =', solver.NumConstraints())\n",
    "\n",
    "    status = solver.Solve()\n",
    "\n",
    "    for i in range(n_samples):\n",
    "        for j in range(n_classes):\n",
    "            #print(' R[({}, {})] ='.format(i, j),  R[(i, j)].solution_value())\n",
    "            if R[(i, j)].solution_value() == 1:\n",
    "                predict_hard[i] = j # the sample get the class\n",
    "            if R[(i, j)].solution_value() not in [0,1]:\n",
    "                print('The solution is not 0 or 1')\n",
    "\n",
    "        \n",
    "    if status == pywraplp.Solver.OPTIMAL:\n",
    "        print(\"Solution:\")\n",
    "        print(f\"Objective value = {solver.Objective().Value():0.1f}\")\n",
    "\n",
    "    else:\n",
    "        print(\"The problem does not have an optimal solution.\")\n",
    "\n",
    "    print(\"\\nAdvanced usage:\")\n",
    "    print(f\"Problem solved in {solver.wall_time():d} milliseconds\")\n",
    "    print(f\"Problem solved in {solver.iterations():d} iterations\")\n",
    "    \n",
    "    return solver.Objective().Value(), predict_hard"
   ]
  },
  {
   "cell_type": "code",
   "execution_count": 26,
   "outputs": [],
   "source": [
    "def allocation_heuristic(samples, cost_matrix,  global_constraint, local_constraint, random_state=42):\n",
    "    # for binary case only\n",
    "    np.random.seed(random_state)\n",
    "    n_samples = samples.shape[0]\n",
    "    predict_labels_proba = samples.drop('subgroup', axis=1)\n",
    "    predict_hard = np.zeros(n_samples).astype(int)\n",
    "    \n",
    "    if len(cost_matrix.shape)<=2:\n",
    "        cost_dot_proba = np.dot(cost_matrix, predict_labels_proba.transpose()).transpose()\n",
    "    else:\n",
    "        cost_dot_proba  = []\n",
    "        for i in range(cost_matrix.shape[0]):\n",
    "            cost_dot_proba.append(np.dot(cost_matrix[i], predict_labels_proba.loc[i]))\n",
    "        cost_dot_proba = np.array(cost_dot_proba)\n",
    "        \n",
    "\n",
    "    sort_proba = pd.DataFrame(cost_dot_proba).sort_values([0], axis=0, ascending=False)\n",
    "    n_local ={}\n",
    "    n_global = 0\n",
    "    for s in sort_proba.index:\n",
    "        if n_global < global_constraint[1]:\n",
    "            temp_subgroup = samples.loc[s, 'subgroup']\n",
    "            n_local[temp_subgroup] = n_local.get(temp_subgroup, 0) \n",
    "            if n_local[temp_subgroup] < local_constraint[temp_subgroup][1]:\n",
    "                if sort_proba.loc[s,0] > sort_proba.loc[s,1]:\n",
    "                    n_local[temp_subgroup] = n_local.get(temp_subgroup, 0)+1\n",
    "                    n_global +=1\n",
    "                    predict_hard[s] = 1\n",
    "    \n",
    "    objective_value = 0\n",
    "    for i, predict in enumerate(predict_hard):\n",
    "        objective_value += pd.DataFrame(cost_dot_proba).loc[i,predict]\n",
    "        \n",
    "    return objective_value, predict_hard, cost_dot_proba"
   ],
   "metadata": {
    "collapsed": false,
    "ExecuteTime": {
     "end_time": "2024-02-18T09:19:36.978409700Z",
     "start_time": "2024-02-18T09:19:36.900819300Z"
    }
   },
   "id": "68c6e3865a0329b9"
  },
  {
   "cell_type": "code",
   "execution_count": 5,
   "outputs": [],
   "source": [
    "# #small example\n",
    "# #predict_labels_proba = np.array([[0.9,0.1], [0.7,0.3], [0.3,0.7], [0.2, 0.8]])#, [0.2 ,0.8], [0.3, 0.7]])\n",
    "# predict_labels_proba = pd.DataFrame([[0.9,0.1], [0.7,0.3], [0.3,0.7], [0.2, 0.8]])\n",
    "# samples = predict_labels_proba\n",
    "# sub1 = '867c4a38-0d75-46ff-a4c2-f44cb63be2c9'\n",
    "# sub2 = '280a19b6-a767-4e7f-b6b4-e422d6876897'\n",
    "# samples['subgroup'] = [sub1, sub2, sub1, sub2]\n",
    "# #cost_matrix = np.array([[[0,10],[1,1]], [[0,10],[1,1]], [[0,10],[2,1]], [[0,0],[1,1]]])\n",
    "# cost_matrix = np.array([[0,10],[1,1]])\n",
    "# # const_num = 1\n",
    "# # constrained_classes = [1]\n",
    "# global_constraint = [-1, 3]\n",
    "# #subsets = {0: {'samples': [0, 2], 'constrained_classes': [1], 'const_num': 2} , 1: {'samples': [1, 3], 'constrained_classes': [1], 'const_num': 2}}\n",
    "# #subgroup_info = {0: { 'constrained_classes': [1], 'const_num': 2} , 1: {'constrained_classes': [1], 'const_num': 2}}\n",
    "# subgroup_info = {sub1: [-1, 2] , sub2: [-1, 2]}"
   ],
   "metadata": {
    "collapsed": false,
    "ExecuteTime": {
     "end_time": "2024-02-18T09:01:48.333969100Z",
     "start_time": "2024-02-18T09:01:48.289664500Z"
    }
   },
   "id": "62784ffc"
  },
  {
   "cell_type": "markdown",
   "source": [
    "# Examine integer results for multi-class"
   ],
   "metadata": {
    "collapsed": false
   },
   "id": "40af4b2f0726b4c7"
  },
  {
   "cell_type": "code",
   "execution_count": 27,
   "outputs": [
    {
     "data": {
      "text/plain": "subgroup  predict_hard_max\n1         0                   1684\n          1                   1686\n2         0                   1685\n          1                   1667\n3         0                   1690\n          1                   1588\nName: count, dtype: int64"
     },
     "execution_count": 27,
     "metadata": {},
     "output_type": "execute_result"
    }
   ],
   "source": [
    "num_samples = 10000\n",
    "num_classes = 5\n",
    "probabilities = np.random.dirichlet(np.ones(num_classes), size=num_samples)\n",
    "predict_labels_proba = pd.DataFrame(probabilities, columns=[i for i in range(num_classes)])\n",
    "\n",
    "subgroups = np.random.randint(1, 4, size=num_samples)\n",
    "samples = predict_labels_proba\n",
    "samples['subgroup'] = subgroups\n",
    "\n",
    "samples_info = pd.DataFrame(samples['subgroup'])\n",
    "samples_info['predict_hard_max'] = samples[[0, 1,]].idxmax(axis=\"columns\").astype(int)\n",
    "samples_info['count'] = 1\n",
    "subgroup_info = samples_info.groupby(['subgroup', 'predict_hard_max']).sum('count')\n",
    "subgroup_info['count']"
   ],
   "metadata": {
    "collapsed": false,
    "ExecuteTime": {
     "end_time": "2024-02-18T09:19:52.240670900Z",
     "start_time": "2024-02-18T09:19:52.184809Z"
    }
   },
   "id": "ef72e629f6fb9359"
  },
  {
   "cell_type": "code",
   "execution_count": 28,
   "outputs": [],
   "source": [
    "sub1 = 1\n",
    "sub2 = 2\n",
    "sub3 = 3\n",
    "# subgroup_constraint = {sub1: [-1, 30] , sub2: [-1, 130], sub3: [-1, 50]}\n",
    "# cost_matrix = np.array([[0,1],[1, 0]])\n",
    "# cost_matrix = np.array([cost_matrix for i in range(samples.shape[0])])\n",
    "# global_constraint = [-1, 200]\n",
    "# for 5 classes\n",
    "subgroup_constraint = {sub1: [-1, 300, 400, 300, 200] , sub2: [-1, 500, 200, 300, 300], sub3: [-1, 100, 300, 500, 600]}\n",
    "cost_matrix = np.array([[0,1,1, 1, 1],[1, 0, 1, 1, 1], [1, 1, 0, 1, 1], [1, 1, 1, 0, 1], [1, 1, 1, 1, 0]])\n",
    "global_constraint = [-1, 700, 200, 1000, 500]"
   ],
   "metadata": {
    "collapsed": false,
    "ExecuteTime": {
     "end_time": "2024-02-18T09:19:52.738754Z",
     "start_time": "2024-02-18T09:19:52.679816600Z"
    }
   },
   "id": "966b61eaba54bf77"
  },
  {
   "cell_type": "code",
   "execution_count": 29,
   "outputs": [],
   "source": [
    "cost_matrix = np.array([cost_matrix for i in range(samples.shape[0])])"
   ],
   "metadata": {
    "collapsed": false,
    "ExecuteTime": {
     "end_time": "2024-02-18T09:19:53.463034Z",
     "start_time": "2024-02-18T09:19:53.416022Z"
    }
   },
   "id": "e154052065525a34"
  },
  {
   "cell_type": "code",
   "execution_count": 30,
   "outputs": [
    {
     "name": "stdout",
     "output_type": "stream",
     "text": [
      "Number of variables = 50000\n",
      "Number of constraints = 10020\n",
      "Solution:\n",
      "Objective value = 6776.0\n",
      "\n",
      "Advanced usage:\n",
      "Problem solved in 8748 milliseconds\n",
      "Problem solved in 14604 iterations\n"
     ]
    }
   ],
   "source": [
    "objective_function_value, predict_hard= operation_research_func(samples, cost_matrix, global_constraint, subgroup_constraint, random_state =42)"
   ],
   "metadata": {
    "collapsed": false,
    "ExecuteTime": {
     "end_time": "2024-02-18T09:20:02.830912100Z",
     "start_time": "2024-02-18T09:19:53.994575Z"
    }
   },
   "id": "8ddbb796dfabc72e"
  },
  {
   "cell_type": "markdown",
   "source": [
    "# Apply allocation heuristic \n",
    "- Sort by cost\n",
    "- go over samples and check if there is a place consider the constraints"
   ],
   "metadata": {
    "collapsed": false
   },
   "id": "39e626ff6232dfa7"
  },
  {
   "cell_type": "code",
   "execution_count": 31,
   "outputs": [
    {
     "data": {
      "text/plain": "subgroup  predict_hard_max\n1         0                   1735\n          1                   1668\n2         0                   1600\n          1                   1623\n3         0                   1642\n          1                   1732\nName: count, dtype: int64"
     },
     "execution_count": 31,
     "metadata": {},
     "output_type": "execute_result"
    }
   ],
   "source": [
    "num_samples = 10000\n",
    "num_classes = 2\n",
    "probabilities = np.random.dirichlet(np.ones(num_classes), size=num_samples)\n",
    "predict_labels_proba = pd.DataFrame(probabilities, columns=[i for i in range(num_classes)])\n",
    "\n",
    "subgroups = np.random.randint(1, 4, size=num_samples)\n",
    "samples = predict_labels_proba\n",
    "samples['subgroup'] = subgroups\n",
    "\n",
    "samples_info = pd.DataFrame(samples['subgroup'])\n",
    "samples_info['predict_hard_max'] = samples[[0, 1,]].idxmax(axis=\"columns\").astype(int)\n",
    "samples_info['count'] = 1\n",
    "subgroup_info = samples_info.groupby(['subgroup', 'predict_hard_max']).sum('count')\n",
    "subgroup_info['count']"
   ],
   "metadata": {
    "collapsed": false,
    "ExecuteTime": {
     "end_time": "2024-02-18T09:20:05.237796500Z",
     "start_time": "2024-02-18T09:20:05.145092900Z"
    }
   },
   "id": "5de728cba0815875"
  },
  {
   "cell_type": "code",
   "execution_count": 32,
   "outputs": [],
   "source": [
    "sub1 = 1\n",
    "sub2 = 2\n",
    "sub3 = 3\n",
    "subgroup_constraint = {sub1: [-1, 500] , sub2: [-1, 500], sub3: [-1, 500]}\n",
    "cost_matrix = np.array([[0,1],[1, 0]])\n",
    "cost_matrix = np.array([cost_matrix for i in range(samples.shape[0])])\n",
    "global_constraint = [-1, 100]\n"
   ],
   "metadata": {
    "collapsed": false,
    "ExecuteTime": {
     "end_time": "2024-02-18T09:20:06.423350300Z",
     "start_time": "2024-02-18T09:20:06.363087Z"
    }
   },
   "id": "d6ce800831ee29f4"
  },
  {
   "cell_type": "code",
   "execution_count": 33,
   "outputs": [],
   "source": [
    "objective_value_heuristic, predict_hard_heuristic, _ = allocation_heuristic(samples, cost_matrix,  global_constraint, subgroup_constraint, random_state=42)"
   ],
   "metadata": {
    "collapsed": false,
    "ExecuteTime": {
     "end_time": "2024-02-18T09:20:09.881401400Z",
     "start_time": "2024-02-18T09:20:07.009592200Z"
    }
   },
   "id": "4afd40a402fe2537"
  },
  {
   "cell_type": "code",
   "execution_count": 34,
   "outputs": [
    {
     "data": {
      "text/plain": "4908.655111134541"
     },
     "execution_count": 34,
     "metadata": {},
     "output_type": "execute_result"
    }
   ],
   "source": [
    "objective_value_heuristic"
   ],
   "metadata": {
    "collapsed": false,
    "ExecuteTime": {
     "end_time": "2024-02-18T09:20:13.633692500Z",
     "start_time": "2024-02-18T09:20:13.570893500Z"
    }
   },
   "id": "d0a9319e9c19ed06"
  },
  {
   "cell_type": "code",
   "execution_count": 35,
   "outputs": [
    {
     "name": "stdout",
     "output_type": "stream",
     "text": [
      "Number of variables = 20000\n",
      "Number of constraints = 10008\n",
      "Solution:\n",
      "Objective value = 4908.7\n",
      "\n",
      "Advanced usage:\n",
      "Problem solved in 3073 milliseconds\n",
      "Problem solved in 10211 iterations\n"
     ]
    }
   ],
   "source": [
    "objective_function_value, predict_hard_or= operation_research_func(samples, cost_matrix, global_constraint, subgroup_constraint, random_state =42)"
   ],
   "metadata": {
    "collapsed": false,
    "ExecuteTime": {
     "end_time": "2024-02-18T09:20:17.451227100Z",
     "start_time": "2024-02-18T09:20:14.337757700Z"
    }
   },
   "id": "83375c994c8896af"
  },
  {
   "cell_type": "code",
   "execution_count": 36,
   "outputs": [
    {
     "data": {
      "text/plain": "100"
     },
     "execution_count": 36,
     "metadata": {},
     "output_type": "execute_result"
    }
   ],
   "source": [
    "sum(predict_hard_or)"
   ],
   "metadata": {
    "collapsed": false,
    "ExecuteTime": {
     "end_time": "2024-02-18T09:20:17.594623400Z",
     "start_time": "2024-02-18T09:20:17.569611100Z"
    }
   },
   "id": "4c4e8b5805f24886"
  },
  {
   "cell_type": "code",
   "execution_count": 37,
   "outputs": [
    {
     "data": {
      "text/plain": "100"
     },
     "execution_count": 37,
     "metadata": {},
     "output_type": "execute_result"
    }
   ],
   "source": [
    "sum(predict_hard_heuristic)"
   ],
   "metadata": {
    "collapsed": false,
    "ExecuteTime": {
     "end_time": "2024-02-18T09:20:18.785020200Z",
     "start_time": "2024-02-18T09:20:18.743548200Z"
    }
   },
   "id": "883ba7bd6d4d506a"
  },
  {
   "cell_type": "code",
   "execution_count": 38,
   "outputs": [
    {
     "data": {
      "text/plain": "array([], dtype=int32)"
     },
     "execution_count": 38,
     "metadata": {},
     "output_type": "execute_result"
    }
   ],
   "source": [
    "predict_hard_or[predict_hard_or != predict_hard_heuristic]"
   ],
   "metadata": {
    "collapsed": false,
    "ExecuteTime": {
     "end_time": "2024-02-18T09:20:19.508332800Z",
     "start_time": "2024-02-18T09:20:19.467950Z"
    }
   },
   "id": "b8b06486e4dfdf75"
  },
  {
   "cell_type": "markdown",
   "source": [
    "# Intuit dataset"
   ],
   "metadata": {
    "collapsed": false
   },
   "id": "80941ba4216da9e7"
  },
  {
   "cell_type": "code",
   "execution_count": 39,
   "outputs": [],
   "source": [
    "df = pd.read_csv('data/feature_dataset_5000.csv')#reset_index()\n",
    "test = df[df['prediction_date'] == '2023-07-31'].reset_index()\n",
    "y_test = test['target']"
   ],
   "metadata": {
    "collapsed": false,
    "ExecuteTime": {
     "end_time": "2024-02-18T09:20:24.703985300Z",
     "start_time": "2024-02-18T09:20:22.515051800Z"
    }
   },
   "id": "d2330fd5cf13ceb6"
  },
  {
   "cell_type": "code",
   "execution_count": 40,
   "outputs": [
    {
     "data": {
      "text/plain": "             0         1                              subgroup\n0     0.531627  0.468373  867c4a38-0d75-46ff-a4c2-f44cb63be2c9\n1     0.108769  0.891231  280a19b6-a767-4e7f-b6b4-e422d6876897\n2     0.365181  0.634819  89e6e230-1333-448b-9800-dc2d09a85e99\n3     0.984345  0.015655  63260486-7618-4660-9445-7e4885e99042\n4     0.782031  0.217969  50761787-31da-4b17-8048-c6063b614b80\n...        ...       ...                                   ...\n4995  0.885391  0.114609  d3c35a47-5967-4bef-a39b-feafed32261c\n4996  0.531627  0.468373  451e185d-5ad1-469f-8c33-164884140ffc\n4997  0.108769  0.891231  867c4a38-0d75-46ff-a4c2-f44cb63be2c9\n4998  0.108769  0.891231  75f8d952-be81-4e22-951e-41b291d211f2\n4999  0.108769  0.891231  867c4a38-0d75-46ff-a4c2-f44cb63be2c9\n\n[5000 rows x 3 columns]",
      "text/html": "<div>\n<style scoped>\n    .dataframe tbody tr th:only-of-type {\n        vertical-align: middle;\n    }\n\n    .dataframe tbody tr th {\n        vertical-align: top;\n    }\n\n    .dataframe thead th {\n        text-align: right;\n    }\n</style>\n<table border=\"1\" class=\"dataframe\">\n  <thead>\n    <tr style=\"text-align: right;\">\n      <th></th>\n      <th>0</th>\n      <th>1</th>\n      <th>subgroup</th>\n    </tr>\n  </thead>\n  <tbody>\n    <tr>\n      <th>0</th>\n      <td>0.531627</td>\n      <td>0.468373</td>\n      <td>867c4a38-0d75-46ff-a4c2-f44cb63be2c9</td>\n    </tr>\n    <tr>\n      <th>1</th>\n      <td>0.108769</td>\n      <td>0.891231</td>\n      <td>280a19b6-a767-4e7f-b6b4-e422d6876897</td>\n    </tr>\n    <tr>\n      <th>2</th>\n      <td>0.365181</td>\n      <td>0.634819</td>\n      <td>89e6e230-1333-448b-9800-dc2d09a85e99</td>\n    </tr>\n    <tr>\n      <th>3</th>\n      <td>0.984345</td>\n      <td>0.015655</td>\n      <td>63260486-7618-4660-9445-7e4885e99042</td>\n    </tr>\n    <tr>\n      <th>4</th>\n      <td>0.782031</td>\n      <td>0.217969</td>\n      <td>50761787-31da-4b17-8048-c6063b614b80</td>\n    </tr>\n    <tr>\n      <th>...</th>\n      <td>...</td>\n      <td>...</td>\n      <td>...</td>\n    </tr>\n    <tr>\n      <th>4995</th>\n      <td>0.885391</td>\n      <td>0.114609</td>\n      <td>d3c35a47-5967-4bef-a39b-feafed32261c</td>\n    </tr>\n    <tr>\n      <th>4996</th>\n      <td>0.531627</td>\n      <td>0.468373</td>\n      <td>451e185d-5ad1-469f-8c33-164884140ffc</td>\n    </tr>\n    <tr>\n      <th>4997</th>\n      <td>0.108769</td>\n      <td>0.891231</td>\n      <td>867c4a38-0d75-46ff-a4c2-f44cb63be2c9</td>\n    </tr>\n    <tr>\n      <th>4998</th>\n      <td>0.108769</td>\n      <td>0.891231</td>\n      <td>75f8d952-be81-4e22-951e-41b291d211f2</td>\n    </tr>\n    <tr>\n      <th>4999</th>\n      <td>0.108769</td>\n      <td>0.891231</td>\n      <td>867c4a38-0d75-46ff-a4c2-f44cb63be2c9</td>\n    </tr>\n  </tbody>\n</table>\n<p>5000 rows × 3 columns</p>\n</div>"
     },
     "execution_count": 40,
     "metadata": {},
     "output_type": "execute_result"
    }
   ],
   "source": [
    "samples_all = pd.read_csv('data/predict_proba.csv', index_col=False)\n",
    "samples_all = samples_all.rename(columns={'provider_id': 'subgroup', '0': 0, '1': 1})\n",
    "samples_all"
   ],
   "metadata": {
    "collapsed": false,
    "ExecuteTime": {
     "end_time": "2024-02-18T09:20:24.814437600Z",
     "start_time": "2024-02-18T09:20:24.710897100Z"
    }
   },
   "id": "36ce013a"
  },
  {
   "cell_type": "markdown",
   "source": [
    "The constraints (global and local) are defined as a list with a constraint for each class (ordered). The constraint is the total number of samples for each class and -1 is for classes that don't have constraints. "
   ],
   "metadata": {
    "collapsed": false
   },
   "id": "5c329a9fa0b3dc19"
  },
  {
   "cell_type": "code",
   "execution_count": 41,
   "outputs": [
    {
     "data": {
      "text/plain": "{'867c4a38-0d75-46ff-a4c2-f44cb63be2c9': [-1, 155.0],\n 'a12f6956-9aca-4550-8caa-2e2f9532674c': [-1, 63.0],\n '02531004-4599-4177-9d7d-00bc85a200c6': [-1, 50.0],\n '856f211d-c66e-4db7-b910-7419900a70e1': [-1, 41.0],\n '75f8d952-be81-4e22-951e-41b291d211f2': [-1, 37.0],\n '451e185d-5ad1-469f-8c33-164884140ffc': [-1, 22.0],\n 'c8fa65fe-4bf6-4846-aaaa-62f8937e31bf': [-1, 21.0],\n '22f309a8-1746-49a7-bf6c-678729834573': [-1, 19.0],\n 'd712a1f3-812a-4f41-a567-07b97ce32fa1': [-1, 15.0],\n 'a0dc02cc-c56b-4931-ad79-8ed0d3bd2ffc': [-1, 15.0],\n '444b0293-8056-47e0-a3c8-cd7bca4997d3': [-1, 14.0],\n 'a68c8f2a-f1a7-4c64-9dc4-d641c9371725': [-1, 14.0],\n '172d3f92-3da0-4ad9-b8e8-12d95102b35f': [-1, 12.0],\n 'b954c933-d771-4dc0-8f4f-89db56cf7266': [-1, 11.0],\n '318dfa35-b3d4-48ac-83b0-a4428d01444c': [-1, 11.0],\n '555339a4-dbff-43f2-9c92-b0e03b1c6312': [-1, 10.0],\n '3f33a0b8-d4da-445a-baa3-678dfb0d8763': [-1, 9.0],\n '148d76c1-3e78-4581-b909-e4abd3496e12': [-1, 9.0],\n 'dc4abe91-b03f-4dd2-9987-102db5767235': [-1, 7.0],\n '324ebb81-07ca-4fa2-9235-6f023e806cdd': [-1, 7.0],\n '89e6e230-1333-448b-9800-dc2d09a85e99': [-1, 7.0],\n 'ddcca177-076a-4389-b357-bc03fa194438': [-1, 7.0],\n 'e7abc7ac-02af-40fe-b33c-5ba1b5002bc1': [-1, 7.0],\n '9b9f5ceb-dea2-49db-8476-4530c1b0c92d': [-1, 7.0],\n '2f02d16f-ace7-4604-a037-8ec0a1e2f14a': [-1, 6.0],\n '99382634-1f3d-45b5-9841-109cb0b1a4fc': [-1, 6.0],\n 'af81284e-2342-4b14-b75c-ad1e45b62bfb': [-1, 6.0],\n 'ddc445d9-2a88-4b42-9ae6-6cd85ec36694': [-1, 6.0],\n '49725016-e6ab-4bd8-a0c9-7c034d2030bf': [-1, 5.0],\n '504efc96-35b8-45a8-8731-a2d77fae31b2': [-1, 5.0],\n '85cf48db-6bf6-4c77-a845-5510cfde81ce': [-1, 5.0],\n 'c5448ab4-44f3-48d8-9984-d42d66410b72': [-1, 5.0],\n '78a2dfc3-1a07-4aea-99a9-13723f61d4ca': [-1, 5.0],\n '97e57713-7534-4808-a757-01eed8283029': [-1, 5.0],\n '862ccdd4-5e8e-4238-be44-f1e84e12b017': [-1, 5.0],\n 'c007d2fc-4744-420b-a526-42db3d4f4e6e': [-1, 5.0],\n '50b5a2d8-06d1-4d8d-b8b3-2b945e7c35d6': [-1, 5.0],\n '402b1bde-d71d-4932-a514-95a2334eb586': [-1, 5.0],\n '61e01619-46dc-4f62-b8c4-ee29f2683858': [-1, 4.0],\n 'daa22321-c750-4a84-960e-bdb6c1eae877': [-1, 4.0],\n 'b4122aa1-50ce-4d2d-aeaf-baf2de92b45e': [-1, 4.0],\n 'eda10dfe-931e-450d-ae43-b53618dc437d': [-1, 4.0],\n 'fbeaae28-95a2-409b-99c5-6826aa7be232': [-1, 4.0],\n 'ba1d81fb-d010-4e81-ac65-a065e92e1e38': [-1, 4.0],\n 'cebfd77f-2230-455e-a4a3-985c4d9bc306': [-1, 4.0],\n '69618d15-8d7b-403b-9367-c40eb87d14c3': [-1, 3.0],\n 'a650c054-b2e1-4595-85f7-5c5dbde83ec6': [-1, 3.0],\n 'd552a73f-e516-4d33-9f42-9c214ba73857': [-1, 3.0],\n 'adf08798-2d38-48c6-9e5e-87dabc450506': [-1, 3.0],\n '966aa4fa-febb-4cac-9092-5ee4099b0b9a': [-1, 3.0],\n 'fab5fec5-695e-4666-9568-78caf302883e': [-1, 3.0],\n '7e3c2c96-44da-4d23-b966-2d34f65b3401': [-1, 3.0],\n '6f8bd649-7125-40a7-818b-4cc67a4863d2': [-1, 3.0],\n 'dd568b0d-4836-42c9-afab-55dfbc918d89': [-1, 3.0],\n 'b25b4759-ec9b-4f0a-b255-62e6a8557fe7': [-1, 3.0],\n 'cccbcaeb-5de1-4f8b-899d-f4fd8bc70176': [-1, 3.0],\n 'e8436b2b-3858-4e5d-ac65-d45df8fbdf21': [-1, 3.0],\n '5440add4-b3cf-41f0-8f63-69ae067ac594': [-1, 3.0],\n '63a50dc0-315c-485a-b497-c8efb89eff3f': [-1, 3.0],\n 'ed83de9d-5924-4f4f-a918-64ffd374a713': [-1, 3.0],\n '440252c1-df52-4462-adf4-9279effc14b7': [-1, 3.0],\n '93b2308a-de85-44df-8a9c-72a4266366d4': [-1, 2.0],\n 'f446e363-050e-4898-b0fe-f86975df305c': [-1, 2.0],\n 'f10c1b75-2c77-499f-953a-d98eb5302f3d': [-1, 2.0],\n 'dd3b490a-35c2-4efc-b46a-7a259f90f8d9': [-1, 2.0],\n '2dd5ef00-88df-4ab0-9182-ffd94489910c': [-1, 2.0],\n 'e17e5272-baea-4a1a-a52e-5ce51ab7b627': [-1, 2.0],\n 'a50df44f-7c38-4206-94fe-1c867fa8d6f4': [-1, 2.0],\n '37c9597b-c286-4820-9f38-6c72b5256fc9': [-1, 2.0],\n '9e61878f-96fb-4bb7-8e83-913622971311': [-1, 2.0],\n 'bf5cdc22-7f79-4aed-9f54-3211a763869b': [-1, 2.0],\n 'cd8a6daa-9553-4566-ab2a-31b22277d7ad': [-1, 2.0],\n 'c6b14e65-fa80-426a-9d14-5553aa7ae73e': [-1, 2.0],\n '603643a8-e394-42f5-b656-a7ae33b156fe': [-1, 2.0],\n '5e66f7b2-4627-4f73-9737-611fece320a2': [-1, 2.0],\n 'c649fb6a-35bc-4e15-90ab-bc5d0c075149': [-1, 2.0],\n 'ef85c795-16e5-4e51-952c-7fb34ecda222': [-1, 2.0],\n 'dde5bb6d-497e-472a-a6b4-59201a6f2bb9': [-1, 2.0],\n '5a54c7d7-ae68-4bef-b920-9c9a78450bde': [-1, 2.0],\n '82746f35-ae20-406e-a2ee-e0d21e834e3b': [-1, 2.0],\n '3b7c20df-42c4-4f1c-8ec9-0fc07417282f': [-1, 2.0],\n '8ea90665-4ab8-42b8-ac08-ad3efba4f673': [-1, 2.0],\n 'f5450604-986a-45cb-8cac-f1238f6ba8d0': [-1, 2.0],\n '1ed367c5-b512-48ba-ad50-85aff1582464': [-1, 2.0],\n '9638be39-8160-4fa6-8093-1434234885cb': [-1, 2.0],\n '81d4cabe-c805-483e-a3fb-8fd3d3cef57f': [-1, 2.0],\n '58b25639-e6ba-4ff0-aed1-5ca66c8debb0': [-1, 2.0],\n '1fe14232-84ec-4bf9-9916-39603a327672': [-1, 2.0],\n '59985b44-d8f3-4cc4-8c0a-381a6b1c14c1': [-1, 2.0],\n '5a386b71-bdf5-4c41-a1a5-3ad5d411cc8d': [-1, 2.0],\n 'b41cf2bb-7ac4-42e2-a4bb-41acc19780dc': [-1, 2.0],\n '6a227f57-2693-4dff-b77c-133d7115f0a7': [-1, 2.0],\n '84168a20-eecb-460a-89c9-90ff9d7afd59': [-1, 2.0],\n '6fd3e0f8-c81e-4cfa-9041-65f25e8229aa': [-1, 2.0],\n 'c9030511-7247-455d-8edc-e144dc926a0d': [-1, 2.0],\n '8ce7bdf0-b5ee-42da-820e-e74917989e99': [-1, 2.0],\n 'c33ec07e-15ba-4cdd-a18d-a2d00801d27f': [-1, 2.0],\n 'fc441357-7844-4b87-98a9-00f9a9445377': [-1, 2.0],\n '78dfe145-ba13-4172-b8f9-32bcd3f156c5': [-1, 2.0],\n '9061a164-e0b6-438b-add2-c82fd9369169': [-1, 2.0],\n '00c7cc34-c4a8-432c-9a1d-53e54b3da2a9': [-1, 2.0],\n '3bbbcb79-2e7d-4049-a828-173d654b32e9': [-1, 2.0],\n 'f6308ae4-a7cb-423f-9b20-3a9087090fc4': [-1, 2.0],\n 'f92e9eb0-8da5-407b-8300-45811999d721': [-1, 1.0],\n '1c43676e-0130-4d4a-a83b-876ca5d27c5e': [-1, 1.0],\n '5bea8553-5193-4672-abda-a4aff7658784': [-1, 1.0],\n '50761787-31da-4b17-8048-c6063b614b80': [-1, 1.0],\n 'd3c35a47-5967-4bef-a39b-feafed32261c': [-1, 1.0],\n 'a77ceca9-23b0-4f2c-9f90-622549f42ad8': [-1, 1.0],\n '695271f7-b85e-47a1-8a2d-477ea2192036': [-1, 1.0],\n 'e3326805-e1e2-4919-bd69-66b1df7090c6': [-1, 1.0],\n '6cb5cb6b-2428-411a-81a9-01e7729d06e8': [-1, 1.0],\n 'eda1fc4e-b969-4033-a6d1-f434f7d8c544': [-1, 1.0],\n '1caf18f5-d7ed-4f24-8352-a2a885cfd21b': [-1, 1.0],\n '395fe4cd-9407-48c5-b840-6c6dfb5b8af8': [-1, 1.0],\n 'f376e90b-42ee-48c4-93d0-4f030861bce8': [-1, 1.0],\n '7984b714-8356-457c-b35e-e2fed3d8065c': [-1, 1.0],\n '8fc23aa1-d313-4607-9043-43dd05036bb3': [-1, 1.0],\n '677aca37-f992-4224-adda-126af27ac3ae': [-1, 1.0],\n '1bd120d7-b9dc-47a3-af52-e4af627d71ab': [-1, 1.0],\n 'f72725d6-6e9f-42c4-9676-f1d4f9071fd7': [-1, 1.0],\n 'f935fe5e-b160-4697-9361-444acc9ecd52': [-1, 1.0],\n '1735d017-89c0-4c1f-b48b-d29778489523': [-1, 1.0],\n '8255742c-8b83-420c-8630-944aff904d79': [-1, 1.0],\n 'dc85d638-6c4b-4e69-a3b6-0e57dc5d52e0': [-1, 1.0],\n '05d86717-d764-4c84-b6ed-874dba44c758': [-1, 1.0],\n 'd09f5a4f-89bd-4262-89a1-70703fcd1d94': [-1, 1.0],\n '97c690cd-1b22-426f-9fee-9987e4c6e14f': [-1, 1.0],\n '628b9e11-a342-43fa-886b-f927d95e2e2c': [-1, 1.0],\n '846ad2ee-73d3-4049-bcb5-1c73f72128f7': [-1, 1.0],\n '3c273194-155d-47f4-839f-5f0fcf14a4cb': [-1, 1.0],\n '7024639f-3369-415b-87d8-bfa64fb1f030': [-1, 1.0],\n 'a8298fc5-2940-4d0f-af83-06e3fa591f2e': [-1, 1.0],\n '042c7699-10cc-4c62-a7a4-7b31ebeabdc9': [-1, 1.0],\n '205ce1cc-0e2f-43cf-b00f-4f800bcc370c': [-1, 1.0],\n '18003af4-8b04-474b-8b8e-ccab9e489403': [-1, 1.0],\n 'c672d1a4-89fd-4b7d-87eb-10ae8c58ade8': [-1, 1.0],\n '1c84fbe1-d13e-4a25-8d8c-88bf10c601d9': [-1, 1.0],\n 'eceba9b2-2516-452e-9dd8-e416be18e871': [-1, 1.0],\n '2fdcb6d5-35de-45cc-9d98-058ef7c8ff66': [-1, 1.0],\n 'd0183869-49de-498e-aa1f-be2eb661b5f0': [-1, 1.0],\n '768ceb8f-5273-457b-b1f7-544ef56c849d': [-1, 1.0],\n '2d5a9834-128b-46d3-a743-b0664d13829b': [-1, 1.0],\n '32cc8b18-9c9d-466b-98a1-b080972900cf': [-1, 1.0],\n '956f3a8f-ed35-494a-805a-a13339f88776': [-1, 1.0],\n 'e2992f5d-b802-4ccd-82c3-6f5fcea5cdce': [-1, 1.0],\n 'c45f1723-68a2-4e57-972a-fee608ef290a': [-1, 1.0],\n '9bb007ae-476e-482d-a214-7267de25435f': [-1, 1.0],\n '43fe0008-0abd-4f41-b841-1f4f1f3dae17': [-1, 1.0],\n '55c40cf6-bb7e-4d60-84b1-6440614e41da': [-1, 1.0],\n 'e1e704e4-71fc-4524-9856-5dc1c1fd1cf5': [-1, 1.0],\n '3090baf6-c70a-44ce-b8ac-6acad63af627': [-1, 1.0],\n '87a253ea-3794-45e1-8357-b915410482a1': [-1, 1.0],\n '9b1a4d08-c6c8-4947-ac31-bddd7b16ff99': [-1, 1.0],\n 'abd2df4b-8c86-4750-b02d-07eda52c9cbf': [-1, 1.0],\n 'ebe79916-2401-4d33-9535-bf2d62474ccb': [-1, 1.0],\n '113b969a-4700-417a-91fa-1fb209ac028c': [-1, 1.0],\n '2b9d1ca3-dfe8-4d69-b9df-c1822cd7f30c': [-1, 1.0],\n 'bc6d7681-2526-4c4e-8379-2b0dfa091671': [-1, 1.0],\n '39e674a9-e363-42c2-a6b0-45e24567b1d1': [-1, 1.0],\n '3c9065f7-2e32-4d07-8d08-e61862b8d2a1': [-1, 1.0],\n '13249bad-e66f-4580-8ef8-7d64a487172e': [-1, 1.0],\n 'c41d9df5-70c8-4c42-93b6-08c7428f25e5': [-1, 1.0],\n '7c100ac7-b8a7-4008-be7b-13c542d6dd90': [-1, 1.0],\n '40934d0f-db97-4657-afbb-011c65c702b0': [-1, 1.0],\n 'b574cdc3-d8d5-4c84-ae7c-a0cd4a293da9': [-1, 1.0],\n '7b285bcb-76d1-42bc-a16e-0837b0bb33d3': [-1, 1.0],\n '52e258f1-9353-45c3-b850-78f0a6a9a6ef': [-1, 1.0],\n 'facb5e3f-af20-45aa-a38a-81eba60a9e95': [-1, 1.0],\n '9f95cafe-d29b-46b0-b6a9-00b16b1604be': [-1, 1.0],\n 'de6eb5a1-ab6d-455b-afbc-e94f21e943b0': [-1, 1.0],\n '3451d474-c8c4-4c43-a6b0-545879c331c6': [-1, 1.0],\n 'bb827824-e137-44ce-81d4-2063d36e0a27': [-1, 1.0],\n '906fbb0e-212b-4e61-9c87-494e3131967b': [-1, 1.0],\n '7e3f07ac-d206-48ba-897f-75431255aa5c': [-1, 1.0],\n 'cd14ef25-4389-46c1-87e4-385b21361db3': [-1, 1.0],\n 'c86ae704-0b72-4464-a8dd-57d902cd5283': [-1, 1.0],\n '81538053-2f82-415d-b094-c1bdbceb800d': [-1, 1.0],\n 'b0c8e4a2-24d1-47b1-9ec9-ca1de7c6e6a8': [-1, 1.0],\n '38dd5129-66a2-493f-9381-77a4223925a2': [-1, 1.0],\n 'a9704ef7-6bff-4b89-8ae5-71f36980c70e': [-1, 1.0],\n '72346afc-3bfc-4fa4-929c-9d94e32594f5': [-1, 1.0],\n 'e9560cc9-a5ce-4364-8494-9a12f718754b': [-1, 1.0],\n 'd01a559e-3c46-4542-8f5d-e84f9f24fac5': [-1, 1.0],\n '9a3d9920-9fd5-4619-8672-3d7f7403a71f': [-1, 1.0],\n 'ade23e4c-bf20-4a7b-95b1-9e43c6da9ec2': [-1, 1.0],\n '53ceb1db-644f-4b08-93f2-06859fed2a34': [-1, 1.0],\n '3a18c7c5-2164-411c-8d6c-25ab099edf51': [-1, 1.0],\n '1c015fbf-cb20-4b45-942f-da870306b93d': [-1, 1.0],\n '2df4c704-b3aa-4632-8bbd-4bba220fe598': [-1, 1.0],\n 'e23b0f33-6a16-437c-8eb6-30027206c7f9': [-1, 1.0],\n '116a8b56-f19c-4cf2-aff6-b2fe49025f81': [-1, 1.0],\n '6b9b8fb8-a9bb-45f4-8172-5f8b3cc6ddc5': [-1, 1.0],\n '4791b8fd-e339-41fb-be07-37b7747f1064': [-1, 1.0],\n 'fd33b0bb-623c-4103-85c2-d2624d2b8eae': [-1, 1.0],\n 'e4ce7ad1-e6a4-4841-8861-18baabe30c8b': [-1, 1.0],\n 'a8faa98f-6152-43c3-8276-a18a556d8cca': [-1, 1.0],\n 'fda59f2c-38fb-481f-bf05-fb333b46dc3c': [-1, 1.0],\n 'ee34201c-e508-4ea1-a335-7e6b3b4f0ae3': [-1, 1.0],\n '90ac6353-32ef-498e-8acf-a9c268cb5d6b': [-1, 1.0],\n 'd50960d2-3754-4a5a-8c72-9e1a910a473e': [-1, 1.0],\n '6c1ba9c2-978e-44e4-8ecb-a51fbb06fe0c': [-1, 1.0],\n '8db7e13c-3f39-444f-b56c-6f4f8400e887': [-1, 1.0],\n 'cfa3bb7f-2b8a-4788-9baf-4e85923c0287': [-1, 1.0],\n 'e29158d7-2e05-424f-8e59-f153621b53af': [-1, 1.0],\n 'b1ab44a6-a9a3-456e-864b-d604f2991d69': [-1, 1.0],\n '030800eb-29c8-47e4-aa55-827f58d84d56': [-1, 1.0],\n 'cf9595f3-dd1f-4e6b-af2d-348f983a43f5': [-1, 1.0],\n 'd232e3a7-15ae-4f48-8869-39aade382ffc': [-1, 1.0],\n '7515cf2a-0fea-4f43-ab6b-584a1cc2432c': [-1, 1.0],\n '45696f6e-a8d1-4da6-a22e-6eeac508ef2a': [-1, 1.0],\n 'fc3fcfc8-d592-44ef-9ee3-a5f5b2c49d6b': [-1, 1.0],\n 'e0eb1570-e29e-4763-8936-0542ef354b4b': [-1, 1.0],\n '8d9259a7-273b-496b-ac8e-ddde21786fc0': [-1, 1.0],\n 'f0136b59-9b14-49cd-af8f-de0a5ca288fd': [-1, 1.0],\n '5021c9b9-4db3-48d0-bad3-cf84a47ba298': [-1, 1.0],\n 'b7a693be-6250-4b90-8846-2ecc06ec3686': [-1, 1.0],\n 'e4941241-8e83-48a5-bf9d-4be784f62f3e': [-1, 1.0],\n '74861f4a-26b1-4f1e-884a-13c053d5d8b2': [-1, 1.0],\n '3e2587b8-9c82-4689-afeb-6a8b7a9642d4': [-1, 1.0],\n 'aa479248-27a4-4d9c-a764-ac763abbd18f': [-1, 1.0],\n '788007dc-d2cf-448b-b48c-2533a631ab0c': [-1, 1.0],\n 'a16fb6ea-35f8-43a1-85c7-c7c64f229ccc': [-1, 1.0],\n 'eea28bcc-b76b-4381-8df8-a77dea5ede31': [-1, 1.0],\n '779b9c8c-3f53-494a-a980-c49fe97238f8': [-1, 1.0],\n 'b91e704d-5df7-4d53-b209-394eebfbfdeb': [-1, 1.0],\n '599662a2-157d-4569-bb4e-2ced0b262136': [-1, 1.0],\n 'ce47092d-e59b-491c-9d2c-09399e1b1346': [-1, 1.0],\n '323c09df-0d0a-47fa-b335-3da2f9b427a1': [-1, 1.0],\n 'c69c20f9-aa01-486c-89b6-e9f1bd70375a': [-1, 1.0],\n 'bef3ab8b-6f92-4277-9761-9d427dea423b': [-1, 1.0],\n 'dafe6a3f-5d3b-4e4c-b0b0-c310875976de': [-1, 1.0],\n '7a24fea9-aec1-4bca-8c4e-4278af889949': [-1, 1.0],\n '3ee35279-100b-4db1-9efb-61025c6dcf83': [-1, 1.0],\n '2e0c3880-98fc-457c-ba99-1f41216e6949': [-1, 1.0],\n '32754491-e55d-4c4d-bc16-2b34d1f40669': [-1, 1.0],\n '2703b9e8-0320-4023-897e-836649962064': [-1, 1.0],\n '54b5f884-d76e-4850-94de-356c97474413': [-1, 1.0],\n '2032098a-97a5-4efe-a1eb-0609251d77a9': [-1, 1.0],\n 'd1bb5291-8dce-4ca3-838c-e1cde38f1248': [-1, 1.0],\n '8d5de0dd-eabe-4e84-a824-72394fd69a79': [-1, 1.0],\n '82716531-759e-4aab-adae-89ededb39e13': [-1, 1.0],\n '23b06dfb-6931-42f5-833c-aab4de1d06d8': [-1, 1.0],\n '63ded1c3-e6b0-458e-bf84-66e220a927e0': [-1, 1.0],\n '87a6a7f9-2d4c-4bcd-9688-bb6d76e8866c': [-1, 1.0],\n '1a4a96bc-d8ed-425c-badd-3f930035df72': [-1, 1.0],\n '0a9c0147-b8d7-45af-9236-46353285a0c2': [-1, 1.0],\n '34e45767-67bf-4574-879c-324d844e58f3': [-1, 1.0],\n 'ae0015c4-6fa8-4e45-94c2-324cbacdaf92': [-1, 1.0],\n 'e62a9e8f-3043-42c6-8167-050aca0652de': [-1, 1.0],\n '8decea01-43b3-41be-ad25-48bfad0e921b': [-1, 1.0],\n '9d854492-19d8-4be2-906e-9d739833e947': [-1, 1.0],\n 'e8724e9c-4645-4a13-a8ca-846d41db57c7': [-1, 1.0],\n 'aa731908-d46c-470c-a646-e02bb612037c': [-1, 1.0],\n '83331cd1-e454-4142-843f-25481c156af4': [-1, 1.0],\n 'ae1b0eea-1d92-4097-afd0-1ce7f4525de6': [-1, 1.0],\n '45373106-8b92-4191-bc86-2a825515b360': [-1, 1.0],\n '452d18cf-2240-40d3-a1ee-6c40b6f1eefa': [-1, 1.0],\n 'd9c9c416-0a84-472a-8149-feea12366ec2': [-1, 1.0],\n 'eaa8b08d-a0c0-44b0-b0a6-cf9a916d0fe2': [-1, 1.0],\n '1ed6759e-8dfd-4473-b7fb-d07a25198c1e': [-1, 1.0],\n '3783d5ed-fb32-424d-99f4-0560ce4487e3': [-1, 1.0],\n '4bf3a571-c287-4d5f-a322-ae293af02598': [-1, 1.0],\n '21a19da1-4a43-4449-b8ea-c6aaabce7222': [-1, 1.0],\n 'a0645a3d-4ccb-4630-b867-56cc8b863cbd': [-1, 1.0],\n 'a1634bae-f0b5-4006-a425-bf7a20bde5f9': [-1, 1.0],\n 'cfb7838b-47c6-40ef-bf3e-dc87ddd86618': [-1, 1.0],\n 'a68e56d2-5440-4dae-b3a4-25d847bdce7f': [-1, 1.0],\n '2f3d0548-18ef-4f39-b6f5-551aeabeae61': [-1, 1.0],\n 'f776912d-6623-42ba-a486-825f016e926e': [-1, 1.0],\n '3146b20e-fe37-4809-97ee-29e57edebab0': [-1, 1.0],\n 'c3244957-249c-4300-bb8c-9e28ed990905': [-1, 1.0],\n '85a155ef-fc49-40ea-a20d-b06ee2fe0bf6': [-1, 1.0],\n 'd5803b22-7401-48ab-835c-b1ce95f08734': [-1, 1.0],\n '9c6c2ebd-4cb0-4230-8487-f85923c2152c': [-1, 1.0],\n 'e72643df-ace5-48e7-8fe4-741514eb5a30': [-1, 1.0],\n '4aaeb140-1292-4ae7-b6c8-b8cd0541c3fd': [-1, 1.0],\n '81590122-cab5-4163-9ee7-15395747075f': [-1, 1.0],\n '148b5f42-368e-484c-b6a8-fa832d9d3cc6': [-1, 1.0],\n 'bf7ca4c3-34af-437b-9860-60f305dc951b': [-1, 1.0],\n '5d9c1d9f-00f6-4202-83f3-a953274df8d3': [-1, 1.0],\n '7dd6dea8-c760-43d7-8ffb-7363f06a96ed': [-1, 1.0],\n '8e75d273-0c30-4f3f-81f4-be7367885a0b': [-1, 1.0],\n '4d438d51-ecc6-4e9a-9c1b-2ecb57c8494c': [-1, 1.0],\n '97351765-45e9-4b50-9120-946fe0bdb383': [-1, 1.0],\n 'f38c16f7-0cb9-40ae-be1d-4432982d67ef': [-1, 1.0],\n 'c523f6be-b7cc-4d52-aebc-73a47832cdbb': [-1, 1.0],\n 'd535a81c-5267-4d9b-9ab6-a7f7ea14d826': [-1, 1.0],\n '5f2702ed-aecb-4d7d-8464-c775dcb9b623': [-1, 1.0],\n '94ca3e7e-88c6-42df-9fc2-286f7bb5309b': [-1, 1.0],\n '580b3bd1-4979-4ccf-bc78-dceeb08dc3b5': [-1, 1.0],\n '614de8cc-42e2-4afc-8490-da3c7fe5ba91': [-1, 1.0],\n 'a5cf0138-d433-4be9-88b6-872d0b8c6265': [-1, 1.0],\n '4814c8fd-e5fe-4321-a71e-b0ea805be95c': [-1, 1.0],\n '14c26c06-ed17-4246-bf2c-2a220d5e35dd': [-1, 1.0],\n 'c7ccd4ba-02e1-4873-9ae6-11c0c8ebc93f': [-1, 1.0],\n 'bbf29013-a1a7-4f4f-a3b2-f614492f1341': [-1, 1.0],\n '3b3db3c2-a334-4580-9d6c-1a4f5548c32e': [-1, 1.0],\n 'c7c1afea-f2b1-4274-a5db-1c75c5ded552': [-1, 1.0],\n '32c5731c-4895-44ae-8f2e-b57be89752f5': [-1, 1.0],\n 'e0190828-fb59-44a1-97da-7d937adfc77f': [-1, 1.0],\n '2a58057d-02a9-4481-a6f1-3e35136cb0b2': [-1, 1.0],\n 'b80637a6-0fc5-4140-a8a0-ca74c42793ec': [-1, 1.0],\n 'd5ccc330-206a-4d38-a164-ee638c405406': [-1, 1.0],\n 'e85603d0-aeb7-4f54-a5ff-cefaee790087': [-1, 1.0],\n '36e0c6bf-63da-40a1-9681-d2abc6abcfbf': [-1, 1.0],\n '724d33ec-62d1-4c45-af2d-3ce806ccf91b': [-1, 1.0],\n '871bce74-99f7-4110-8b1c-8776c2ecde95': [-1, 1.0],\n '0bad5508-893f-4c5b-b5dd-49d7a3df0101': [-1, 1.0],\n '8f3d0235-2cb6-41f7-a25c-de9d21faeaa6': [-1, 1.0],\n 'f6574a18-4288-46cf-bb24-f8e33466dca0': [-1, 1.0],\n '967fee44-2fd5-4e7d-a479-98e28065122c': [-1, 1.0],\n '3e4dfa92-6a71-43b7-baf9-31ed93cadbdb': [-1, 1.0],\n 'e2bbf68b-e83c-4e97-9d30-6d2dd697783b': [-1, 1.0],\n '56490733-bb11-40fb-b030-598cec71420c': [-1, 1.0],\n '1e5a7a0d-ce2c-471c-aa1c-185952d55f8d': [-1, 1.0],\n '1c5d10a1-a95c-46b9-8ceb-f5cf31cd2250': [-1, 1.0],\n '56f2b319-9dc6-465f-aa46-0ffd43c142d4': [-1, 1.0],\n 'e19153e0-f63c-4ae5-83d8-0ba127bbb683': [-1, 1.0],\n 'bfa74939-c0cf-4dc3-aa65-a24400474427': [-1, 1.0],\n 'b8c85476-b870-4de4-ade1-fc8804e8b4bc': [-1, 1.0],\n '5e89da68-3035-4cef-ade5-7a6b15c9e662': [-1, 1.0],\n '24045d08-cb76-40aa-a262-3f388c780c61': [-1, 1.0],\n '0368a26d-8a47-4e29-a082-c203402e016b': [-1, 1.0],\n '190d066a-4d10-4460-834f-8c1e9f9e1662': [-1, 1.0],\n 'b2bb0f9d-cfa4-4de8-aa5e-cfbb0422b095': [-1, 1.0],\n '86c5dda1-41c5-437e-8a28-8ebda043c6c3': [-1, 1.0],\n 'b6b858ee-0383-4547-be67-0df703b678b1': [-1, 1.0],\n '986a629a-be03-4c83-bdf0-f8107b290a53': [-1, 1.0],\n '246fb121-d912-4a7e-a080-2688709fc249': [-1, 1.0],\n '144bac0c-e12c-4368-a71e-9116fa36fc0c': [-1, 1.0],\n '7a6f9c3b-7fe1-4dfd-8d8f-17244d41e363': [-1, 1.0],\n '2f1085a3-3a04-4401-909c-b4fd4f3c247b': [-1, 1.0],\n '7b4233c2-3aca-4703-bc8f-2d0899280982': [-1, 1.0],\n 'f11b90ba-ca01-4d4b-a4ff-582b7afe8dc4': [-1, 1.0],\n 'cb20674e-7f38-4b77-ab9d-95cc53cdedb7': [-1, 1.0],\n '85b78042-1bbd-4208-bd49-14cba960efc2': [-1, 1.0],\n '70e584a4-4d1e-427f-b032-57f7e3278592': [-1, 1.0],\n '243708a0-da59-4e82-837b-2624f48e6a86': [-1, 1.0],\n '8ac47841-73d9-4a0e-bedc-231e3fed4226': [-1, 1.0],\n '65428800-b069-4f02-bbb4-f5009bc39015': [-1, 1.0],\n '3c3e0a8b-b6d3-4da1-8d9f-fe1f6c3dbbc1': [-1, 1.0],\n 'a7b95cfe-d075-43ea-99b9-371a7c497765': [-1, 1.0],\n 'a282cd14-d984-41e6-a379-55bf2fd90d43': [-1, 1.0],\n '4220220c-9744-48c1-bcc4-0832c6bbdbb0': [-1, 1.0],\n '37b36a5d-4d01-4bec-bcbf-94156142130d': [-1, 1.0],\n '8a29c864-534b-4f76-9226-f8dde6de0720': [-1, 1.0],\n '8caad821-0144-45ce-8238-e356065a394d': [-1, 1.0],\n '2b115535-1950-4612-840f-66382e927a9b': [-1, 1.0],\n 'fce77395-dcba-4bf7-b3ba-84c13b850b48': [-1, 1.0],\n '27de3994-9874-4322-8604-914807bc6bc6': [-1, 1.0],\n '09ce10d1-e8cf-4ca3-b239-ee1f2b65dc79': [-1, 1.0],\n 'dcbc52d9-768a-48a0-b879-deb8e1e490e7': [-1, 1.0],\n 'de68c326-8be7-4e7b-921a-477b7c6207b2': [-1, 1.0],\n '1c512a93-5a5a-44e6-913a-47534e3800de': [-1, 1.0],\n '9915d6cc-8cbf-4fbc-a31a-61979e0a0dbb': [-1, 1.0],\n '2674fb47-6c92-4f7f-9a28-931b884a673e': [-1, 1.0],\n 'fb1c4345-65bb-41b8-8011-fb68ca9014f1': [-1, 1.0],\n '911b7129-dbd6-463e-a058-54b5e42760e0': [-1, 1.0],\n '0c3f0c76-07d6-4dfc-9d78-2b17a1c6f396': [-1, 1.0],\n '15ef26aa-e1df-4253-abe4-72261a63abab': [-1, 1.0],\n '313e4b54-dfd1-4047-aec9-43d681805d50': [-1, 1.0],\n '17a12977-51db-486d-9301-7c2954a7c240': [-1, 1.0],\n 'd758b2b6-a2c1-43f5-bf78-c503334057db': [-1, 1.0],\n '3cf02a04-5cfb-4426-a9cd-00c57ed8e298': [-1, 1.0],\n 'd5a58e66-6e12-4fe0-9fb6-307e84ce23b1': [-1, 1.0],\n '9e289c37-dacf-4607-afa6-f8f40ad68649': [-1, 1.0],\n '90a01102-3d3b-495c-b7ad-7f58ee2bd5c7': [-1, 1.0],\n 'a7064b00-64de-4c36-9910-870b015e1722': [-1, 1.0],\n 'b9321530-449e-470d-9bc0-bcd7c2c2a4ff': [-1, 1.0],\n '570685aa-b2f4-4cb6-b7c5-69e6cb4ad1c5': [-1, 1.0],\n '5d0c2909-e45e-4460-9807-c9c70cef0098': [-1, 1.0],\n 'd2bc3fca-c0aa-4787-b253-2afbd97a7ace': [-1, 1.0],\n 'd02eeb01-cdaa-4bc3-bebe-648ff6ac9440': [-1, 1.0],\n 'ca86412f-d512-4034-b686-d48265d0231d': [-1, 1.0],\n 'f67a0a00-784f-425e-850f-60f609d290a4': [-1, 1.0],\n 'e4a52082-dcb7-45d1-89fa-4081b02336b9': [-1, 1.0],\n '44d4a629-8845-4f8a-a3a3-6f4d1606e49c': [-1, 1.0],\n 'd669d7b2-6a6c-4cdc-b493-66c266439984': [-1, 1.0],\n '29806ab6-54a1-48f8-9cb9-1269fd44d348': [-1, 1.0],\n '5e6c6296-8c0b-4f95-b94f-8a59d256ac4d': [-1, 1.0],\n '497b7ed4-b5f0-4cb8-8ae3-01e09cacff1a': [-1, 1.0],\n '788b0fb5-2181-45bb-9e88-cccfabf92033': [-1, 1.0],\n '2fbcb2bb-eebd-40af-8dd6-4e801077dedb': [-1, 1.0],\n 'babb85ac-35fa-405b-aef4-2eb54ee59be6': [-1, 1.0],\n 'a284140c-3b47-4539-9041-699062f89b82': [-1, 1.0],\n 'ed64f6fc-782f-4d10-b107-0bbea4955724': [-1, 1.0],\n 'a3df59df-a49f-4438-8642-8dc1ca8b8f29': [-1, 1.0],\n '74a21db9-355a-4827-b425-56b9a4c1820f': [-1, 1.0],\n 'd8517e1e-6926-4528-8cc8-bad16d3bb7ea': [-1, 1.0],\n 'f425ecfb-5949-45ba-a5b1-de4786125bbf': [-1, 1.0],\n '255aa1a7-1e66-48f6-a799-810aa51ac71d': [-1, 1.0],\n 'e7c46a18-c893-4a1a-8c99-75159477d81b': [-1, 1.0],\n '93af90ac-caf9-40e8-936d-18a8854bf76e': [-1, 1.0],\n '07c80e6c-cc96-4f53-8bfa-62239cf4134a': [-1, 1.0],\n '7e35d9b0-39eb-4b0c-b41e-86d67bf430c3': [-1, 1.0],\n '23f359fe-bf6f-4dc7-bed7-0888777c1ddb': [-1, 1.0],\n '969f25c3-d64f-413f-99ef-84c795e80d71': [-1, 1.0],\n '75eba5bc-5ede-442e-90dc-2b4c53b766e5': [-1, 1.0],\n '1539106d-ce09-416c-94b3-34023a161f5d': [-1, 1.0],\n '11a87be0-3ff1-48c4-9348-868c2e839a9e': [-1, 1.0],\n '4491fae5-0a37-4d13-ab43-c06a096f9215': [-1, 1.0],\n '45284a23-7307-4e6e-8144-7616e8b8aa8d': [-1, 1.0],\n 'ec770039-6437-40f5-80f3-1fabfc0953ae': [-1, 1.0],\n 'e1f610c3-28e8-4428-b6c0-cdd47fe5c1a2': [-1, 1.0],\n 'fd54b6ac-9735-4f9b-8e13-ad8bd7f8e3ba': [-1, 1.0],\n 'a9eba9c2-5f8a-41f7-9175-7f310e56d980': [-1, 1.0],\n '63594e13-25e1-4c30-b5e9-32e55020c2d1': [-1, 1.0],\n '24d08898-4cc8-472c-adac-ee15f2702210': [-1, 1.0],\n 'a9294608-0940-4831-bc05-af61136430b3': [-1, 1.0],\n '13cc623c-00c3-4db9-a9aa-214c24138c01': [-1, 1.0],\n '94913a13-996c-423b-9e0c-d703eadb3916': [-1, 1.0],\n 'b777a31b-1f3e-487d-81ce-26f33a75a4fb': [-1, 1.0],\n 'e9a59abc-8ad9-46fa-ab86-e3fd1a6e1866': [-1, 1.0],\n '9ead7834-f4a3-4d24-a886-64dac35ea4ac': [-1, 1.0],\n '7803231c-95ee-4c05-bbe3-06ae3ec86e29': [-1, 1.0],\n 'afbb7f37-d93e-450b-994d-c17395029347': [-1, 1.0],\n 'a92443ef-5c7b-4e92-8882-ce83b4aa5235': [-1, 1.0],\n 'f4914140-0845-4303-b318-8a274f0b4097': [-1, 1.0],\n '3a8d8cf5-9bdb-4574-bef2-4cb48fa4bf42': [-1, 1.0],\n 'eacfd318-b33b-47c9-9439-afcf9fb138ac': [-1, 1.0],\n '882ef685-e8e2-428d-9099-541cf5544f7b': [-1, 1.0],\n 'ba8c4239-ffda-4c98-9462-2bb28acb309b': [-1, 1.0],\n '62871f78-3a3e-4183-9b0b-4d83dc1826b0': [-1, 1.0],\n '7eae3927-4b34-40d8-a2b6-f7f5debc4f14': [-1, 1.0],\n '875ac37c-4b83-4619-8126-417912efd883': [-1, 1.0],\n 'd1e47f71-f4b5-477f-a141-f2734af91d0c': [-1, 1.0],\n 'ac517bc3-c104-4bee-9bb5-a2e130bc2606': [-1, 1.0],\n '4e22a9c0-3ba9-4221-b681-e947283d2ad1': [-1, 1.0],\n 'eed43a7c-acb2-4ab8-ac73-801c741f746e': [-1, 1.0],\n '3ffb4bc1-2507-49c8-a6de-e5e34759ff15': [-1, 1.0],\n '90478f4e-9d75-4d17-88e6-ea52e8eddff5': [-1, 1.0],\n 'b774ff7b-2be6-4d02-b1fa-8bedb32eca81': [-1, 1.0],\n 'de199c59-f583-46eb-b718-98253dc5c71e': [-1, 1.0],\n 'a0ea5f7b-9ddf-4392-a2de-ba0fd3b4a211': [-1, 1.0],\n 'dd7181cb-1823-44b4-9078-66756bfb9e43': [-1, 1.0],\n '7b10d7d7-5ab0-4ea6-8660-00e8f649b55a': [-1, 1.0],\n '3ac3cc2c-38ed-46cb-a257-72272f8e0271': [-1, 1.0],\n 'a77dae02-ade6-4ccd-b5a5-6c9156b443b0': [-1, 1.0],\n '18b8e7bf-1f5f-4d62-9465-7a23d39b04c9': [-1, 1.0],\n '0ecf2b88-ab39-4cf3-aae0-b13aaeca41d9': [-1, 1.0],\n '25bd05a0-1dbd-4dad-af45-2cae2c4c9d9b': [-1, 1.0],\n '672c3f1f-9b83-4421-b860-b3255ec6afdd': [-1, 1.0],\n '7cb4bd0d-1f22-4872-ace7-e1517ad61319': [-1, 1.0],\n 'd415d85f-7486-4500-a0a3-209060f7e310': [-1, 1.0],\n '771a3af2-9a01-4dc5-86ae-1448843950ab': [-1, 1.0],\n '8f8a311a-9abf-428d-90d4-57c79a09f93c': [-1, 1.0],\n 'cb8e9041-b71a-4d52-8ae4-60af2a95a4fa': [-1, 1.0],\n 'fa4f891b-289a-48dd-98a8-ac98645233af': [-1, 1.0],\n 'c1ad99b6-885e-4688-ac95-3521d255f461': [-1, 1.0],\n '7c1ecc3d-edf7-4988-8efa-d4d8a46f1e1c': [-1, 1.0],\n 'a1a1e9e2-5b86-4014-bdc9-0ebce85f9edf': [-1, 1.0],\n '629e0257-6b87-42be-969a-4d219c95715a': [-1, 1.0],\n '60a627ae-74c7-4e91-92bc-297a99fe1fb7': [-1, 1.0],\n '35a42754-2937-43c8-9fa7-c30a757b0073': [-1, 1.0],\n '5d00acdd-4dde-4867-91f7-3c3c2b767ae2': [-1, 1.0],\n '034bcbba-4c6b-4621-acef-07cc8b457b46': [-1, 1.0],\n 'b02b209f-c886-413e-944b-a2d8c6264837': [-1, 1.0],\n '52a7125d-a955-41bd-b771-4062e3694185': [-1, 1.0],\n '7619f599-d880-43dd-ba15-8775a2583ffd': [-1, 1.0],\n 'c4247147-63bf-4675-bcf2-0ab6dbdddf9c': [-1, 1.0],\n '377b10ab-adc4-4ac1-8e8f-9d16ecd18dca': [-1, 1.0],\n 'ed9cf3ba-af82-4d42-bc23-1e76e4c69b97': [-1, 1.0],\n 'ff0a8a6a-9236-4f4d-833f-b5cf4e03fdbf': [-1, 1.0],\n '4f22cdaf-8052-4f6d-a8ca-d927489b6a55': [-1, 1.0],\n '0dd36938-f46c-4089-8244-52d10d4985fd': [-1, 1.0],\n '743246c0-9c16-497a-997b-2ab4b69a4f78': [-1, 1.0],\n '316a2a9a-1078-445e-960b-d1aba53a0dcb': [-1, 1.0],\n 'd9125039-c4c5-40de-a374-bbe9ae960331': [-1, 1.0],\n 'cf4350fc-3678-4dd6-bd0c-5fdd7ee72c97': [-1, 1.0],\n 'f05f7a7f-d61c-4087-a69a-6ba399792c62': [-1, 1.0],\n 'eb4f3616-56cb-4c8d-9260-98928899b935': [-1, 1.0],\n '114e3f42-4ef1-4cf8-85fc-baa8651c5c6b': [-1, 1.0],\n 'a36d61cf-97d2-4b58-b221-b2cd32f4ffdf': [-1, 1.0],\n 'c2017df8-d67d-4db0-92c5-b2f3b1707a11': [-1, 1.0],\n '416fd3e1-5514-4f75-a27c-ded0d6d29f38': [-1, 1.0],\n '830cc393-0e89-484f-b3c8-d9640b5c87bf': [-1, 1.0],\n 'e0f0ccc7-75f7-4186-9efd-2160ed17ce2c': [-1, 1.0],\n 'ad4e7e33-0822-4c45-ba88-8a361abef311': [-1, 1.0],\n '6b5795b8-e34a-439e-87f0-6d80595ebaed': [-1, 1.0],\n 'd1bff50f-0c52-4098-85dc-e390d59a043e': [-1, 1.0],\n 'a4af7437-0f88-4d18-afe8-22bdfd8136e2': [-1, 1.0],\n '52708f99-48ed-4ada-a18b-6ceda5b664f6': [-1, 1.0],\n '52da5680-bd46-489b-a671-9418c9c5ccc5': [-1, 1.0],\n 'f88c8723-b430-46c5-b0cf-48072a124c6b': [-1, 1.0],\n '7d2920ee-128a-41f6-ba17-0c6ca84ca7b4': [-1, 1.0],\n '3b80c1ba-0f83-47c7-8970-f753d5789247': [-1, 1.0],\n '36a9c4dd-d2fe-4b49-a4c7-1dd801605d43': [-1, 1.0],\n '480a6f1c-1e34-4202-928e-2c737ae20dc3': [-1, 1.0],\n '75ae404a-ff46-4f47-9a7e-66e40bb756bd': [-1, 1.0],\n 'e6137866-3a0c-489a-940b-52cc22b17c86': [-1, 1.0],\n '503d44bf-aaef-48d3-9a3e-8aba7c01485a': [-1, 1.0],\n '93cc4ade-c2f9-4ca6-afe3-c8c083e8df5a': [-1, 1.0],\n '98442e64-9f51-45cc-bea3-e08f0b3916d7': [-1, 1.0],\n '601dedeb-4832-4fb9-8ed4-8dc418ef6097': [-1, 1.0],\n '25b4fe81-9485-4195-8b08-a86e4653a15c': [-1, 1.0],\n '87efc68e-e181-40da-a3e7-b89eca9c2454': [-1, 1.0],\n '52917ca4-3b45-4007-80f8-16b61645f38e': [-1, 1.0],\n '3558ebe5-cd62-4cf4-a09e-3eb52e9b35a9': [-1, 1.0],\n '7278d20b-b229-4106-97b1-e903ac210063': [-1, 1.0],\n 'e9c48c41-eb5b-44fe-a74c-f57043c4f6e3': [-1, 1.0],\n '80833424-a2a6-4c0b-8c1c-ea47926ceb8d': [-1, 1.0],\n '249990ab-89ec-4e53-adf0-c8b4de701097': [-1, 1.0],\n 'f5f58986-0cf4-408d-8a9e-4a87daa5c0e3': [-1, 1.0],\n 'b7828f91-5613-41a0-8f2e-2190d25b6b93': [-1, 1.0],\n '48f8e434-3716-4153-b3cf-de1431c7404d': [-1, 1.0],\n 'd041cbe0-10e8-42b4-9389-615bbdc6f788': [-1, 1.0],\n '1c80ea98-1d60-4f9d-91b7-9aeaa55767c9': [-1, 1.0],\n '1965d78d-be8c-4ca7-9fc6-2d116ded64d8': [-1, 1.0],\n 'bd232f7a-9b52-4ba1-b173-8c4e4c48fcfe': [-1, 1.0],\n '152491a7-094b-4fdc-84aa-2287c1463cf8': [-1, 1.0],\n '23fecb7c-6265-48ae-89d9-446e21106917': [-1, 1.0],\n 'f3ecb7bf-569d-4785-a4a6-6a25cc8003cf': [-1, 1.0],\n '388a4165-0a5d-4669-94a0-e3f5da859320': [-1, 1.0],\n 'ed9f0c8b-15ac-4794-9aca-e22c16827197': [-1, 1.0],\n '87d6b6ed-48ce-42d7-8b93-410d9b9a6a97': [-1, 1.0],\n 'e5a2b43b-9f5f-471e-9847-2c7e49041b52': [-1, 1.0],\n 'd8b7bf75-eb0d-451b-ba52-eeaad8c1186b': [-1, 1.0],\n '96e444f2-226e-49d8-847d-66652640ece1': [-1, 1.0],\n '6718b20e-05fa-49ce-addf-088aa0dad1d8': [-1, 1.0],\n 'b17147b0-bc62-4b25-b960-2222595d426f': [-1, 1.0],\n '9bd63153-d152-4f6f-8f1d-c2491b783ecc': [-1, 1.0],\n 'd32ce1e2-df81-427e-a053-b330ba4ac10f': [-1, 1.0],\n '88a6de82-eb02-478e-8f3c-5c3bbe76cffe': [-1, 1.0],\n '37eab4e9-2e68-45d1-84db-22c848c78890': [-1, 1.0],\n '6fb5577f-5b46-465b-8376-171868ba32b7': [-1, 1.0],\n '88b28e75-ab3b-4be9-a818-c33cf63e4193': [-1, 1.0],\n '4dc36b5a-a125-46af-8403-67deb788b184': [-1, 1.0],\n 'b27da343-34a7-450b-8c52-2d5e356ecb12': [-1, 1.0],\n '3b5d2f0e-4b36-49ea-9cbd-8ac90fbcc080': [-1, 1.0],\n '8cff1449-8d0e-46b0-9b08-7e247f88d638': [-1, 1.0],\n '9527528d-52a8-47fa-878d-b45568a1383a': [-1, 1.0],\n 'a9f3eb69-592f-419b-901c-15e8aa80072b': [-1, 1.0],\n '8fbbe199-e808-4276-9d40-bcd367d205f8': [-1, 1.0],\n 'f35dcb13-fab9-4a4c-ab05-7cb5a7e9d405': [-1, 1.0],\n 'ea159e40-eef5-41bd-b2f7-d4529552e860': [-1, 1.0],\n '4f693686-5c02-48e2-ba5f-3b1f9e7083fb': [-1, 1.0],\n '9e5f3843-394c-4f42-afe3-a364b79d344c': [-1, 1.0],\n '4358c497-22ce-4fbb-9061-c47a731afa3b': [-1, 1.0],\n '66415970-5dbc-43d4-8e85-38e69eb5dae5': [-1, 1.0],\n '227435db-355f-4b90-8aa5-2d6be58f4ae9': [-1, 1.0],\n 'ba9c96bc-909a-4898-b82c-a1076a8ae713': [-1, 1.0],\n 'd927e4c8-b713-456f-8a76-f210827a2603': [-1, 1.0],\n '2ebb341e-5c82-43b9-8557-2bae990496d0': [-1, 1.0],\n '3f1d804a-a687-4f13-9a63-00b9464a18ae': [-1, 1.0],\n 'cd646d63-f238-4cc5-83b8-056d6c964035': [-1, 1.0],\n '3e60314f-40be-41b0-9679-1f7450b6ac93': [-1, 1.0],\n 'fc0efc89-a0c3-4fbb-94ef-4c30204efdc0': [-1, 1.0],\n 'bc3a636f-22a1-4453-a82d-798923725244': [-1, 1.0],\n '3032f2af-f485-4f87-90b9-0053c9bbc146': [-1, 1.0],\n 'b7daea7a-a634-4434-8539-5378abafd500': [-1, 1.0],\n 'a9f17cb2-e040-4424-9b4f-653cd24775ca': [-1, 1.0],\n '3028a370-0ecf-40b2-a1b9-86a6efcb4731': [-1, 1.0],\n '235a993b-0a4d-4f46-8b7c-0fdf23397644': [-1, 1.0],\n '6415a8bd-b5a9-4084-9021-81c37af8ba52': [-1, 1.0],\n '86432908-a928-49f9-a471-d9b923837f17': [-1, 1.0],\n 'd71b8d38-be17-4939-9ab9-0a401f944025': [-1, 1.0],\n '2f48da27-b931-450c-a956-99bed3b2b939': [-1, 1.0],\n '11a8b712-108a-4fee-b3cd-ce0dec8ecc42': [-1, 1.0],\n '495ff83e-b8de-4ffa-be0a-1723dad799fb': [-1, 1.0],\n '85d39592-bce6-4103-9a43-0ac3b382db12': [-1, 1.0],\n '8f7147d0-a6e8-4856-95b7-6426179e388f': [-1, 1.0],\n '3480a4d8-bff7-4341-93be-4b69b0da5460': [-1, 1.0],\n 'b5543125-e165-4ded-86c7-a1b01bcabee2': [-1, 1.0],\n '6234c80a-65eb-41b7-9e60-a761b2a62fe9': [-1, 1.0],\n '895784fb-c040-4c1c-95b1-7294ca04070e': [-1, 1.0],\n '45df3e39-3753-40ff-ac04-a0ff0ea9ef6d': [-1, 1.0],\n '06517316-36bd-49a3-a55a-f1429b0a1891': [-1, 1.0],\n '3cf712b5-4e17-4497-b912-ab1ad13de9b6': [-1, 1.0],\n 'cea47b5c-a492-46b5-baac-7cef0b4c6fb2': [-1, 1.0],\n '3b161876-1a91-4cd3-84bb-8fe03144d0df': [-1, 1.0],\n 'a9b9a39e-20a4-4917-ad23-973997df69b9': [-1, 1.0],\n 'baed2982-9137-47d7-a04e-56fa9353f565': [-1, 1.0],\n '2f13aa0c-f138-4ed5-8797-c65ae5d9e49c': [-1, 1.0],\n '34588dff-faf9-40b4-bb25-180106a7bb9d': [-1, 1.0],\n '2bb6f81f-1fa7-4198-9228-0d43d2ce590e': [-1, 1.0],\n '4d2e410b-bac1-4a4c-88d2-c557a3e41c26': [-1, 1.0],\n '578b3eb8-a793-4cd3-a830-f2cdcec671fa': [-1, 1.0],\n '1fbb0b77-d705-48bd-a990-90f6b4bd4e3a': [-1, 1.0],\n 'ebee0c79-6c23-4de8-9eaa-012f34577c16': [-1, 1.0],\n 'de1df2a2-3d63-4211-83d3-91359e5cb0d5': [-1, 1.0],\n 'c2faf3ac-1b5d-445a-be72-fa4c1a8cdd49': [-1, 1.0],\n 'b8a8ef6f-d284-4ff7-8fac-d7a8d04ca7e5': [-1, 1.0],\n '6599f22d-660c-425c-9b0e-f9b825d08725': [-1, 1.0],\n '66a1cea1-9de9-4479-9aba-2e92c6ffcd3f': [-1, 1.0],\n 'f7d58af3-6c80-4927-802a-0583362a8040': [-1, 1.0],\n 'fdc7c07b-2d6c-4113-9256-84e64e9ec62c': [-1, 1.0],\n 'd087d96b-6ee7-44d9-992e-4ee685f67290': [-1, 1.0],\n '8869500b-373e-49b0-8473-b8e38c9b6eed': [-1, 1.0],\n 'e3044893-802a-4ca8-be02-4dd513b98361': [-1, 1.0],\n 'd08d3a0c-c80e-46ed-b0a1-42ec07d6cc70': [-1, 1.0],\n 'c9679afe-2aac-4e80-afa5-3194211c544b': [-1, 1.0],\n '3eab1617-e2f1-4ab7-8bac-d3efcde80e55': [-1, 1.0],\n '85bd245c-dcea-4333-a2c1-2efb4e9d9cdb': [-1, 1.0],\n 'b4144e6e-3921-4938-9c25-f450f380c8b6': [-1, 1.0],\n '3fdc675f-46a6-44e6-b29b-2f7ab4c5bf96': [-1, 1.0],\n '05e52bc0-48a7-4225-95b7-5bd107062b0d': [-1, 1.0],\n '0fbb9764-c7d2-482f-88a5-9c95e03153d6': [-1, 1.0],\n '6540f64f-2a4c-467d-b6ed-ea9e8f750d30': [-1, 1.0],\n '355190f6-f656-45b8-a197-f8f13b5aecbc': [-1, 1.0],\n '5ffb1841-013f-4bd0-a1fa-0ac3e4830153': [-1, 1.0],\n '5d2cc87c-36a5-48d7-9f96-d2abe8f862b6': [-1, 1.0],\n '77a6bf39-46ad-4beb-960f-07baa6cfcf16': [-1, 1.0],\n '483eda45-f38a-4854-baff-e810bac2fe5f': [-1, 1.0],\n '7e38ae84-adeb-42c8-b4e4-23d797f32236': [-1, 1.0],\n '9501f5bf-24a7-47f2-bb5c-ba914b3a5094': [-1, 1.0],\n '9c162bc6-cf66-46af-abb4-9f8734159f8e': [-1, 1.0],\n '790105c4-f25d-4d54-bd9c-3a5b748494f9': [-1, 1.0],\n 'c7733322-d1a7-443e-8535-34b48a67c618': [-1, 1.0],\n '48b096fe-d265-4dc8-b44f-aa083285256b': [-1, 1.0],\n '34bbc15d-d2d2-47f9-ae3d-b272c1a776e3': [-1, 1.0],\n '2c01a555-a7dc-4b0a-8020-efd459ca35a9': [-1, 1.0],\n 'c95c70bc-15b0-47cf-ac3d-87dd48329301': [-1, 1.0],\n '9714eab5-888d-4fcb-a312-136314dce276': [-1, 1.0],\n '3476605d-55e8-4383-97e2-651c1f87e50e': [-1, 1.0],\n '4739a03b-cc6e-4281-8b85-692815b56124': [-1, 1.0],\n 'ec36a7eb-40b4-4b89-b2e1-62ef5be6cfef': [-1, 1.0],\n '908dfdc9-fe7b-482f-a6a7-a962be53d403': [-1, 1.0],\n '4fd196d5-0878-4c54-8930-d738e31f329c': [-1, 1.0],\n '88c34acc-fe5e-4c60-868a-da5f35324624': [-1, 1.0],\n '02519b96-f37e-4db5-8593-40a913fc554f': [-1, 1.0],\n 'b4659007-7742-471a-9b38-c8adffd37c75': [-1, 1.0],\n '74753249-8606-489c-9025-11adb115e2f0': [-1, 1.0],\n '8bf2c745-cc58-485b-83c7-c6cc261eab9a': [-1, 1.0],\n 'a6c793d6-855e-4922-8d5f-8c6bb6589217': [-1, 1.0],\n '89a48017-2d5e-451f-a8bb-d8e2d114dc15': [-1, 1.0],\n 'f3674104-aa45-494e-a010-0d8a4d5291a1': [-1, 1.0],\n '37a8894b-4b49-46da-ba8c-8c09f35abf1a': [-1, 1.0],\n '44c57c46-b0f2-4c15-9e68-b7ca9c46c226': [-1, 1.0],\n '3ebaf3ab-3d45-456c-96ae-8401c2219c61': [-1, 1.0],\n 'ebb6c290-6b79-4822-89d4-816c338c786a': [-1, 1.0],\n '7fc78497-39d5-4168-a0fe-0546aa919beb': [-1, 1.0],\n 'edc5817e-89df-4652-b886-e287caa71735': [-1, 1.0],\n 'e77371d3-66bc-48e7-81cb-757d1e5451b0': [-1, 1.0],\n 'b2dfafd5-28ec-4dbb-8e5a-d829776171c7': [-1, 1.0],\n 'fef4407e-10a3-4898-8b4f-7e1b577ac4b3': [-1, 1.0],\n '196ecfe1-3053-46bc-9b40-9973e40bb141': [-1, 1.0],\n 'ead721db-19ba-47c5-91a4-3d570285e28b': [-1, 1.0],\n 'e1ec2856-09fe-4dc6-9285-adb20b41da69': [-1, 1.0],\n '6fb1e58c-1d49-49fb-b45e-555668692a6c': [-1, 1.0],\n '7320ad46-fd0c-4c8c-ad2d-f65ea015bfff': [-1, 1.0],\n '2608d7a2-a92f-47e9-bb87-e57b5855aae7': [-1, 1.0],\n '2ed6c185-0fb1-42ce-afa5-02ce1790ca2d': [-1, 1.0],\n 'bad25ed2-80f4-443c-b955-367182905889': [-1, 1.0],\n 'b78db76d-8d50-4bbe-bd80-df726b1ddada': [-1, 1.0],\n '177f8c54-dcbc-4375-a5e5-e8c70a7e44a7': [-1, 1.0],\n 'a1722777-286c-4854-992e-6ea22c5236d3': [-1, 1.0],\n '7cc52742-84de-4a2c-a569-845a836e3c41': [-1, 1.0],\n '95a4eec7-a907-4757-b3f1-d571537d4dc9': [-1, 1.0],\n '0d57bb93-6a94-4cfe-92d8-8d06964fbf3c': [-1, 1.0],\n '83b25c70-fa11-4843-8b88-4e25fb8684b3': [-1, 1.0],\n 'dbd7778d-e844-46f4-b55c-7a83aebf0971': [-1, 1.0],\n '5878e701-1475-4968-8a8b-4356c60a7c1b': [-1, 1.0],\n '2d07dadf-4739-409b-bab0-5aeafb30448e': [-1, 1.0],\n '79e5bede-e49a-43de-afc9-1b22e43f3648': [-1, 1.0],\n '97a57512-bb19-4b43-a97a-151be87e0c14': [-1, 1.0],\n 'aec5df29-9266-493c-8e0e-79fd0ae85dad': [-1, 1.0],\n '0a46cc94-dcf9-4b63-9fc2-2304182fb353': [-1, 1.0],\n '901f79f4-eba1-428d-82e3-d17b203e2fb5': [-1, 1.0],\n 'b6f07214-b7bc-4be3-84f5-01954a1dc9fa': [-1, 1.0],\n 'ea05e0a6-a60c-4cd1-9a00-041d145ed492': [-1, 1.0],\n '26c4741e-1915-4293-8f99-5ad221782dcc': [-1, 1.0],\n 'bce5b0d7-6225-421a-bba4-60ef8942656d': [-1, 1.0],\n 'd2641c6d-f6a4-4af1-a970-0a21bc10b036': [-1, 1.0],\n '62fd30e2-2200-40c4-945d-82df2c3e3ab0': [-1, 1.0],\n 'ef6307a3-878f-414a-906c-4759150a59c4': [-1, 1.0],\n 'a4cec1c9-664d-4e0c-afb8-5bbb4840c5c3': [-1, 1.0],\n '020111e3-2aa1-43c6-b789-4f9e4a395546': [-1, 1.0],\n 'c83004db-4193-425c-9fd1-e58402b5c4e5': [-1, 1.0],\n '864a5b7c-2c5e-4c34-b078-de45e0c19a2a': [-1, 1.0],\n 'e6e0c996-5fb5-4a31-83a5-dc5609240d0b': [-1, 1.0],\n 'd4a6606f-7f19-4424-a95a-50579e7b894e': [-1, 1.0],\n 'c7fbf96c-60a9-46ea-b0d9-ef3440068f99': [-1, 1.0],\n '1a0250d7-0f06-42d5-9b70-61db062fc419': [-1, 1.0],\n '184f4294-f676-443d-9b98-c8cc9d75fae6': [-1, 1.0],\n 'cb48f019-9935-45ca-8249-4ed5743f499d': [-1, 1.0],\n '8bdcb204-33ce-41ec-91b0-1be3bfaa7097': [-1, 1.0],\n 'f328cf46-e377-4432-84ee-049c47fc1afa': [-1, 1.0],\n '23ebf545-cd1a-40ae-80a1-1500e7eb37f4': [-1, 1.0],\n '691f1321-dfdd-4f82-b25a-8d38d8379a80': [-1, 1.0],\n '1ea02e95-20aa-42b2-bfe7-47bb88c7e927': [-1, 1.0],\n '3ffac65f-f24c-4dfb-9f15-6c0cbb34e7f5': [-1, 1.0],\n '4cddf11c-3515-40ab-9365-7f89350228c1': [-1, 1.0],\n '448d8a79-328f-48c4-8ce7-682e6f0c4fbe': [-1, 1.0],\n '19c81bf3-ed34-454f-94d6-729e82e8203f': [-1, 1.0],\n '85873d8f-e887-4807-a141-b49a706d75a7': [-1, 1.0],\n '88cba411-e66f-4b40-8197-361de65058b9': [-1, 1.0],\n 'c4060224-b08b-40ca-8fbc-76d1d9dbf490': [-1, 1.0],\n '3b6f6e05-c8e6-44a0-9da0-ad026a65ec01': [-1, 1.0],\n '0cb4b2d4-c797-4b7c-905b-90df1e4e23b1': [-1, 1.0],\n '04f7f2ab-fc1e-4089-98a2-216a7088cf33': [-1, 1.0],\n '787f23e8-59e0-4a39-948c-7c41dbff1604': [-1, 1.0],\n 'facb8b9a-7d18-4e00-ac23-e4855558eed0': [-1, 1.0],\n 'c3583ae2-2d2c-44b9-b0f2-71c58eb10063': [-1, 1.0],\n '63260486-7618-4660-9445-7e4885e99042': [-1, 1.0],\n '667253fe-c95e-462d-943d-7b958a9f7fc0': [-1, 1.0],\n '636ce067-42d0-4069-a0e5-6770da8bdb6a': [-1, 1.0],\n '3928f202-2a5b-4b60-9f41-f1b91be6a39e': [-1, 1.0],\n '3c705cbf-e196-40cf-a4fa-f49e5edf4255': [-1, 1.0],\n '88355d10-e310-465b-a173-953dacf0b96d': [-1, 1.0],\n 'c336c6e0-43ad-4c0a-b822-2f7108d7d9bb': [-1, 1.0],\n '1531ccd4-1e6a-4a56-a95c-b380e9007a3e': [-1, 1.0],\n 'a042a725-c541-48f1-8d11-36a873f44dfe': [-1, 1.0],\n '5e6856cc-742e-49cf-ad29-975848427b2d': [-1, 1.0],\n '7335731a-47e5-4584-a959-3edde13b2878': [-1, 1.0],\n '1e924dfe-76a0-406c-b4d7-5578e9b8cedc': [-1, 1.0],\n '90eefd52-0271-49bc-bced-e43f715b6c46': [-1, 1.0],\n '531e59bf-5195-4d64-910f-5db7bc9e5661': [-1, 1.0],\n 'c6e3e57a-eb1d-4d93-b6b7-75a7411a298d': [-1, 1.0],\n '2b22b1c3-6887-47c1-90e4-69295ee4bba2': [-1, 1.0],\n 'ae88ed7a-0a87-4b68-8940-961bcc250cbd': [-1, 1.0],\n 'b450e029-80e6-4c74-b972-f13e806ea8fe': [-1, 1.0],\n '6a8aeb83-866c-4579-8508-1fb65fff2ff5': [-1, 1.0],\n 'aebec261-af96-4c4f-b2a9-564e11bf79aa': [-1, 1.0],\n 'bdb514bd-b6c6-4a62-939c-fc62042262c2': [-1, 1.0],\n 'ff4202d9-3cd6-4f5e-8b85-373bacd2f500': [-1, 1.0],\n '202c7f64-3501-4be6-a9fe-c064e223cab5': [-1, 1.0],\n '78e3277e-5aea-4651-a5c9-f0aaa542e5bc': [-1, 1.0],\n '4b615512-2960-4120-97d3-a586d068bcad': [-1, 1.0],\n '111b72e1-4039-4d4d-9a4c-27726e7545e1': [-1, 1.0],\n '195b5c16-7ca7-4376-9642-c9a55698bba6': [-1, 1.0],\n '901efb28-f158-4a24-ac29-b794944d36e4': [-1, 1.0],\n '46e816c1-a0b8-4fda-86f8-2beb83efa240': [-1, 1.0],\n '2cffed51-5979-416b-bd0e-843d20c96c37': [-1, 1.0],\n '2d94ff8d-43d2-4a0b-a73f-34547acf5b85': [-1, 1.0],\n 'c044b98b-d3ab-4f37-87bc-9c72b952df46': [-1, 1.0],\n '8604fdb3-402d-40a0-9437-9882d59e3348': [-1, 1.0],\n '6dda5bd2-6b83-42fa-bb78-eca907b1d6a2': [-1, 1.0],\n 'b6b8d061-f103-4da2-b42a-cae55b9a9206': [-1, 1.0],\n '672e9428-47d5-47d6-ac1f-4458e100913c': [-1, 1.0],\n '222fa21b-669d-4406-a01b-f4da2fc715d3': [-1, 1.0],\n '920b4bec-9db8-4f28-a506-27113dd6a820': [-1, 1.0],\n '9b89609f-61f8-4b7b-bd23-70502d73f31e': [-1, 1.0],\n '97fe9fb0-37a2-4e25-b034-39b5b4412b9e': [-1, 1.0],\n '42870fdc-6d5d-45c5-9269-8892ff1e85ad': [-1, 1.0],\n '10143b32-a573-4f4a-ba15-a7805e53c623': [-1, 1.0],\n '16f85505-6839-40c3-ac10-b08dec85fc4d': [-1, 1.0],\n '0d08a368-5a5b-4828-9031-c18905bf935a': [-1, 1.0],\n 'bf21ec08-32e7-44b7-85d8-24ea44f0ccd5': [-1, 1.0],\n '99aec32b-f2eb-4ed5-b68b-9fb69d205337': [-1, 1.0],\n 'ca353791-6692-435b-a0eb-e81ed426e857': [-1, 1.0],\n 'b5509921-0834-42fb-8ecc-304004df5ec7': [-1, 1.0],\n '2a3c48c3-712f-42c1-8cc9-219807f9eb41': [-1, 1.0],\n 'f02b81a9-257f-486a-9556-9ef891505d88': [-1, 1.0],\n '1572d847-f247-4fa0-a9d6-a2a4e9f02725': [-1, 1.0],\n 'fe91abcc-a2c4-4b78-b588-b6cb6aa861a7': [-1, 1.0],\n 'cfd4ebb0-6a10-4d0e-9d8d-b01e4b08ee6a': [-1, 1.0],\n 'f8a93ccf-fe91-4913-87a8-575f2c576c4c': [-1, 1.0],\n '3b86d6e5-af68-4443-843c-50ca4f9c1f09': [-1, 1.0],\n 'df55907b-7163-4a08-8697-5925bec47b93': [-1, 1.0],\n '00ff5627-038f-4a69-9ab2-3bbebb927042': [-1, 1.0],\n '25da4259-d385-4876-9f91-af10ceaf53c6': [-1, 1.0],\n '6f881293-bc1a-4a44-b8b5-7e6cd1a04996': [-1, 1.0],\n '346eb5a4-8f2b-41fd-9dc4-0dda373ace43': [-1, 1.0],\n 'ca0f19f9-9815-4507-9891-382973738c76': [-1, 1.0],\n '4a200034-f871-44fd-8bd7-d0db280368c5': [-1, 1.0],\n 'ea73f26a-fdc0-4b46-b2c7-aa40af90fec3': [-1, 1.0],\n '72bea7e6-4d5f-4ee2-bc5c-31598e28785e': [-1, 1.0],\n '36e20636-b093-4f39-9ced-56fa9ebc7a2e': [-1, 1.0],\n 'df9ae0de-a799-49ab-8bc0-bfe2b92a1936': [-1, 1.0],\n '0bd58a97-518a-48c8-a69f-b298db8e2d15': [-1, 1.0],\n '77c74cfd-5a71-4551-a753-8153cc6f2a55': [-1, 1.0],\n '7e03bb1b-eefd-45ce-b359-8a0144cac28a': [-1, 1.0],\n '060357b5-5fc5-49a2-a55d-ee3445f1cfbd': [-1, 1.0],\n 'd0e91731-efca-489e-9663-8e48baa1eb52': [-1, 1.0],\n '29a95757-c117-4dbb-a4ab-71a110655435': [-1, 1.0],\n 'f388f77e-12e2-4a75-b182-bfa1b884da75': [-1, 1.0],\n '1b5f7d51-52aa-42aa-b9e5-0d530f8154ed': [-1, 1.0],\n '51bff61b-b836-40e6-9839-8d1fa8f9c94d': [-1, 1.0],\n '237d6a07-f9ba-4949-9451-c82b486dbde6': [-1, 1.0],\n 'f08739f3-225a-4c28-aa0f-f5cead36f104': [-1, 1.0],\n '60f94897-0172-4cfb-bf9c-85f6d08f14b4': [-1, 1.0],\n '518c7931-a72d-45b4-8dfb-e9d70dca769f': [-1, 1.0],\n 'a9914cbb-c5f5-4b9e-aec9-8ff72aeee26f': [-1, 1.0],\n '930382e3-0892-4627-8336-2cf3c71d3e3f': [-1, 1.0],\n 'a8f01f13-f182-4071-98f3-8ba92728ef56': [-1, 1.0],\n '34994194-e468-478f-9e4b-7bd4823ef463': [-1, 1.0],\n '35b04c5c-382c-4761-a8b6-0ab1687ffa83': [-1, 1.0],\n '9d5f8656-678b-4c16-a3a1-e2db18fc78aa': [-1, 1.0],\n '21aa4a3f-cb92-4f9b-b769-c15f93326063': [-1, 1.0],\n '7e1d6750-5760-4bd7-8542-a327bfa1426a': [-1, 1.0],\n '2a06b5e8-5f1b-4ba3-b252-f86ac12a2b1d': [-1, 1.0],\n 'ec7a3544-3bf2-4d9c-ae58-54c43c614e92': [-1, 1.0],\n 'f5261cae-3e09-424a-89ef-b50ef73c7ac5': [-1, 1.0],\n '07b01fda-5e67-4710-8a39-df18fc6b5866': [-1, 1.0],\n '1b5a977d-749f-4d27-991f-8571e2e65c26': [-1, 1.0],\n '9ef2f00d-94cb-4bc7-b214-2b76b6a31be1': [-1, 1.0],\n '320a8b4a-8928-4271-a9e9-59aba918a184': [-1, 1.0],\n '7cd7cb12-1d94-4bf5-82dc-dccc0b15e1d8': [-1, 1.0],\n '23c84515-d37a-4e14-b153-7a5968e7abce': [-1, 1.0],\n '7c8ad451-d9d2-4d85-aa81-1eabc2f680bf': [-1, 1.0],\n '814e128d-bb2e-47c8-965f-38c27833a782': [-1, 1.0],\n '6bf6ecdd-a830-44d0-9a84-4464a35b2807': [-1, 1.0],\n '56b90d6a-1002-4f6f-a338-846376c8ddb8': [-1, 1.0],\n '3d55649a-c262-4ee8-bf42-67d94862c7d9': [-1, 1.0],\n 'ab0b4209-6fc7-4b4d-8844-7a84325b68c2': [-1, 1.0],\n 'd3dd0216-8e72-449f-bde9-f08226c5f7b9': [-1, 1.0],\n '2e0e89b3-3e3d-4d42-b8a1-bfba88e1b544': [-1, 1.0],\n '5b4ab782-f278-4d36-9c87-18ede83d0004': [-1, 1.0],\n '648883b3-ec2c-4ac7-93bd-9ef52f86b407': [-1, 1.0],\n 'a7271ac7-4f64-4875-949c-0682743bacc8': [-1, 1.0],\n '35c843db-a45b-4c7c-927d-e0bd8063f99c': [-1, 1.0],\n 'f98108f8-d036-44dd-b936-5075cefa639a': [-1, 1.0],\n '1b858130-a8f9-403b-8ddf-8029cf616722': [-1, 1.0],\n 'e923bb53-80dc-4e8b-a762-46ec7ad81201': [-1, 1.0],\n 'da6dd1c3-916c-4a9a-adc6-748572b8d64e': [-1, 1.0],\n '23c6c669-afec-48f4-9e90-f03eb1140a6b': [-1, 1.0],\n '486272da-ad3d-482b-a40a-35bfb7d3d35a': [-1, 1.0],\n '489a8874-4964-47cc-8171-e69ec3cde513': [-1, 1.0],\n 'fe82f61c-1f6f-44d3-a968-06cc2491f19b': [-1, 1.0],\n '1ceb9a14-9e29-49c4-b168-c3d374096806': [-1, 1.0],\n '9c8adcb7-11ee-4cd3-ae23-38476fe0de83': [-1, 1.0],\n '2f0257a7-292e-4c3c-aa13-663a8a3f0734': [-1, 1.0],\n '523f1815-8ca7-4419-997f-8e155043c7a3': [-1, 1.0],\n '40eaccb7-6b85-4550-9174-834ca9235a37': [-1, 1.0],\n 'fec69360-bc66-4e53-9194-4f771d3a929f': [-1, 1.0],\n '6a5cd365-dc90-4d99-9cf1-1fb88c34083a': [-1, 1.0],\n '16335121-e47c-49ab-b339-d15cf1b56a05': [-1, 1.0],\n '5fd1bb7d-faa9-44d7-91c1-51968e361c59': [-1, 1.0],\n 'e2fec86b-6725-4d95-b545-fa657102ed6a': [-1, 1.0],\n '8fe998ff-f597-4db7-b3f7-556eaf22cd9b': [-1, 1.0],\n '9c3f65d7-0374-4652-8ca3-46a5a3894777': [-1, 1.0],\n 'cddfa2b3-a105-4815-aeec-995bb0996aae': [-1, 1.0],\n '157ca767-fed0-4ee4-b563-8e98a87b00b3': [-1, 1.0],\n 'ac049fee-9a92-4bbf-a47b-74a7eb6123d0': [-1, 1.0],\n '8aa315e0-5f50-43b3-b090-c1fe9b7fd761': [-1, 1.0],\n '9ece9b58-9e47-4989-a4ec-c89e14369668': [-1, 1.0],\n '47d9df90-c502-4953-9dda-c32b78359a5f': [-1, 1.0],\n 'b6c6b819-1343-4234-be4c-811e64b81f72': [-1, 1.0],\n 'c81fac0f-16b2-45ba-bc0c-0fe58b5e7fdb': [-1, 1.0],\n '1fd33793-8e4a-47ba-a906-173c784b96e6': [-1, 1.0],\n '65ef7b98-446d-42bd-8f13-790c8f5e90ac': [-1, 1.0],\n 'dd0eb18b-6001-40fa-b05b-ac757f8282f1': [-1, 1.0],\n 'f58d7a27-2472-43f1-a966-e670c2c84c66': [-1, 1.0],\n '6e7c1eee-d244-4291-bc07-807b29cf29ce': [-1, 1.0],\n '34621533-a989-4af9-a288-d535999e0c36': [-1, 1.0],\n 'b117981b-abde-4e4d-a7fa-b8a72032a1a0': [-1, 1.0],\n '75014aef-3437-419e-a170-18e748a5746a': [-1, 1.0],\n 'f043217d-fa9d-4e0b-83c9-d5a5e31bb566': [-1, 1.0],\n 'a12b6a97-be2b-4f81-9a0d-31556156091e': [-1, 1.0],\n '67e299fe-cfd7-43f7-99cf-9c9f1bdaca75': [-1, 1.0],\n '6c03df33-bfc7-4037-b126-3ebad7287fc4': [-1, 1.0],\n 'c1cf00c7-dc4f-4d08-9e1e-e22914e58ae5': [-1, 1.0],\n '08811558-149b-4486-9ade-fc7cd7bb069b': [-1, 1.0],\n '17f9233c-6a22-41f9-adc0-8ec8c82758c3': [-1, 1.0],\n '53c45da9-7f89-4469-9753-d2af70452993': [-1, 1.0],\n 'fbb69a70-fadd-4ee6-b6b0-46ce4dbdc855': [-1, 1.0],\n '2f820690-7b84-4d8c-8149-70e3d09c457b': [-1, 1.0],\n 'd7fd6dce-5f8b-4171-841d-5615c086105a': [-1, 1.0],\n '06f03b9a-5db3-4a83-970b-af1b9dc349c3': [-1, 1.0],\n '731f8a9e-34f7-4fad-bfd3-c7f05fba3657': [-1, 1.0],\n 'f0c789a1-4877-4c87-a5c9-c0e93b3adce6': [-1, 1.0],\n '99faa828-da54-424f-914b-1294428b469d': [-1, 1.0],\n 'f1857baa-65f4-4ec1-863e-d7b06ed47b4b': [-1, 1.0],\n '48bf0ff7-745c-4b9a-88f0-2a6cc3ec3d3e': [-1, 1.0],\n '7611172a-b78c-4e2e-874f-4bacf15b5236': [-1, 1.0],\n '14ea9b31-867d-4f51-bc0f-9b37ff7ce5dd': [-1, 1.0],\n '287a1e38-a5c3-4706-a1e8-756fc1fb3e2c': [-1, 1.0],\n 'b1a245e6-cebc-40ee-9733-076db829da91': [-1, 1.0],\n 'b6558a3d-7341-4b1f-b44e-3fbfe024f65b': [-1, 1.0],\n 'eafaceb0-b376-467e-b75b-77413541e209': [-1, 1.0],\n '0156d05a-906b-43fb-bef9-600f8d49c740': [-1, 1.0],\n '2ceeacb0-20af-4345-a25e-d9745909bb56': [-1, 1.0],\n '153f2556-c816-4267-809d-81206c223323': [-1, 1.0],\n '36f9bfa8-51ba-4fb1-bcb4-3d91f0ee2943': [-1, 1.0],\n '8084a096-ae46-402f-867a-feef0a7ceaec': [-1, 1.0],\n '5e4e653a-e390-4692-a3ba-6f95a241cbf6': [-1, 1.0],\n 'd9b7ccef-8f89-437d-bd8f-85a90a1eaa9b': [-1, 1.0],\n 'c2db0a2e-6ca3-4096-b0d4-4eb6c19d21f5': [-1, 1.0],\n '9e7a29d9-ba1b-4d06-b17a-2d009a67ca44': [-1, 1.0],\n '785d0623-4b73-4609-a3a1-260d7831c1a2': [-1, 1.0],\n '5bb8a6aa-9561-49c5-a35d-0aba34a9cb18': [-1, 1.0],\n '79181855-6139-4e12-9cf1-4905572670a0': [-1, 1.0],\n '3edfcfad-6e17-407e-9e1a-df6961034043': [-1, 1.0],\n 'fbfd6334-e640-45fd-a612-c8cd0bc148c9': [-1, 1.0],\n '891a82cb-8a29-4c34-a832-bf8f06d19b27': [-1, 1.0],\n '363133bd-8202-44ba-be60-f10a6e2d5e4f': [-1, 1.0],\n '113180e3-1fc7-421e-9cd1-fcae3c18c5cd': [-1, 1.0],\n 'c90e0875-331f-4e09-b588-6401f97e3031': [-1, 1.0],\n '45c91c1d-fef6-42ef-81f9-3215d7498eb9': [-1, 1.0],\n '280a19b6-a767-4e7f-b6b4-e422d6876897': [-1, 1.0],\n 'ae8b4c8b-349c-40f4-b923-3f98abd9df04': [-1, 1.0],\n '61f51985-d777-4d80-835d-591454f923c0': [-1, 1.0],\n '792da89d-8bb7-47a2-bac6-512600756a3b': [-1, 1.0],\n 'ca38eab2-4069-47e6-95b2-8622aea49cb9': [-1, 1.0],\n '26f7bb43-98a6-4004-84e6-6be393e44aed': [-1, 1.0],\n '70329880-1952-464e-a7dd-84b5145a96fc': [-1, 1.0],\n 'ee82e164-0106-4e5c-80a4-7a9ae07e2ba4': [-1, 1.0],\n '7355e13d-ca09-452b-b796-126a9785d99b': [-1, 1.0],\n 'f7ff9308-a310-4420-9bfe-bb594e7a93af': [-1, 1.0]}"
     },
     "execution_count": 41,
     "metadata": {},
     "output_type": "execute_result"
    }
   ],
   "source": [
    "constraint_precent = 0.2\n",
    "subgroup_constraint = {}\n",
    "for provider, count in samples_all['subgroup'].value_counts().items():\n",
    "    subgroup_constraint[provider] = [-1, np.ceil(constraint_precent*count)]\n",
    "subgroup_constraint"
   ],
   "metadata": {
    "collapsed": false,
    "ExecuteTime": {
     "end_time": "2024-02-18T09:20:25.021750700Z",
     "start_time": "2024-02-18T09:20:24.791432800Z"
    }
   },
   "id": "923a7b75cce41ae1"
  },
  {
   "cell_type": "code",
   "execution_count": 42,
   "outputs": [],
   "source": [
    "user_1_cost_matrix = np.array([[0,10],[1,1]])\n",
    "user_2_cost_matrix = np.array([[0,20],[1,1]])\n",
    "user_3_cost_matrix = np.array([[0,30],[1,1]])"
   ],
   "metadata": {
    "collapsed": false,
    "ExecuteTime": {
     "end_time": "2024-02-18T09:20:25.856687500Z",
     "start_time": "2024-02-18T09:20:25.778006600Z"
    }
   },
   "id": "60da5b1e2493c1d5"
  },
  {
   "cell_type": "code",
   "execution_count": 43,
   "outputs": [
    {
     "data": {
      "text/plain": "array([[ 0, 10],\n       [ 1,  1]])"
     },
     "execution_count": 43,
     "metadata": {},
     "output_type": "execute_result"
    }
   ],
   "source": [
    "user_1_cost_matrix"
   ],
   "metadata": {
    "collapsed": false,
    "ExecuteTime": {
     "end_time": "2024-02-18T09:20:26.729198900Z",
     "start_time": "2024-02-18T09:20:26.661988500Z"
    }
   },
   "id": "c1240310fcbce1f3"
  },
  {
   "cell_type": "code",
   "execution_count": 44,
   "outputs": [],
   "source": [
    "np.random.seed(33)\n",
    "#users_split = np.random.randint(3, size=samples_all.shape[0])\n",
    "users_split = np.random.choice(np.arange(3), p=[0.1, 0.2, 0.7], size=samples_all.shape[0])"
   ],
   "metadata": {
    "collapsed": false,
    "ExecuteTime": {
     "end_time": "2024-02-18T09:20:27.399900800Z",
     "start_time": "2024-02-18T09:20:27.304226100Z"
    }
   },
   "id": "8c634c7a6381a771"
  },
  {
   "cell_type": "code",
   "execution_count": 45,
   "outputs": [
    {
     "data": {
      "text/plain": "(5000, 2, 2)"
     },
     "execution_count": 45,
     "metadata": {},
     "output_type": "execute_result"
    }
   ],
   "source": [
    "cost_matrix = []\n",
    "for i in users_split:\n",
    "    if i == 0:\n",
    "        cost_matrix.append(user_1_cost_matrix)\n",
    "    elif i == 1:\n",
    "        cost_matrix.append(user_2_cost_matrix)\n",
    "    else:\n",
    "        cost_matrix.append(user_3_cost_matrix)\n",
    "cost_matrix = np.array(cost_matrix)\n",
    "cost_matrix.shape"
   ],
   "metadata": {
    "collapsed": false,
    "ExecuteTime": {
     "end_time": "2024-02-18T09:20:28.190442500Z",
     "start_time": "2024-02-18T09:20:28.111920700Z"
    }
   },
   "id": "fded87b4815224c8"
  },
  {
   "cell_type": "code",
   "execution_count": 46,
   "outputs": [],
   "source": [
    "#cost_matrix = np.array([[0,1],[1,0]])\n",
    "global_constraint = [-1, 2000]"
   ],
   "metadata": {
    "collapsed": false,
    "ExecuteTime": {
     "end_time": "2024-02-18T09:20:28.764782Z",
     "start_time": "2024-02-18T09:20:28.745065400Z"
    }
   },
   "id": "cff6b55a7ee0161"
  },
  {
   "cell_type": "code",
   "execution_count": 47,
   "outputs": [
    {
     "name": "stdout",
     "output_type": "stream",
     "text": [
      "Number of variables = 10000\n",
      "Number of constraints = 6782\n",
      "Solution:\n",
      "Objective value = 29573.6\n",
      "\n",
      "Advanced usage:\n",
      "Problem solved in 2653 milliseconds\n",
      "Problem solved in 7005 iterations\n"
     ]
    }
   ],
   "source": [
    "# Without global constraint\n",
    "objective_function_value, predict_hard_or = operation_research_func(samples_all, cost_matrix, global_constraint, subgroup_constraint, random_state =42)"
   ],
   "metadata": {
    "collapsed": false,
    "ExecuteTime": {
     "end_time": "2024-02-18T09:20:32.042414Z",
     "start_time": "2024-02-18T09:20:29.345787100Z"
    }
   },
   "id": "c44d8fa21867b851"
  },
  {
   "cell_type": "code",
   "execution_count": 48,
   "outputs": [],
   "source": [
    "objective_value_heuristic, predict_hard_heuristic, cost_dot_proba = allocation_heuristic(samples_all, cost_matrix, global_constraint, subgroup_constraint, random_state =42)"
   ],
   "metadata": {
    "collapsed": false,
    "ExecuteTime": {
     "end_time": "2024-02-18T09:20:33.908132700Z",
     "start_time": "2024-02-18T09:20:32.039343500Z"
    }
   },
   "id": "504ba1a087b10690"
  },
  {
   "cell_type": "code",
   "execution_count": 49,
   "outputs": [
    {
     "data": {
      "text/plain": "29573.591885276044"
     },
     "execution_count": 49,
     "metadata": {},
     "output_type": "execute_result"
    }
   ],
   "source": [
    "objective_value_heuristic"
   ],
   "metadata": {
    "collapsed": false,
    "ExecuteTime": {
     "end_time": "2024-02-18T09:20:33.955639700Z",
     "start_time": "2024-02-18T09:20:33.913906Z"
    }
   },
   "id": "7394136fca8632f0"
  },
  {
   "cell_type": "code",
   "execution_count": 50,
   "outputs": [
    {
     "data": {
      "text/plain": "1416"
     },
     "execution_count": 50,
     "metadata": {},
     "output_type": "execute_result"
    }
   ],
   "source": [
    "sum(predict_hard_heuristic)"
   ],
   "metadata": {
    "collapsed": false,
    "ExecuteTime": {
     "end_time": "2024-02-18T09:20:34.019111100Z",
     "start_time": "2024-02-18T09:20:33.934363Z"
    }
   },
   "id": "17c176435eb0b8f7"
  },
  {
   "cell_type": "markdown",
   "source": [
    "The different allocation of the two methods, check if for each subgroup the probabilities are the same"
   ],
   "metadata": {
    "collapsed": false
   },
   "id": "ba6d72ef9713437f"
  },
  {
   "cell_type": "code",
   "execution_count": 51,
   "outputs": [
    {
     "data": {
      "text/plain": "             0         1                              subgroup\n8     0.782031  0.217969  9b9f5ceb-dea2-49db-8476-4530c1b0c92d\n11    0.531627  0.468373  f10c1b75-2c77-499f-953a-d98eb5302f3d\n16    0.306757  0.693243  a12f6956-9aca-4550-8caa-2e2f9532674c\n30    0.782031  0.217969  9b9f5ceb-dea2-49db-8476-4530c1b0c92d\n58    0.782031  0.217969  324ebb81-07ca-4fa2-9235-6f023e806cdd\n...        ...       ...                                   ...\n4873  0.782031  0.217969  9b9f5ceb-dea2-49db-8476-4530c1b0c92d\n4890  0.885391  0.114609  cccbcaeb-5de1-4f8b-899d-f4fd8bc70176\n4931  0.365181  0.634819  22f309a8-1746-49a7-bf6c-678729834573\n4974  0.885391  0.114609  d09f5a4f-89bd-4262-89a1-70703fcd1d94\n4984  0.365181  0.634819  856f211d-c66e-4db7-b910-7419900a70e1\n\n[228 rows x 3 columns]",
      "text/html": "<div>\n<style scoped>\n    .dataframe tbody tr th:only-of-type {\n        vertical-align: middle;\n    }\n\n    .dataframe tbody tr th {\n        vertical-align: top;\n    }\n\n    .dataframe thead th {\n        text-align: right;\n    }\n</style>\n<table border=\"1\" class=\"dataframe\">\n  <thead>\n    <tr style=\"text-align: right;\">\n      <th></th>\n      <th>0</th>\n      <th>1</th>\n      <th>subgroup</th>\n    </tr>\n  </thead>\n  <tbody>\n    <tr>\n      <th>8</th>\n      <td>0.782031</td>\n      <td>0.217969</td>\n      <td>9b9f5ceb-dea2-49db-8476-4530c1b0c92d</td>\n    </tr>\n    <tr>\n      <th>11</th>\n      <td>0.531627</td>\n      <td>0.468373</td>\n      <td>f10c1b75-2c77-499f-953a-d98eb5302f3d</td>\n    </tr>\n    <tr>\n      <th>16</th>\n      <td>0.306757</td>\n      <td>0.693243</td>\n      <td>a12f6956-9aca-4550-8caa-2e2f9532674c</td>\n    </tr>\n    <tr>\n      <th>30</th>\n      <td>0.782031</td>\n      <td>0.217969</td>\n      <td>9b9f5ceb-dea2-49db-8476-4530c1b0c92d</td>\n    </tr>\n    <tr>\n      <th>58</th>\n      <td>0.782031</td>\n      <td>0.217969</td>\n      <td>324ebb81-07ca-4fa2-9235-6f023e806cdd</td>\n    </tr>\n    <tr>\n      <th>...</th>\n      <td>...</td>\n      <td>...</td>\n      <td>...</td>\n    </tr>\n    <tr>\n      <th>4873</th>\n      <td>0.782031</td>\n      <td>0.217969</td>\n      <td>9b9f5ceb-dea2-49db-8476-4530c1b0c92d</td>\n    </tr>\n    <tr>\n      <th>4890</th>\n      <td>0.885391</td>\n      <td>0.114609</td>\n      <td>cccbcaeb-5de1-4f8b-899d-f4fd8bc70176</td>\n    </tr>\n    <tr>\n      <th>4931</th>\n      <td>0.365181</td>\n      <td>0.634819</td>\n      <td>22f309a8-1746-49a7-bf6c-678729834573</td>\n    </tr>\n    <tr>\n      <th>4974</th>\n      <td>0.885391</td>\n      <td>0.114609</td>\n      <td>d09f5a4f-89bd-4262-89a1-70703fcd1d94</td>\n    </tr>\n    <tr>\n      <th>4984</th>\n      <td>0.365181</td>\n      <td>0.634819</td>\n      <td>856f211d-c66e-4db7-b910-7419900a70e1</td>\n    </tr>\n  </tbody>\n</table>\n<p>228 rows × 3 columns</p>\n</div>"
     },
     "execution_count": 51,
     "metadata": {},
     "output_type": "execute_result"
    }
   ],
   "source": [
    "diff_samples = samples_all[predict_hard_heuristic != predict_hard_or]\n",
    "diff_samples"
   ],
   "metadata": {
    "collapsed": false,
    "ExecuteTime": {
     "end_time": "2024-02-18T09:20:35.736220900Z",
     "start_time": "2024-02-18T09:20:35.621199300Z"
    }
   },
   "id": "62ffe21ae0ca02e4"
  },
  {
   "cell_type": "code",
   "execution_count": 52,
   "outputs": [],
   "source": [
    "# to check if for each subgroup in the different allocation have the same probabilities\n",
    "for s in diff_samples['subgroup'].unique():\n",
    "    if diff_samples[diff_samples['subgroup'] == s][1].value_counts().shape[0] >1:   \n",
    "        print(s, '\\n')\n",
    "        print(diff_samples[diff_samples['subgroup'] == s][1].value_counts().shape[0], '\\n')"
   ],
   "metadata": {
    "collapsed": false,
    "ExecuteTime": {
     "end_time": "2024-02-18T09:20:36.785330100Z",
     "start_time": "2024-02-18T09:20:36.697031700Z"
    }
   },
   "id": "aa1778ab78c55b17"
  },
  {
   "cell_type": "code",
   "execution_count": null,
   "outputs": [],
   "source": [],
   "metadata": {
    "collapsed": false
   },
   "id": "21d379bc47666657"
  },
  {
   "cell_type": "code",
   "execution_count": null,
   "outputs": [],
   "source": [],
   "metadata": {
    "collapsed": false
   },
   "id": "ebb62375652dc926"
  },
  {
   "cell_type": "code",
   "execution_count": null,
   "outputs": [],
   "source": [],
   "metadata": {
    "collapsed": false
   },
   "id": "1d7cfd2420535587"
  },
  {
   "cell_type": "code",
   "execution_count": null,
   "outputs": [],
   "source": [],
   "metadata": {
    "collapsed": false
   },
   "id": "80f9a485ecacaf1a"
  },
  {
   "cell_type": "code",
   "execution_count": null,
   "outputs": [],
   "source": [],
   "metadata": {
    "collapsed": false
   },
   "id": "569861503f79b271"
  },
  {
   "cell_type": "code",
   "execution_count": null,
   "outputs": [],
   "source": [],
   "metadata": {
    "collapsed": false
   },
   "id": "b5576d550e787528"
  },
  {
   "cell_type": "code",
   "execution_count": null,
   "outputs": [],
   "source": [],
   "metadata": {
    "collapsed": false
   },
   "id": "a2c9258f3b239026"
  },
  {
   "cell_type": "code",
   "execution_count": null,
   "outputs": [],
   "source": [],
   "metadata": {
    "collapsed": false
   },
   "id": "bd49fb4746348909"
  },
  {
   "cell_type": "code",
   "execution_count": 53,
   "outputs": [
    {
     "data": {
      "text/plain": "2"
     },
     "execution_count": 53,
     "metadata": {},
     "output_type": "execute_result"
    }
   ],
   "source": [
    "samples_all[samples_all['subgroup'] == s][1].value_counts().shape[0]"
   ],
   "metadata": {
    "collapsed": false,
    "ExecuteTime": {
     "end_time": "2024-02-18T09:20:37.800346300Z",
     "start_time": "2024-02-18T09:20:37.736002Z"
    }
   },
   "id": "25a611611f7a8396"
  },
  {
   "cell_type": "code",
   "execution_count": 54,
   "outputs": [],
   "source": [
    "samples_all['predict_hard_max'] = samples_all[[0, 1]].idxmax(axis=\"columns\").astype(int)"
   ],
   "metadata": {
    "collapsed": false,
    "ExecuteTime": {
     "end_time": "2024-02-18T09:20:38.458212600Z",
     "start_time": "2024-02-18T09:20:38.396341900Z"
    }
   },
   "id": "73f8cb60fe7c55db"
  },
  {
   "cell_type": "code",
   "execution_count": 576,
   "outputs": [
    {
     "data": {
      "text/plain": "array([[2410,  976],\n       [ 326, 1288]], dtype=int64)"
     },
     "execution_count": 576,
     "metadata": {},
     "output_type": "execute_result"
    }
   ],
   "source": [
    "confusion_matrix(y_test, samples_all['predict_hard_max'])"
   ],
   "metadata": {
    "collapsed": false,
    "ExecuteTime": {
     "end_time": "2024-02-12T11:44:02.561239500Z",
     "start_time": "2024-02-12T11:44:02.452776800Z"
    }
   },
   "id": "b1c752827e5f4ce"
  },
  {
   "cell_type": "code",
   "execution_count": 577,
   "outputs": [
    {
     "data": {
      "text/plain": "array([[3003,  383],\n       [ 997,  617]], dtype=int64)"
     },
     "execution_count": 577,
     "metadata": {},
     "output_type": "execute_result"
    }
   ],
   "source": [
    "confusion_matrix(y_test, predict_hard_heuristic)"
   ],
   "metadata": {
    "collapsed": false,
    "ExecuteTime": {
     "end_time": "2024-02-12T11:44:04.079707100Z",
     "start_time": "2024-02-12T11:44:03.858525500Z"
    }
   },
   "id": "db88befde6f71ec1"
  },
  {
   "cell_type": "code",
   "execution_count": 578,
   "outputs": [
    {
     "data": {
      "text/plain": "array([[2999,  387],\n       [1001,  613]], dtype=int64)"
     },
     "execution_count": 578,
     "metadata": {},
     "output_type": "execute_result"
    }
   ],
   "source": [
    "confusion_matrix(y_test, predict_hard_or)"
   ],
   "metadata": {
    "collapsed": false,
    "ExecuteTime": {
     "end_time": "2024-02-12T11:44:05.497899700Z",
     "start_time": "2024-02-12T11:44:05.170517400Z"
    }
   },
   "id": "3a865958a407b7c6"
  },
  {
   "cell_type": "code",
   "execution_count": 184,
   "outputs": [
    {
     "name": "stdout",
     "output_type": "stream",
     "text": [
      "Number of variables = 10000\n",
      "Number of constraints = 5002\n",
      "Solution:\n",
      "Objective value = 40382.3\n",
      "\n",
      "Advanced usage:\n",
      "Problem solved in 2423 milliseconds\n",
      "Problem solved in 5880 iterations\n"
     ]
    }
   ],
   "source": [
    "# Without local constraint\n",
    "objective_function_value, predict_hard= operation_research_func(samples_all, cost_matrix, global_constraint, subgroup_constraint, random_state =42)"
   ],
   "metadata": {
    "collapsed": false,
    "ExecuteTime": {
     "end_time": "2024-01-30T09:46:52.334623300Z",
     "start_time": "2024-01-30T09:46:49.846302700Z"
    }
   },
   "id": "c30ccc24dc2d3bfa"
  },
  {
   "cell_type": "code",
   "execution_count": 185,
   "outputs": [
    {
     "data": {
      "text/plain": "500"
     },
     "execution_count": 185,
     "metadata": {},
     "output_type": "execute_result"
    }
   ],
   "source": [
    "sum(predict_hard)"
   ],
   "metadata": {
    "collapsed": false,
    "ExecuteTime": {
     "end_time": "2024-01-30T09:46:52.336651200Z",
     "start_time": "2024-01-30T09:46:52.310440Z"
    }
   },
   "id": "87b47b8933b00b84"
  },
  {
   "cell_type": "code",
   "execution_count": 201,
   "outputs": [
    {
     "name": "stdout",
     "output_type": "stream",
     "text": [
      "Number of variables = 10000\n",
      "Number of constraints = 6782\n",
      "Solution:\n",
      "Objective value = 29573.6\n",
      "\n",
      "Advanced usage:\n",
      "Problem solved in 3496 milliseconds\n",
      "Problem solved in 7008 iterations\n"
     ]
    }
   ],
   "source": [
    "# With all constraint\n",
    "objective_function_value, predict_hard= operation_research_func(samples_all, cost_matrix, global_constraint, subgroup_constraint, random_state =42)"
   ],
   "metadata": {
    "collapsed": false,
    "ExecuteTime": {
     "end_time": "2024-01-30T09:53:21.221960600Z",
     "start_time": "2024-01-30T09:53:17.691228800Z"
    }
   },
   "id": "15f1e970"
  },
  {
   "cell_type": "code",
   "execution_count": 202,
   "outputs": [
    {
     "data": {
      "text/plain": "1416"
     },
     "execution_count": 202,
     "metadata": {},
     "output_type": "execute_result"
    }
   ],
   "source": [
    "sum(predict_hard)"
   ],
   "metadata": {
    "collapsed": false,
    "ExecuteTime": {
     "end_time": "2024-01-30T09:53:21.241479600Z",
     "start_time": "2024-01-30T09:53:21.220951200Z"
    }
   },
   "id": "4177bdcef4cfd1af"
  },
  {
   "cell_type": "code",
   "execution_count": 205,
   "outputs": [],
   "source": [
    "samples_all['y_true'] = y_test"
   ],
   "metadata": {
    "collapsed": false,
    "ExecuteTime": {
     "end_time": "2024-01-30T09:59:43.130540800Z",
     "start_time": "2024-01-30T09:59:43.091672500Z"
    }
   },
   "id": "ad07c336c9d9055c"
  },
  {
   "cell_type": "code",
   "execution_count": 206,
   "outputs": [],
   "source": [
    "y_pred_const = np.array(samples_all['predict_hard_constraint'])\n"
   ],
   "metadata": {
    "collapsed": false,
    "ExecuteTime": {
     "end_time": "2024-01-30T09:59:43.899737400Z",
     "start_time": "2024-01-30T09:59:43.874363300Z"
    }
   },
   "id": "dd5f1c5ba22c2681"
  },
  {
   "cell_type": "code",
   "execution_count": 207,
   "outputs": [],
   "source": [
    "y_pred_clf = np.array(samples_all['predict_hard_max'])\n"
   ],
   "metadata": {
    "collapsed": false,
    "ExecuteTime": {
     "end_time": "2024-01-30T09:59:44.412304100Z",
     "start_time": "2024-01-30T09:59:44.322953800Z"
    }
   },
   "id": "d37ccd8257f8cd68"
  },
  {
   "cell_type": "code",
   "execution_count": 208,
   "outputs": [
    {
     "data": {
      "text/plain": "array([[2320,  416],\n       [1264, 1000]], dtype=int64)"
     },
     "execution_count": 208,
     "metadata": {},
     "output_type": "execute_result"
    }
   ],
   "source": [
    "confusion_matrix(y_pred_clf, y_pred_const)"
   ],
   "metadata": {
    "collapsed": false,
    "ExecuteTime": {
     "end_time": "2024-01-30T09:59:45.053840Z",
     "start_time": "2024-01-30T09:59:44.964767900Z"
    }
   },
   "id": "40e356ce7c31372e"
  },
  {
   "cell_type": "code",
   "execution_count": 209,
   "outputs": [
    {
     "data": {
      "text/plain": "array([[2648,  738],\n       [ 936,  678]], dtype=int64)"
     },
     "execution_count": 209,
     "metadata": {},
     "output_type": "execute_result"
    }
   ],
   "source": [
    "confusion_matrix(y_test, y_pred_const)"
   ],
   "metadata": {
    "collapsed": false,
    "ExecuteTime": {
     "end_time": "2024-01-30T09:59:46.111228100Z",
     "start_time": "2024-01-30T09:59:46.049915500Z"
    }
   },
   "id": "e9b19cb4afe4f3f8"
  },
  {
   "cell_type": "code",
   "execution_count": 210,
   "outputs": [
    {
     "data": {
      "text/plain": "array([[2410,  976],\n       [ 326, 1288]], dtype=int64)"
     },
     "execution_count": 210,
     "metadata": {},
     "output_type": "execute_result"
    }
   ],
   "source": [
    "confusion_matrix(y_test, y_pred_clf)"
   ],
   "metadata": {
    "collapsed": false,
    "ExecuteTime": {
     "end_time": "2024-01-30T09:59:47.002688900Z",
     "start_time": "2024-01-30T09:59:46.952489100Z"
    }
   },
   "id": "37d33abfec405913"
  },
  {
   "cell_type": "code",
   "execution_count": 211,
   "outputs": [],
   "source": [
    "subgroup_info = samples_all.groupby(['subgroup']).sum()[['predict_hard_constraint', 'predict_hard_max', 'y_true']]\n",
    "subgroup_info['n_sample'] = samples_all.groupby(['subgroup']).count()[0]\n",
    "subgroup_info['constraint'] = np.ceil(samples_all.groupby(['subgroup']).count()[0]*constraint_precent)"
   ],
   "metadata": {
    "collapsed": false,
    "ExecuteTime": {
     "end_time": "2024-01-30T09:59:48.879107400Z",
     "start_time": "2024-01-30T09:59:48.803858500Z"
    }
   },
   "id": "40ad970cee678840"
  },
  {
   "cell_type": "code",
   "execution_count": 212,
   "outputs": [
    {
     "data": {
      "text/plain": "                                      predict_hard_constraint  \\\nsubgroup                                                        \n00c7cc34-c4a8-432c-9a1d-53e54b3da2a9                        2   \n00ff5627-038f-4a69-9ab2-3bbebb927042                        1   \n0156d05a-906b-43fb-bef9-600f8d49c740                        0   \n020111e3-2aa1-43c6-b789-4f9e4a395546                        1   \n02519b96-f37e-4db5-8593-40a913fc554f                        0   \n...                                                       ...   \nfe91abcc-a2c4-4b78-b588-b6cb6aa861a7                        0   \nfec69360-bc66-4e53-9194-4f771d3a929f                        1   \nfef4407e-10a3-4898-8b4f-7e1b577ac4b3                        1   \nff0a8a6a-9236-4f4d-833f-b5cf4e03fdbf                        1   \nff4202d9-3cd6-4f5e-8b85-373bacd2f500                        1   \n\n                                      predict_hard_max  y_true  n_sample  \\\nsubgroup                                                                   \n00c7cc34-c4a8-432c-9a1d-53e54b3da2a9                 0     1.0         6   \n00ff5627-038f-4a69-9ab2-3bbebb927042                 1     0.0         1   \n0156d05a-906b-43fb-bef9-600f8d49c740                 0     0.0         1   \n020111e3-2aa1-43c6-b789-4f9e4a395546                 1     1.0         1   \n02519b96-f37e-4db5-8593-40a913fc554f                 0     0.0         1   \n...                                                ...     ...       ...   \nfe91abcc-a2c4-4b78-b588-b6cb6aa861a7                 0     0.0         1   \nfec69360-bc66-4e53-9194-4f771d3a929f                 1     0.0         1   \nfef4407e-10a3-4898-8b4f-7e1b577ac4b3                 0     0.0         1   \nff0a8a6a-9236-4f4d-833f-b5cf4e03fdbf                 1     1.0         1   \nff4202d9-3cd6-4f5e-8b85-373bacd2f500                 1     0.0         1   \n\n                                      constraint  \nsubgroup                                          \n00c7cc34-c4a8-432c-9a1d-53e54b3da2a9         2.0  \n00ff5627-038f-4a69-9ab2-3bbebb927042         1.0  \n0156d05a-906b-43fb-bef9-600f8d49c740         1.0  \n020111e3-2aa1-43c6-b789-4f9e4a395546         1.0  \n02519b96-f37e-4db5-8593-40a913fc554f         1.0  \n...                                          ...  \nfe91abcc-a2c4-4b78-b588-b6cb6aa861a7         1.0  \nfec69360-bc66-4e53-9194-4f771d3a929f         1.0  \nfef4407e-10a3-4898-8b4f-7e1b577ac4b3         1.0  \nff0a8a6a-9236-4f4d-833f-b5cf4e03fdbf         1.0  \nff4202d9-3cd6-4f5e-8b85-373bacd2f500         1.0  \n\n[890 rows x 5 columns]",
      "text/html": "<div>\n<style scoped>\n    .dataframe tbody tr th:only-of-type {\n        vertical-align: middle;\n    }\n\n    .dataframe tbody tr th {\n        vertical-align: top;\n    }\n\n    .dataframe thead th {\n        text-align: right;\n    }\n</style>\n<table border=\"1\" class=\"dataframe\">\n  <thead>\n    <tr style=\"text-align: right;\">\n      <th></th>\n      <th>predict_hard_constraint</th>\n      <th>predict_hard_max</th>\n      <th>y_true</th>\n      <th>n_sample</th>\n      <th>constraint</th>\n    </tr>\n    <tr>\n      <th>subgroup</th>\n      <th></th>\n      <th></th>\n      <th></th>\n      <th></th>\n      <th></th>\n    </tr>\n  </thead>\n  <tbody>\n    <tr>\n      <th>00c7cc34-c4a8-432c-9a1d-53e54b3da2a9</th>\n      <td>2</td>\n      <td>0</td>\n      <td>1.0</td>\n      <td>6</td>\n      <td>2.0</td>\n    </tr>\n    <tr>\n      <th>00ff5627-038f-4a69-9ab2-3bbebb927042</th>\n      <td>1</td>\n      <td>1</td>\n      <td>0.0</td>\n      <td>1</td>\n      <td>1.0</td>\n    </tr>\n    <tr>\n      <th>0156d05a-906b-43fb-bef9-600f8d49c740</th>\n      <td>0</td>\n      <td>0</td>\n      <td>0.0</td>\n      <td>1</td>\n      <td>1.0</td>\n    </tr>\n    <tr>\n      <th>020111e3-2aa1-43c6-b789-4f9e4a395546</th>\n      <td>1</td>\n      <td>1</td>\n      <td>1.0</td>\n      <td>1</td>\n      <td>1.0</td>\n    </tr>\n    <tr>\n      <th>02519b96-f37e-4db5-8593-40a913fc554f</th>\n      <td>0</td>\n      <td>0</td>\n      <td>0.0</td>\n      <td>1</td>\n      <td>1.0</td>\n    </tr>\n    <tr>\n      <th>...</th>\n      <td>...</td>\n      <td>...</td>\n      <td>...</td>\n      <td>...</td>\n      <td>...</td>\n    </tr>\n    <tr>\n      <th>fe91abcc-a2c4-4b78-b588-b6cb6aa861a7</th>\n      <td>0</td>\n      <td>0</td>\n      <td>0.0</td>\n      <td>1</td>\n      <td>1.0</td>\n    </tr>\n    <tr>\n      <th>fec69360-bc66-4e53-9194-4f771d3a929f</th>\n      <td>1</td>\n      <td>1</td>\n      <td>0.0</td>\n      <td>1</td>\n      <td>1.0</td>\n    </tr>\n    <tr>\n      <th>fef4407e-10a3-4898-8b4f-7e1b577ac4b3</th>\n      <td>1</td>\n      <td>0</td>\n      <td>0.0</td>\n      <td>1</td>\n      <td>1.0</td>\n    </tr>\n    <tr>\n      <th>ff0a8a6a-9236-4f4d-833f-b5cf4e03fdbf</th>\n      <td>1</td>\n      <td>1</td>\n      <td>1.0</td>\n      <td>1</td>\n      <td>1.0</td>\n    </tr>\n    <tr>\n      <th>ff4202d9-3cd6-4f5e-8b85-373bacd2f500</th>\n      <td>1</td>\n      <td>1</td>\n      <td>0.0</td>\n      <td>1</td>\n      <td>1.0</td>\n    </tr>\n  </tbody>\n</table>\n<p>890 rows × 5 columns</p>\n</div>"
     },
     "execution_count": 212,
     "metadata": {},
     "output_type": "execute_result"
    }
   ],
   "source": [
    "subgroup_info"
   ],
   "metadata": {
    "collapsed": false,
    "ExecuteTime": {
     "end_time": "2024-01-30T09:59:49.424495300Z",
     "start_time": "2024-01-30T09:59:49.328601400Z"
    }
   },
   "id": "88dc713e9ffadea2"
  },
  {
   "cell_type": "code",
   "execution_count": 213,
   "outputs": [],
   "source": [
    "sliced_df = samples_all[samples_all['subgroup'] =='02531004-4599-4177-9d7d-00bc85a200c6']"
   ],
   "metadata": {
    "collapsed": false,
    "ExecuteTime": {
     "end_time": "2024-01-30T09:59:55.951428200Z",
     "start_time": "2024-01-30T09:59:55.905285900Z"
    }
   },
   "id": "e7f9055849165708"
  },
  {
   "cell_type": "code",
   "execution_count": 214,
   "outputs": [
    {
     "data": {
      "text/plain": "array([[128,  14],\n       [ 71,  36]], dtype=int64)"
     },
     "execution_count": 214,
     "metadata": {},
     "output_type": "execute_result"
    }
   ],
   "source": [
    "confusion_matrix(sliced_df['y_true'], sliced_df['predict_hard_constraint'])"
   ],
   "metadata": {
    "collapsed": false,
    "ExecuteTime": {
     "end_time": "2024-01-30T09:59:56.614813700Z",
     "start_time": "2024-01-30T09:59:56.523190200Z"
    }
   },
   "id": "b897f3aedea259d8"
  },
  {
   "cell_type": "code",
   "execution_count": 215,
   "outputs": [
    {
     "data": {
      "text/plain": "array([[60, 82],\n       [14, 93]], dtype=int64)"
     },
     "execution_count": 215,
     "metadata": {},
     "output_type": "execute_result"
    }
   ],
   "source": [
    "confusion_matrix(sliced_df['y_true'], sliced_df['predict_hard_max'])"
   ],
   "metadata": {
    "collapsed": false,
    "ExecuteTime": {
     "end_time": "2024-01-30T09:59:58.028488200Z",
     "start_time": "2024-01-30T09:59:58.006377800Z"
    }
   },
   "id": "387e9c72aac5ddf3"
  },
  {
   "cell_type": "code",
   "execution_count": 93,
   "outputs": [
    {
     "data": {
      "text/plain": "1614.0"
     },
     "execution_count": 93,
     "metadata": {},
     "output_type": "execute_result"
    }
   ],
   "source": [
    "subgroup_info['y_true'].sum()"
   ],
   "metadata": {
    "collapsed": false,
    "ExecuteTime": {
     "end_time": "2024-01-29T14:29:05.465188900Z",
     "start_time": "2024-01-29T14:29:05.433406800Z"
    }
   },
   "id": "13965fc22930f14d"
  },
  {
   "cell_type": "code",
   "execution_count": 94,
   "outputs": [
    {
     "data": {
      "text/plain": "Text(0, 0.5, 'sum of positive under the constraint')"
     },
     "execution_count": 94,
     "metadata": {},
     "output_type": "execute_result"
    },
    {
     "data": {
      "text/plain": "<Figure size 640x480 with 1 Axes>",
      "image/png": "[encoded data removed]"
     },
     "metadata": {},
     "output_type": "display_data"
    }
   ],
   "source": [
    "plt.scatter(subgroup_info['y_true'], subgroup_info['predict_hard_constraint'])\n",
    "plt.xlabel('sum of true positive')\n",
    "plt.ylabel('sum of positive under the constraint')\n"
   ],
   "metadata": {
    "collapsed": false,
    "ExecuteTime": {
     "end_time": "2024-01-29T14:29:08.276824800Z",
     "start_time": "2024-01-29T14:29:08.016183100Z"
    }
   },
   "id": "b8b0327c405ebefd"
  },
  {
   "cell_type": "code",
   "execution_count": null,
   "outputs": [],
   "source": [],
   "metadata": {
    "collapsed": false
   },
   "id": "9601790ebe063506"
  }
 ],
 "metadata": {
  "kernelspec": {
   "display_name": "Python 3",
   "language": "python",
   "name": "python3"
  },
  "language_info": {
   "codemirror_mode": {
    "name": "ipython",
    "version": 3
   },
   "file_extension": ".py",
   "mimetype": "text/x-python",
   "name": "python",
   "nbconvert_exporter": "python",
   "pygments_lexer": "ipython3",
   "version": "3.8.5"
  }
 },
 "nbformat": 4,
 "nbformat_minor": 5
}
