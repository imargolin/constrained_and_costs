{
 "cells": [
  {
   "cell_type": "code",
   "execution_count": 1,
   "metadata": {},
   "outputs": [],
   "source": [
    "import logging\n",
    "logging.basicConfig(level=logging.DEBUG)\n",
    "from ada_csl_wrc.utils import say_hello\n",
    "from ada_csl_wrc.logger import get_logger, set_logging_level"
   ]
  },
  {
   "cell_type": "code",
   "execution_count": 14,
   "metadata": {},
   "outputs": [
    {
     "name": "stderr",
     "output_type": "stream",
     "text": [
      "\u001b[31;1m2023-12-08 15:19:01,677 - ada_csl_wrc.utils - CRITICAL - critical message (utils.py:203)\u001b[0m\n"
     ]
    }
   ],
   "source": [
    "set_logging_level(logging.CRITICAL)\n",
    "say_hello()"
   ]
  },
  {
   "cell_type": "code",
   "execution_count": 8,
   "metadata": {},
   "outputs": [
    {
     "data": {
      "text/plain": [
       "<Logger sklearn (DEBUG)>"
      ]
     },
     "execution_count": 8,
     "metadata": {},
     "output_type": "execute_result"
    }
   ],
   "source": [
    "logging.root.manager.loggerDict[\"sklearn\"]"
   ]
  },
  {
   "cell_type": "code",
   "execution_count": 3,
   "metadata": {},
   "outputs": [],
   "source": [
    "set_logging_level(logging.WARNING)"
   ]
  },
  {
   "cell_type": "code",
   "execution_count": null,
   "metadata": {},
   "outputs": [],
   "source": []
  },
  {
   "cell_type": "code",
   "execution_count": 15,
   "metadata": {},
   "outputs": [],
   "source": [
    "set_logging_level(logging.WARNING)"
   ]
  },
  {
   "cell_type": "code",
   "execution_count": 16,
   "metadata": {},
   "outputs": [],
   "source": [
    "say_hello()"
   ]
  },
  {
   "cell_type": "code",
   "execution_count": 4,
   "metadata": {},
   "outputs": [],
   "source": [
    "logger = get_logger(\"asd\")"
   ]
  },
  {
   "cell_type": "code",
   "execution_count": 6,
   "metadata": {},
   "outputs": [
    {
     "name": "stderr",
     "output_type": "stream",
     "text": [
      "2023-12-08 13:06:32,563 DEBUG asd: asd\n"
     ]
    }
   ],
   "source": [
    "logger.debug(\"asd\")"
   ]
  },
  {
   "cell_type": "code",
   "execution_count": 7,
   "metadata": {},
   "outputs": [
    {
     "name": "stderr",
     "output_type": "stream",
     "text": [
      "2023-12-08 13:06:38,952 INFO ada_csl_wrc.utils: Hello from utils.py\n"
     ]
    }
   ],
   "source": []
  },
  {
   "cell_type": "code",
   "execution_count": 8,
   "metadata": {},
   "outputs": [],
   "source": [
    "logger = get_logger(__name__)"
   ]
  },
  {
   "cell_type": "code",
   "execution_count": 9,
   "metadata": {},
   "outputs": [],
   "source": [
    "logging.info('This is a debug message')"
   ]
  },
  {
   "cell_type": "code",
   "execution_count": 10,
   "metadata": {},
   "outputs": [],
   "source": [
    "logger.info(\"Hello from main.py\")"
   ]
  },
  {
   "cell_type": "code",
   "execution_count": 12,
   "metadata": {},
   "outputs": [
    {
     "data": {
      "text/plain": [
       "<Logger __main__ (WARNING)>"
      ]
     },
     "execution_count": 12,
     "metadata": {},
     "output_type": "execute_result"
    }
   ],
   "source": [
    "logger"
   ]
  },
  {
   "cell_type": "code",
   "execution_count": 11,
   "metadata": {},
   "outputs": [],
   "source": []
  },
  {
   "cell_type": "code",
   "execution_count": null,
   "metadata": {},
   "outputs": [],
   "source": []
  },
  {
   "cell_type": "code",
   "execution_count": null,
   "metadata": {},
   "outputs": [],
   "source": []
  },
  {
   "cell_type": "code",
   "execution_count": 1,
   "metadata": {},
   "outputs": [],
   "source": [
    "from xgboost import XGBClassifier"
   ]
  },
  {
   "cell_type": "code",
   "execution_count": null,
   "metadata": {},
   "outputs": [],
   "source": [
    "from ada"
   ]
  },
  {
   "cell_type": "code",
   "execution_count": null,
   "metadata": {},
   "outputs": [],
   "source": [
    "y_test = pd.Series([1, 1, 1, 1, 1, 1, 1, 1, 1, 1])\n",
    "\n",
    "y_pred = pd.Series([0.1, 0.2, 0.3, 0.4, 0.5, 0.6,0.7,0.8,0.9,1])\n",
    "provider_id = pd.Series([\"a\", \"a\", \"a\", \"b\", \"b\", \"b\", \"c\", \"c\", \"c\", \"c\"])\n",
    "\n",
    "constraints = {\n",
    "    \"global_constraint\": 0.2, # The maximum ratio of \"1\" allowed in the prediction\n",
    "    \"local_constraints\": { \n",
    "        \"a\": 0.6, # The maximum ratio of \"1\" allowed in the prediction from all rows with this provider\n",
    "        \"b\": 1.0, # it means this provider is not constrained\n",
    "        \"c\": 0.0 # it means we are not allowed to predict \"1\" for this provider\n",
    "    }\n",
    "}\n",
    "\n",
    "constraint = RelativeConstraint(constraints[\"global_constraint\"], constraints[\"local_constraints\"])\n",
    "loose_constraint = AbsoluteConstraint(100, {\"a\": 100, \"b\": 100, \"c\": 100})\n",
    "impossible_constraint = RelativeConstraint(0.3, {\"a\": 1.0, \"b\": 1.0, \"c\": 1.0})\n",
    "only_global_constraint = RelativeConstraint(0.3, {\"c\": 0.50})\n",
    "some_abs_constraint = AbsoluteConstraint(1, {\"c\": 2, \"b\":1})\n",
    "\n",
    "benchmark_algorithm(y_pred, provider_id, some_abs_constraint)"
   ]
  }
 ],
 "metadata": {
  "kernelspec": {
   "display_name": "ucp",
   "language": "python",
   "name": "python3"
  },
  "language_info": {
   "codemirror_mode": {
    "name": "ipython",
    "version": 3
   },
   "file_extension": ".py",
   "mimetype": "text/x-python",
   "name": "python",
   "nbconvert_exporter": "python",
   "pygments_lexer": "ipython3",
   "version": "3.11.5"
  }
 },
 "nbformat": 4,
 "nbformat_minor": 2
}
